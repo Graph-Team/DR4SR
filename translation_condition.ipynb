{
 "cells": [
  {
   "cell_type": "code",
   "execution_count": 3,
   "metadata": {},
   "outputs": [],
   "source": [
    "import torch\n",
    "import torch.nn as nn\n",
    "import torch.nn.functional as F\n",
    "from copy import deepcopy\n",
    "from torch.nn.utils.rnn import pad_sequence\n",
    "from utils.reparam_module import ReparamModule\n",
    "import numpy as np\n",
    "import random\n",
    "from tqdm import tqdm"
   ]
  },
  {
   "cell_type": "markdown",
   "metadata": {},
   "source": [
    "# Enviroment"
   ]
  },
  {
   "cell_type": "code",
   "execution_count": 4,
   "metadata": {},
   "outputs": [],
   "source": [
    "seed = 2024\n",
    "\n",
    "random.seed(seed)\n",
    "np.random.seed(seed)\n",
    "torch.manual_seed(seed)\n",
    "torch.cuda.manual_seed(seed)\n",
    "torch.backends.cudnn.deterministic = True"
   ]
  },
  {
   "cell_type": "markdown",
   "metadata": {},
   "source": [
    "# Dataset"
   ]
  },
  {
   "cell_type": "code",
   "execution_count": 13,
   "metadata": {},
   "outputs": [],
   "source": [
    "dataset_name = 'sport'\n",
    "full_dataset_name = 'amazon-sport'\n",
    "num_item_dict = {\n",
    "    'toy': 11925,\n",
    "    'sport': 18358,\n",
    "}\n",
    "path = f'./{dataset_name}-pair.pth'\n",
    "data = torch.load(path)\n",
    "num_item = num_item_dict[dataset_name]\n",
    "SOS = num_item\n",
    "EOS = num_item + 1"
   ]
  },
  {
   "cell_type": "code",
   "execution_count": 6,
   "metadata": {},
   "outputs": [],
   "source": [
    "source, target = [], []\n",
    "source_seqlen, target_seqlen = [], []\n",
    "for _ in data:\n",
    "    s, t = _\n",
    "    source_seqlen.append(len(s) + 2)\n",
    "    target_seqlen.append(len(t) + 2)\n",
    "    s = torch.tensor([SOS] + s + [EOS])\n",
    "    t = torch.tensor([SOS] + t + [EOS])\n",
    "    source.append(s)\n",
    "    target.append(t)\n",
    "source = pad_sequence(source, batch_first=True, padding_value=0)\n",
    "target = pad_sequence(target, batch_first=True, padding_value=0)\n",
    "if target.shape[1] < 20:\n",
    "    target = torch.cat([target, torch.zeros(target.shape[0], 20 - target.shape[1], dtype=torch.int)], dim=-1)\n",
    "source_seqlen = torch.tensor(source_seqlen)\n",
    "target_seqlen = torch.tensor(target_seqlen)"
   ]
  },
  {
   "cell_type": "code",
   "execution_count": 7,
   "metadata": {},
   "outputs": [],
   "source": [
    "from torch.utils.data import Dataset, DataLoader\n",
    "class MyDataset(Dataset):\n",
    "    def __init__(\n",
    "            self,\n",
    "            source,\n",
    "            target,\n",
    "            source_seqlen,\n",
    "            target_seqlen,\n",
    "        ) -> None:\n",
    "        super().__init__()\n",
    "        self.source = source.to('cuda')\n",
    "        self.target = target.to('cuda')\n",
    "        self.source_seq_len = source_seqlen.to('cuda')\n",
    "        self.target_seq_len = target_seqlen.to('cuda')\n",
    "\n",
    "    def __len__(self):\n",
    "        return len(self.source)\n",
    "\n",
    "    def __getitem__(self, index):\n",
    "        src = self.source[index]\n",
    "        tgt = self.target[index]\n",
    "        src_len = self.source_seq_len[index]\n",
    "        tgt_len = self.target_seq_len[index]\n",
    "        return src, tgt, src_len, tgt_len"
   ]
  },
  {
   "cell_type": "markdown",
   "metadata": {},
   "source": [
    "# Model"
   ]
  },
  {
   "cell_type": "code",
   "execution_count": 8,
   "metadata": {},
   "outputs": [],
   "source": [
    "from utils import normal_initialization\n",
    "from module.layers import SeqPoolingLayer\n",
    "\n",
    "class ConditionEncoder(nn.Module):\n",
    "    def __init__(self, K) -> None:\n",
    "        super().__init__()\n",
    "        transformer_layer = nn.TransformerEncoderLayer(\n",
    "            d_model=64,\n",
    "            nhead=2,\n",
    "            dim_feedforward=256,\n",
    "            dropout=0.5,\n",
    "            activation='gelu',\n",
    "            layer_norm_eps=1e-12,\n",
    "            batch_first=True,\n",
    "        )\n",
    "        self.encoder = nn.TransformerEncoder(\n",
    "            encoder_layer=transformer_layer,\n",
    "            num_layers=1,\n",
    "        )\n",
    "        self.condition_layer = nn.Sequential(\n",
    "            nn.Linear(64, 64),\n",
    "            nn.ReLU(),\n",
    "            nn.Linear(64, K),\n",
    "        )\n",
    "        self.condition_emb = nn.Embedding(K, 64)\n",
    "        self.pooling_layer = SeqPoolingLayer('mean')\n",
    "        self.tau = 5\n",
    "\n",
    "    def forward(self, trm_input, src_mask, memory_key_padding_mask, src_seqlen):\n",
    "        trm_out = self.encoder(\n",
    "            src=trm_input,\n",
    "            mask=src_mask,  # BxLxD\n",
    "            src_key_padding_mask=memory_key_padding_mask,\n",
    "        )\n",
    "        trm_out = self.pooling_layer(trm_out, src_seqlen) # BD\n",
    "        condition = self.condition_layer(trm_out) # BK\n",
    "        condition = F.gumbel_softmax(condition, tau=self.tau, dim=-1) # BK\n",
    "        self.tau = max(self.tau * 0.999, 0.2)\n",
    "        rst = condition @ self.condition_emb.weight # BD\n",
    "        return rst.unsqueeze(1)\n",
    "\n",
    "class Generator(nn.Module):\n",
    "    def __init__(self) -> None:\n",
    "        super().__init__()\n",
    "        self.item_embedding = nn.Embedding(num_item + 2, 64, padding_idx=0)\n",
    "        self.item_embedding_decoder = nn.Embedding(num_item + 2, 64, padding_idx=0)\n",
    "        self.transformer = nn.Transformer(\n",
    "            d_model=64,\n",
    "            nhead=2,\n",
    "            num_encoder_layers=2,\n",
    "            num_decoder_layers=2,\n",
    "            dim_feedforward=256,\n",
    "            dropout=0.5,\n",
    "            activation='gelu',\n",
    "            layer_norm_eps=1e-12,\n",
    "            batch_first=True,\n",
    "        )\n",
    "        self.dropout = nn.Dropout(0.5)\n",
    "        self.position_embedding = torch.nn.Embedding(50, 64)\n",
    "        self.condition_encoder = ConditionEncoder(5)\n",
    "        self.device = 'cuda'\n",
    "        self.apply(normal_initialization)\n",
    "        # self.load_pretrained()\n",
    "\n",
    "    def load_pretrained(self):\n",
    "        # path = 'saved/SASRec8/amazon-toys-seq-noise-50/2024-01-24-16-37-41-603118.ckpt'\n",
    "        path = 'saved/SASRec7/amazon-toys-seq-noise-50/2024-01-24-17-16-57-368371.ckpt'\n",
    "        saved = torch.load(path, map_location='cpu')\n",
    "        pretrained = saved['parameters']['item_embedding.weight']\n",
    "        pretrained = torch.cat([\n",
    "            pretrained,\n",
    "            nn.init.normal_(torch.zeros(2, 64), std=0.02)\n",
    "        ])\n",
    "        self.item_embedding = nn.Embedding.from_pretrained(pretrained, padding_idx=0, freeze=False)\n",
    "\n",
    "    def forward(self, src, tgt, src_mask, tgt_mask,\n",
    "            src_padding_mask,\n",
    "            tgt_padding_mask,\n",
    "            memory_key_padding_mask,\n",
    "            src_seqlen,\n",
    "            tgt_seqlen,\n",
    "        ):\n",
    "        position_ids = torch.arange(src.size(1), dtype=torch.long, device=self.device)\n",
    "        position_ids = position_ids.reshape(1, -1)\n",
    "        src_position_embedding = self.position_embedding(position_ids)\n",
    "        src_emb = self.dropout(self.item_embedding(src) + src_position_embedding)\n",
    "\n",
    "        con_emb = self.condition_encoder(src_emb, src_mask, src_padding_mask, src_seqlen)\n",
    "\n",
    "        position_ids = torch.arange(tgt.size(1), dtype=torch.long, device=self.device)\n",
    "        position_ids = position_ids.reshape(1, -1)\n",
    "        tgt_position_embedding = self.position_embedding(position_ids)\n",
    "        tgt_emb = self.dropout(\n",
    "            torch.cat([con_emb, self.item_embedding(tgt[:, 1:])], dim=1) + \\\n",
    "            tgt_position_embedding\n",
    "        ) # replace [SOS] with condition embedding\n",
    "\n",
    "        outs = self.transformer(\n",
    "            src_emb, tgt_emb, src_mask, tgt_mask, None,\n",
    "            src_padding_mask, tgt_padding_mask, memory_key_padding_mask\n",
    "        )\n",
    "\n",
    "        return outs @ self.item_embedding_decoder.weight.T\n",
    "    \n",
    "    def encode(self, src, src_mask):\n",
    "        position_ids = torch.arange(src.size(1), dtype=torch.long, device=self.device)\n",
    "        position_ids = position_ids.reshape(1, -1)\n",
    "        src_position_embedding = self.position_embedding(position_ids)\n",
    "        src_emb = self.dropout(self.item_embedding(src) + src_position_embedding)\n",
    "\n",
    "        return self.transformer.encoder(src_emb, src_mask)\n",
    "\n",
    "    def set_condition(self, condition):\n",
    "        self.conditon = condition\n",
    "\n",
    "    def decode(self, tgt, memory, tgt_mask):\n",
    "        # position_ids = torch.arange(tgt.size(1), dtype=torch.long, device=self.device)\n",
    "        # position_ids = position_ids.reshape(1, -1)\n",
    "        # tgt_position_embedding = self.position_embedding(position_ids)\n",
    "        # tgt_emb = self.dropout(self.item_embedding(tgt) + tgt_position_embedding)\n",
    "        \n",
    "        # return self.transformer.decoder(tgt_emb, memory, tgt_mask)\n",
    "        con_emb = self.condition_encoder.condition_emb.weight[self.condition].unsqueeze(0).unsqueeze(0)\n",
    "        position_ids = torch.arange(tgt.size(1), dtype=torch.long, device=self.device)\n",
    "        position_ids = position_ids.reshape(1, -1)\n",
    "        tgt_position_embedding = self.position_embedding(position_ids)\n",
    "        if tgt.shape[1] == 1:\n",
    "            # only SOS in\n",
    "            tgt_emb = self.dropout(con_emb + tgt_position_embedding)\n",
    "        else:\n",
    "            # replace SOS with Condition embedding\n",
    "            tgt_emb = self.dropout(\n",
    "                torch.cat([con_emb, self.item_embedding(tgt[:, 1:])], dim=1) + \\\n",
    "                tgt_position_embedding\n",
    "            )\n",
    "        \n",
    "        return self.transformer.decoder(tgt_emb, memory, tgt_mask)\n",
    "\n",
    "def generate_square_subsequent_mask(sz):\n",
    "    mask = (torch.triu(torch.ones((sz, sz), device='cuda')) == 1).transpose(0, 1)\n",
    "    mask = mask.float().masked_fill(mask == 0, -100000).masked_fill(mask == 1, float(0.0))\n",
    "    return mask\n",
    "\n",
    "def create_mask(src, tgt):\n",
    "    src_seq_len = src.shape[1]\n",
    "    tgt_seq_len = tgt.shape[1]\n",
    "\n",
    "    tgt_mask = generate_square_subsequent_mask(tgt_seq_len)\n",
    "    src_mask = torch.zeros((src_seq_len, src_seq_len),device='cuda').type(torch.bool)\n",
    "\n",
    "    src_padding_mask = (src == 0)\n",
    "    tgt_padding_mask = (tgt == 0)\n",
    "    return src_mask, tgt_mask, src_padding_mask, tgt_padding_mask\n"
   ]
  },
  {
   "cell_type": "markdown",
   "metadata": {},
   "source": [
    "# Train"
   ]
  },
  {
   "cell_type": "code",
   "execution_count": 9,
   "metadata": {},
   "outputs": [],
   "source": [
    "model = Generator().to('cuda')\n",
    "loss_fn = nn.CrossEntropyLoss(ignore_index=0)\n",
    "optimizer = torch.optim.Adam(model.parameters(), lr=0.001, betas=(0.9, 0.98), eps=1e-9, weight_decay=1e-3)\n",
    "dataset = MyDataset(source, target, source_seqlen, target_seqlen)"
   ]
  },
  {
   "cell_type": "code",
   "execution_count": 10,
   "metadata": {},
   "outputs": [],
   "source": [
    "def train_epoch(model, optimizer):\n",
    "    model.train()\n",
    "    losses = 0\n",
    "    train_dataloader = DataLoader(dataset, batch_size=256, shuffle=True)\n",
    "    for src, tgt, src_seqlen, tgt_seqlen in tqdm(train_dataloader):\n",
    "        tgt_input = tgt[:, :-1]\n",
    "        src_mask, tgt_mask, src_padding_mask, tgt_padding_mask = create_mask(src, tgt_input)\n",
    "        logits = model(\n",
    "            src, tgt_input, src_mask, tgt_mask,\n",
    "            src_padding_mask, tgt_padding_mask, src_padding_mask,\n",
    "            src_seqlen, tgt_seqlen)\n",
    "        optimizer.zero_grad()\n",
    "        tgt_out = tgt[:, 1:]\n",
    "        loss = loss_fn(logits.reshape(-1, logits.shape[-1]), tgt_out.reshape(-1))\n",
    "        loss.backward()\n",
    "\n",
    "        optimizer.step()\n",
    "        losses += loss.item()\n",
    "    return losses / len(list(train_dataloader))"
   ]
  },
  {
   "cell_type": "code",
   "execution_count": 26,
   "metadata": {},
   "outputs": [
    {
     "name": "stderr",
     "output_type": "stream",
     "text": [
      "100%|██████████| 257/257 [00:52<00:00,  4.89it/s]\n"
     ]
    },
    {
     "name": "stdout",
     "output_type": "stream",
     "text": [
      "Epoch: 1, Train loss: 3.676, Epoch time = 53.654s\n"
     ]
    },
    {
     "name": "stderr",
     "output_type": "stream",
     "text": [
      "100%|██████████| 257/257 [00:52<00:00,  4.90it/s]\n"
     ]
    },
    {
     "name": "stdout",
     "output_type": "stream",
     "text": [
      "Epoch: 2, Train loss: 3.659, Epoch time = 53.341s\n"
     ]
    },
    {
     "name": "stderr",
     "output_type": "stream",
     "text": [
      "100%|██████████| 257/257 [00:52<00:00,  4.92it/s]\n"
     ]
    },
    {
     "name": "stdout",
     "output_type": "stream",
     "text": [
      "Epoch: 3, Train loss: 3.641, Epoch time = 53.042s\n"
     ]
    },
    {
     "name": "stderr",
     "output_type": "stream",
     "text": [
      "100%|██████████| 257/257 [00:52<00:00,  4.86it/s]\n"
     ]
    },
    {
     "name": "stdout",
     "output_type": "stream",
     "text": [
      "Epoch: 4, Train loss: 3.626, Epoch time = 53.636s\n"
     ]
    },
    {
     "name": "stderr",
     "output_type": "stream",
     "text": [
      "100%|██████████| 257/257 [00:52<00:00,  4.91it/s]\n"
     ]
    },
    {
     "name": "stdout",
     "output_type": "stream",
     "text": [
      "Epoch: 5, Train loss: 3.612, Epoch time = 53.175s\n"
     ]
    },
    {
     "name": "stderr",
     "output_type": "stream",
     "text": [
      "100%|██████████| 257/257 [00:52<00:00,  4.94it/s]\n"
     ]
    },
    {
     "name": "stdout",
     "output_type": "stream",
     "text": [
      "Epoch: 6, Train loss: 3.595, Epoch time = 52.923s\n"
     ]
    },
    {
     "name": "stderr",
     "output_type": "stream",
     "text": [
      "100%|██████████| 257/257 [00:51<00:00,  4.97it/s]\n"
     ]
    },
    {
     "name": "stdout",
     "output_type": "stream",
     "text": [
      "Epoch: 7, Train loss: 3.580, Epoch time = 52.550s\n"
     ]
    },
    {
     "name": "stderr",
     "output_type": "stream",
     "text": [
      "100%|██████████| 257/257 [00:52<00:00,  4.88it/s]\n"
     ]
    },
    {
     "name": "stdout",
     "output_type": "stream",
     "text": [
      "Epoch: 8, Train loss: 3.562, Epoch time = 53.764s\n"
     ]
    },
    {
     "name": "stderr",
     "output_type": "stream",
     "text": [
      "100%|██████████| 257/257 [00:52<00:00,  4.92it/s]\n"
     ]
    },
    {
     "name": "stdout",
     "output_type": "stream",
     "text": [
      "Epoch: 9, Train loss: 3.548, Epoch time = 53.076s\n"
     ]
    },
    {
     "name": "stderr",
     "output_type": "stream",
     "text": [
      "100%|██████████| 257/257 [00:52<00:00,  4.90it/s]\n"
     ]
    },
    {
     "name": "stdout",
     "output_type": "stream",
     "text": [
      "Epoch: 10, Train loss: 3.536, Epoch time = 53.251s\n"
     ]
    }
   ],
   "source": [
    "from timeit import default_timer as timer\n",
    "NUM_EPOCHS = 10\n",
    "\n",
    "for epoch in range(1, NUM_EPOCHS+1):\n",
    "    start_time = timer()\n",
    "    train_loss = train_epoch(model, optimizer)\n",
    "    end_time = timer()\n",
    "    print((f\"Epoch: {epoch}, Train loss: {train_loss:.3f}, \"f\"Epoch time = {(end_time - start_time):.3f}s\"))"
   ]
  },
  {
   "cell_type": "code",
   "execution_count": 14,
   "metadata": {},
   "outputs": [],
   "source": [
    "torch.save(model.state_dict(), f'translator-{dataset_name}-con.pth')"
   ]
  },
  {
   "cell_type": "markdown",
   "metadata": {},
   "source": [
    "# Inference"
   ]
  },
  {
   "cell_type": "code",
   "execution_count": 15,
   "metadata": {},
   "outputs": [],
   "source": [
    "def greedy_decode(model, src, src_mask, max_len, start_symbol):\n",
    "    src = src.to('cuda')\n",
    "    src_mask = src_mask.to('cuda')\n",
    "\n",
    "    memory = model.encode(src, src_mask)\n",
    "    ys = torch.ones(1, 1).fill_(start_symbol).type(torch.long).to('cuda')\n",
    "    for i in range(max_len-1):\n",
    "        memory = memory.to('cuda')\n",
    "        tgt_mask = (generate_square_subsequent_mask(ys.size(1))\n",
    "                    .type(torch.bool)).to('cuda')\n",
    "        out = model.decode(ys, memory, tgt_mask)\n",
    "        prob = out[:, -1] @ model.item_embedding_decoder.weight.T\n",
    "        _, next_word = torch.max(prob, dim=-1)\n",
    "        next_word = next_word.item()\n",
    "\n",
    "        ys = torch.cat([ys,\n",
    "                        torch.ones(1, 1).type_as(src.data).fill_(next_word)], dim=1)\n",
    "        if next_word == EOS:\n",
    "            break\n",
    "    return ys\n",
    "\n",
    "def translate(model: torch.nn.Module, src):\n",
    "    model.eval()\n",
    "    src = src.reshape(1, -1)\n",
    "    num_tokens = src.shape[1]\n",
    "    src_mask = (torch.zeros(num_tokens, num_tokens)).type(torch.bool)\n",
    "    tgt_tokens = greedy_decode(\n",
    "        model, src, src_mask, max_len=25, start_symbol=SOS).flatten()\n",
    "    return tgt_tokens\n",
    "\n"
   ]
  },
  {
   "cell_type": "code",
   "execution_count": 16,
   "metadata": {},
   "outputs": [],
   "source": [
    "def preprocess(seq):\n",
    "    return torch.tensor([SOS] + seq + [EOS], device='cuda')\n",
    "original_data = torch.load(f'./dataset/{full_dataset_name}-noise-50/{dataset_name}/train_ori.pth')\n",
    "seqlist = [_[1][:_[3]] + [_[2][_[3] - 1]] for _ in original_data]\n",
    "seqlist = [preprocess(_) for _ in seqlist]\n",
    "# seqlist = pad_sequence(seqlist, batch_first=True).to('cuda')\n",
    "# seqlen = torch.tensor([_[3] for _ in original_data], device='cuda')"
   ]
  },
  {
   "cell_type": "code",
   "execution_count": 24,
   "metadata": {},
   "outputs": [
    {
     "name": "stdout",
     "output_type": "stream",
     "text": [
      "tensor([18358,  7216,  3088,  1543,  7170, 11503,  6678,  9199,  4282,     1,\n",
      "        13469,  2323,  5045,  6555, 15279,  4124,  8803, 14213, 18359,     0,\n",
      "            0,     0,     0,     0,     0,     0,     0,     0,     0,     0,\n",
      "            0,     0,     0,     0,     0,     0,     0,     0,     0,     0,\n",
      "            0,     0,     0,     0,     0,     0,     0,     0,     0,     0])\n",
      "tensor([18358,  4282,  8803, 18359,     0,     0,     0,     0,     0,     0,\n",
      "            0,     0,     0,     0,     0,     0,     0,     0,     0,     0])\n"
     ]
    }
   ],
   "source": [
    "idx = 0\n",
    "print(source[idx])\n",
    "translate(model, source[idx])\n",
    "print(target[idx])"
   ]
  },
  {
   "cell_type": "code",
   "execution_count": 17,
   "metadata": {},
   "outputs": [
    {
     "name": "stderr",
     "output_type": "stream",
     "text": [
      "100%|██████████| 100/100 [00:13<00:00,  7.17it/s]\n"
     ]
    }
   ],
   "source": [
    "model.condition = 0\n",
    "filtered_sequences = []\n",
    "for seq in tqdm(seqlist[:100]):\n",
    "    rst = translate(model, seq)\n",
    "    filtered_sequences.append(rst)"
   ]
  },
  {
   "cell_type": "code",
   "execution_count": 22,
   "metadata": {},
   "outputs": [
    {
     "data": {
      "text/plain": [
       "[tensor([18358,     1, 11982, 15853,  3328, 13373, 17788, 18359],\n",
       "        device='cuda:0'),\n",
       " tensor([18358,  7216,  3088,  1543,  7170, 11503,  6678,  9199,  4282,     1,\n",
       "         13469,  2323,  5045,  6555, 15279,  4124,  8803, 14213, 18359],\n",
       "        device='cuda:0'),\n",
       " tensor([18358,  6299, 10219,  7951,     1,  3012, 14658,  8777, 14243,  1115,\n",
       "           501,  2951, 10838, 11361, 14700,  9255,  4156,  6446,  3662,  9842,\n",
       "         14213, 15076, 18359], device='cuda:0'),\n",
       " tensor([18358,  1691,  6245, 10593, 18359], device='cuda:0'),\n",
       " tensor([18358, 13465,   272,  2569,  4712,  9939,     1,  5822, 18359],\n",
       "        device='cuda:0')]"
      ]
     },
     "execution_count": 22,
     "metadata": {},
     "output_type": "execute_result"
    }
   ],
   "source": [
    "seqlist[:5]"
   ]
  },
  {
   "cell_type": "code",
   "execution_count": 5,
   "metadata": {},
   "outputs": [],
   "source": [
    "interval = list(range(0, 20001, 5000))\n",
    "rst_list = []\n",
    "for i in range(len(interval) - 1):\n",
    "    rst_list.append(torch.load(f'f-seq-con-{dataset}-0-{interval[i]}-{interval[i + 1]}.pth'))\n",
    "rst = []\n",
    "for _ in rst_list:\n",
    "    rst += _"
   ]
  },
  {
   "cell_type": "code",
   "execution_count": 13,
   "metadata": {},
   "outputs": [
    {
     "name": "stdout",
     "output_type": "stream",
     "text": [
      "105671\n"
     ]
    }
   ],
   "source": [
    "max_seq_len = 50\n",
    "def truncate_or_pad(seq):\n",
    "    cur_seq_len = len(seq)\n",
    "    if cur_seq_len > max_seq_len:\n",
    "        return seq[-max_seq_len:]\n",
    "    else:\n",
    "        return seq + [0] * (max_seq_len - cur_seq_len)\n",
    "\n",
    "\n",
    "train_set = set()\n",
    "\n",
    "for pattern in rst:\n",
    "    seq = pattern.tolist()[1:-1]\n",
    "    seq_len = len(seq)\n",
    "    for _ in range(1, seq_len):\n",
    "        train_set.add(tuple(\n",
    "            truncate_or_pad(seq[:_]) + [seq[_]],\n",
    "        ))\n",
    "\n",
    "train_list = []\n",
    "for _ in train_set:\n",
    "    train_list.append([\n",
    "        1,\n",
    "        list(_)[:-1],\n",
    "        list(_)[-1],\n",
    "        sum([a != 0 for a in list(_)[:-1]]),\n",
    "        1,\n",
    "        0\n",
    "    ])\n",
    "print(len(train_list))"
   ]
  },
  {
   "cell_type": "code",
   "execution_count": 14,
   "metadata": {},
   "outputs": [],
   "source": [
    "ori_pattern = torch.load('./dataset/amazon-toys-noise-50/toy/train_new-pure.pth')"
   ]
  },
  {
   "cell_type": "code",
   "execution_count": 95,
   "metadata": {},
   "outputs": [],
   "source": [
    "torch.save(train_list + ori_pattern, './dataset/amazon-toys-noise-50/toy/train_gene.pth')"
   ]
  }
 ],
 "metadata": {
  "kernelspec": {
   "display_name": "torch",
   "language": "python",
   "name": "python3"
  },
  "language_info": {
   "codemirror_mode": {
    "name": "ipython",
    "version": 3
   },
   "file_extension": ".py",
   "mimetype": "text/x-python",
   "name": "python",
   "nbconvert_exporter": "python",
   "pygments_lexer": "ipython3",
   "version": "3.9.0"
  }
 },
 "nbformat": 4,
 "nbformat_minor": 2
}
