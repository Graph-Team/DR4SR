{
 "cells": [
  {
   "cell_type": "code",
   "execution_count": null,
   "metadata": {},
   "outputs": [],
   "source": [
    "import torch\n",
    "import torch.nn as nn\n",
    "import torch.nn.functional as F\n",
    "import numpy as np\n",
    "from utils.reparam_module import ReparamModule\n",
    "import matplotlib.pyplot as plt"
   ]
  },
  {
   "cell_type": "code",
   "execution_count": null,
   "metadata": {},
   "outputs": [],
   "source": [
    "import palettable\n",
    "from palettable.scientific.sequential import Nuuk_3\n",
    "from palettable.cartocolors.diverging import Geyser_2\n",
    "color = Geyser_2.hex_colors\n",
    "plt.rcParams['figure.figsize'] = (6,6)"
   ]
  },
  {
   "cell_type": "markdown",
   "metadata": {},
   "source": [
    "# CL4SRec vs CL4SRec2"
   ]
  },
  {
   "cell_type": "code",
   "execution_count": null,
   "metadata": {},
   "outputs": [],
   "source": [
    "'CL4SRec2', 0.0427, 0.0939, 0.0352, 0.0644\n",
    "'CL4SRec', 0.0495, 0.0966, 0.0390, 0.0673"
   ]
  },
  {
   "cell_type": "code",
   "execution_count": null,
   "metadata": {},
   "outputs": [],
   "source": [
    "'CL4SRec2', 0.0267, 0.0583, 0.0220, 0.0397\n",
    "'CL4SRec', 0.0274, 0.0600, 0.0227, 0.0401"
   ]
  },
  {
   "cell_type": "code",
   "execution_count": null,
   "metadata": {},
   "outputs": [],
   "source": [
    "'CL4SRec2', 0.0542, 0.1081, 0.0475, 0.0811\n",
    "'CL4SRec', 0.0549, 0.01090, 0.0480, 0.0814"
   ]
  },
  {
   "cell_type": "code",
   "execution_count": null,
   "metadata": {},
   "outputs": [],
   "source": [
    "'CL4SRec2', 0.0239, 0.0582, 0.0185, 0.0366\n",
    "'CL4SRec', 0.0241, 0.0598, 0.0183, 0.0363"
   ]
  },
  {
   "cell_type": "code",
   "execution_count": null,
   "metadata": {},
   "outputs": [],
   "source": [
    "old_aug_ndcg = [0.0427, 0.0267, 0.0542, 0.0239]\n",
    "new_aug_ndcg = [0.0495, 0.0274, 0.0549, 0.0241]\n",
    "\n",
    "# old_aug_recall = [0.0926, 0.0525, 0.0994, 0.0440]\n",
    "# new_aug_recall = [0.0857, 0.0498, 0.1031, 0.0451]"
   ]
  },
  {
   "cell_type": "code",
   "execution_count": null,
   "metadata": {},
   "outputs": [],
   "source": [
    "import matplotlib.pyplot as plt\n",
    "\n",
    "data1 = [a / b for a, b in zip(old_aug_ndcg, old_aug_ndcg)]\n",
    "data2 = [a / b for a, b in zip(new_aug_ndcg, old_aug_ndcg)]\n",
    "\n",
    "x = range(len(data1))\n",
    "width = 0.35\n",
    "\n",
    "plt.bar(x, data1, width=width, label='Original', color=color[0])\n",
    "plt.bar([i + width for i in x], data2, width=width, label='Regenerated', color=color[1])\n",
    "\n",
    "# plt.xlabel('Different datasets', fontdict={'size': 16})\n",
    "plt.ylabel('Relative NDCG@20 improvement', fontdict={'size': 20})\n",
    "plt.xticks([i + width / 2 for i in x], ['Beauty', 'Sport', 'Toys', 'Yelp'])\n",
    "plt.tick_params(axis='x', labelsize=20)\n",
    "plt.tick_params(axis='y', labelsize=20)\n",
    "plt.legend(fontsize=20)\n",
    "plt.ylim((0.8, 1.3))\n",
    "plt.tight_layout()\n",
    "\n",
    "plt.savefig(f'figure/aug_comparison_ndcg.pdf', dpi=600, bbox_inches = 'tight')\n",
    "\n",
    "plt.show()"
   ]
  },
  {
   "cell_type": "markdown",
   "metadata": {},
   "source": [
    "# Different Graph"
   ]
  },
  {
   "cell_type": "code",
   "execution_count": null,
   "metadata": {},
   "outputs": [],
   "source": [
    "old_graph_ndcg = [0.0406, 0.0230, 0.0482, 0.0167]\n",
    "new_graph_ndcg = [0.0386, 0.0210, 0.0498, 0.0175]\n",
    "\n",
    "old_graph_recall = [0.0926, 0.0525, 0.0994, 0.0440]\n",
    "new_graph_recall = [0.0857, 0.0498, 0.1031, 0.0451]"
   ]
  },
  {
   "cell_type": "code",
   "execution_count": null,
   "metadata": {},
   "outputs": [],
   "source": [
    "import matplotlib.pyplot as plt\n",
    "\n",
    "data1 = [a / b for a, b in zip(old_graph_ndcg, old_graph_ndcg)]\n",
    "data2 = [a / b for a, b in zip(new_graph_ndcg, old_graph_ndcg)]\n",
    "\n",
    "x = range(len(data1))\n",
    "width = 0.35\n",
    "\n",
    "plt.bar(x, data1, width=width, label='Original', color=color[0])\n",
    "plt.bar([i + width for i in x], data2, width=width, label='Regenerated', color=color[1])\n",
    "\n",
    "plt.ylabel('Relative NDCG@20 improvement', fontdict={'size': 20})\n",
    "plt.xticks([i + width / 2 for i in x], ['Beauty', 'Sport', 'Toys', 'Yelp'])\n",
    "plt.tick_params(axis='x', labelsize=20)\n",
    "plt.tick_params(axis='y', labelsize=20)\n",
    "plt.legend(fontsize=20)\n",
    "plt.ylim((0.8, 1.1))\n",
    "plt.tight_layout()\n",
    "\n",
    "plt.savefig(f'figure/graph_comparison_ndcg.pdf', dpi=600, bbox_inches = 'tight')\n",
    "\n",
    "plt.show()"
   ]
  },
  {
   "cell_type": "code",
   "execution_count": null,
   "metadata": {},
   "outputs": [],
   "source": [
    "import matplotlib.pyplot as plt\n",
    "\n",
    "data1 = [a / b for a, b in zip(old_graph_recall, old_graph_recall)]\n",
    "data2 = [a / b for a, b in zip(new_graph_recall, old_graph_recall)]\n",
    "\n",
    "x = range(len(data1))\n",
    "width = 0.35\n",
    "\n",
    "plt.bar(x, data1, width=width, label='Original Graph', color=color[0])\n",
    "plt.bar([i + width for i in x], data2, width=width, label='Regenerated Graph', color=color[1])\n",
    "\n",
    "plt.xlabel('Different datasets')\n",
    "plt.ylabel('Relative Recall@20 improvement')\n",
    "plt.xticks([i + width / 2 for i in x], ['Beauty', 'Sport', 'Toys', 'Yelp'])\n",
    "plt.legend()\n",
    "plt.ylim((0.85, 1.05))\n",
    "plt.tight_layout()\n",
    "\n",
    "plt.savefig(f'figure/graph_comparison_recall.pdf', dpi=600, bbox_inches = 'tight')\n",
    "\n",
    "plt.show()"
   ]
  }
 ],
 "metadata": {
  "kernelspec": {
   "display_name": "Lab",
   "language": "python",
   "name": "python3"
  },
  "language_info": {
   "codemirror_mode": {
    "name": "ipython",
    "version": 3
   },
   "file_extension": ".py",
   "mimetype": "text/x-python",
   "name": "python",
   "nbconvert_exporter": "python",
   "pygments_lexer": "ipython3",
   "version": "3.9.15"
  }
 },
 "nbformat": 4,
 "nbformat_minor": 2
}
