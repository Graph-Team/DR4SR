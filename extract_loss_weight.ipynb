{
 "cells": [
  {
   "cell_type": "code",
   "execution_count": 2,
   "metadata": {},
   "outputs": [],
   "source": [
    "import torch\n",
    "import torch.nn as nn\n",
    "import torch.nn.functional as F\n",
    "import numpy as np\n",
    "from utils.reparam_module import ReparamModule"
   ]
  },
  {
   "cell_type": "code",
   "execution_count": 4,
   "metadata": {},
   "outputs": [],
   "source": [
    "from utils import *\n",
    "config = {\n",
    "    'dataset': 'amazon-toys-noise-50',\n",
    "    'model': 'MetaModel7',\n",
    "}\n",
    "sub_model = 'SASRec'\n",
    "dataset = 'toy'\n",
    "\n",
    "config = load_config(config)\n",
    "dataset_list = prepare_datasets(config)\n",
    "config['model']['sub_model'] = sub_model\n",
    "model = prepare_model(config, dataset_list)\n",
    "model._init_model(dataset_list[0])\n",
    "device = model.device\n",
    "state_dict_path = {\n",
    "    'beauty': {\n",
    "        'SASRec': 'saved/MetaModel7/amazon-beauty-noise-50/2024-02-01-00-51-08-316785.ckpt',\n",
    "    },\n",
    "    'sport': {\n",
    "        'SASRec': 'saved/MetaModel7/amazon-sport-noise-50/2024-02-01-10-12-35-430957.ckpt',\n",
    "    },\n",
    "    'toy': {\n",
    "        'SASRec': 'saved/MetaModel7/amazon-toys-noise-50/2024-01-31-23-58-49-529787.ckpt',\n",
    "        'GRU4Rec': 'saved/MetaModel7/amazon-toys-noise-50/2024-02-01-13-08-11-946162.ckpt',\n",
    "        'GNN': 'saved/MetaModel7/amazon-toys-noise-50/2024-02-01-15-33-58-403521.ckpt',\n",
    "        'CL4SRec': 'saved/MetaModel7/amazon-toys-noise-50/2024-02-01-18-02-42-186590.ckpt',\n",
    "    },\n",
    "    'yelp-small': {\n",
    "        'SASRec': 'saved/MetaModel7/yelp-small-noise-50/2024-02-01-14-58-24-736826.ckpt',\n",
    "    }\n",
    "}\n",
    "model.load_checkpoint(state_dict_path[dataset][sub_model])\n",
    "model = model.to('cuda:' + str(model.device))\n",
    "if sub_model == 'GNN':\n",
    "    model.sub_model.query_encoder.norm_adj = model.sub_model.query_encoder.norm_adj.to('cuda:' + str(model.device))"
   ]
  },
  {
   "cell_type": "code",
   "execution_count": 5,
   "metadata": {},
   "outputs": [],
   "source": [
    "loader = model.dataset_list[0].get_loader(shuffle=False)"
   ]
  },
  {
   "cell_type": "code",
   "execution_count": 66,
   "metadata": {},
   "outputs": [],
   "source": [
    "loss_weight_list = []\n",
    "logits_list = []\n",
    "model.eval()\n",
    "for batch in loader:\n",
    "    query = model.sub_model.forward(batch, need_pooling=False)\n",
    "    logits = model.meta_module(query)\n",
    "    logits_list.append(logits.detach().cpu())\n",
    "    weight = F.gumbel_softmax(logits, torch.clip(model.tau, min=1), dim=-1)[..., 0]\n",
    "    mask = batch['user_id'] == 0\n",
    "    weight = weight.masked_fill(mask.unsqueeze(-1), 1)\n",
    "    pad_mask = batch['item_id'] == 0\n",
    "    weight = weight.masked_fill(pad_mask, 0)\n",
    "    loss_weight_list.append(weight.detach().cpu())\n",
    "loss_weight = torch.cat(loss_weight_list)\n",
    "logits = torch.cat(logits_list)"
   ]
  },
  {
   "cell_type": "code",
   "execution_count": 67,
   "metadata": {},
   "outputs": [],
   "source": [
    "torch.save(loss_weight, f'paper/loss_weight_{sub_model}_{dataset}.pth')\n",
    "torch.save([logits, model.tau.item()], f'paper/logits_{sub_model}_{dataset}.pth')"
   ]
  },
  {
   "cell_type": "markdown",
   "metadata": {},
   "source": [
    "# Analyze"
   ]
  },
  {
   "cell_type": "code",
   "execution_count": 15,
   "metadata": {},
   "outputs": [],
   "source": [
    "sub_model_list = ['GRU4Rec', 'SASRec', 'GNN', 'CL4SRec']\n",
    "mask = (model.dataset_list[0].data[0] != 0).cpu() # select meaningful points to compare\n",
    "flag = False\n",
    "while(True):\n",
    "    selected_idx = torch.randperm(mask.sum().item())[:25]\n",
    "    data = []\n",
    "    for model_name in sub_model_list:\n",
    "        loss_weight = torch.load(f'paper/loss_weight_{model_name}_toy.pth')\n",
    "        matrix = loss_weight[mask][selected_idx][:, :25]\n",
    "        data.append(matrix)\n",
    "        if matrix.max() > 0.8:\n",
    "            flag = True\n",
    "    if flag:\n",
    "        break"
   ]
  },
  {
   "cell_type": "code",
   "execution_count": 22,
   "metadata": {},
   "outputs": [
    {
     "name": "stderr",
     "output_type": "stream",
     "text": [
      "/tmp/ipykernel_29160/1598648238.py:26: UserWarning: This figure includes Axes that are not compatible with tight_layout, so results might be incorrect.\n",
      "  plt.tight_layout()\n"
     ]
    },
    {
     "data": {
      "image/png": "[encoded data removed]",
      "text/plain": [
       "<Figure size 1000x600 with 8 Axes>"
      ]
     },
     "metadata": {},
     "output_type": "display_data"
    }
   ],
   "source": [
    "import numpy as np\n",
    "import matplotlib\n",
    "import matplotlib.pyplot as plt\n",
    "from mpl_toolkits.axes_grid1 import ImageGrid\n",
    "\n",
    "# 创建画布和ImageGrid布局\n",
    "fig = plt.figure(figsize=(10, 6))\n",
    "grid = ImageGrid(fig, 111, nrows_ncols=(1, 4), axes_pad=0.1, cbar_mode='single')\n",
    "# norm = matplotlib.colors.Normalize(vmin=0,vmax=0.8)\n",
    "\n",
    "# 绘制热力图和设置标题\n",
    "first_im = None\n",
    "for idx, img in enumerate(data):\n",
    "    # im = grid[idx].imshow(img, cmap='GnBu', norm=norm)\n",
    "    im = grid[idx].imshow(img, cmap='GnBu')\n",
    "    if first_im == None:\n",
    "        first_im = im\n",
    "    grid[idx].set_title(sub_model_list[idx], fontdict={'size': 11})\n",
    "\n",
    "# 创建共享colorbar\n",
    "cbar = grid.cbar_axes[0].colorbar(first_im)\n",
    "\n",
    "fig.text(0.5, 0.25, 'Position of items in the sequence', ha='center', fontdict={'size': 11})\n",
    "fig.text(0, 0.5, 'Sequence ID', va='center', rotation='vertical', fontdict={'size': 11})\n",
    "# 调整子图布局\n",
    "plt.tight_layout()\n",
    "\n",
    "plt.savefig(f'figure/heat_map_all.pdf', dpi=600, bbox_inches = 'tight')\n",
    "# 显示图形\n",
    "plt.show()"
   ]
  }
 ],
 "metadata": {
  "kernelspec": {
   "display_name": "Lab",
   "language": "python",
   "name": "python3"
  },
  "language_info": {
   "codemirror_mode": {
    "name": "ipython",
    "version": 3
   },
   "file_extension": ".py",
   "mimetype": "text/x-python",
   "name": "python",
   "nbconvert_exporter": "python",
   "pygments_lexer": "ipython3",
   "version": "3.9.15"
  }
 },
 "nbformat": 4,
 "nbformat_minor": 2
}
