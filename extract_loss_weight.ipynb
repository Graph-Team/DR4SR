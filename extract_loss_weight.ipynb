{
 "cells": [
  {
   "cell_type": "code",
   "execution_count": 1,
   "metadata": {},
   "outputs": [
    {
     "name": "stderr",
     "output_type": "stream",
     "text": [
      "/root/miniconda3/envs/Lab/lib/python3.9/site-packages/tqdm/auto.py:21: TqdmWarning: IProgress not found. Please update jupyter and ipywidgets. See https://ipywidgets.readthedocs.io/en/stable/user_install.html\n",
      "  from .autonotebook import tqdm as notebook_tqdm\n"
     ]
    }
   ],
   "source": [
    "import torch\n",
    "import torch.nn as nn\n",
    "import torch.nn.functional as F\n",
    "import numpy as np\n",
    "from utils.reparam_module import ReparamModule"
   ]
  },
  {
   "cell_type": "code",
   "execution_count": 2,
   "metadata": {},
   "outputs": [],
   "source": [
    "from utils import *\n",
    "config = {\n",
    "    'dataset': 'amazon-toys-noise-50',\n",
    "    'model': 'MetaModel7',\n",
    "}\n",
    "sub_model = 'SASRec'\n",
    "\n",
    "config = load_config(config)\n",
    "dataset_list = prepare_datasets(config)\n",
    "config['model']['sub_model'] = sub_model\n",
    "model = prepare_model(config, dataset_list)\n",
    "model._init_model(dataset_list[0])\n",
    "device = model.device\n",
    "state_dict_path = {\n",
    "    'SASRec': 'saved/MetaModel7/amazon-toys-noise-50/2024-01-26-00-54-26-865661.ckpt',\n",
    "    'GRU4Rec': 'saved/MetaModel7/amazon-toys-noise-50/2024-01-27-19-11-53-738587.ckpt',\n",
    "}\n",
    "# model.load_checkpoint('saved/MetaModel7/amazon-toys-noise-50/2024-01-26-00-54-26-865661.ckpt') # SASRec on toys\n",
    "model.load_checkpoint(state_dict_path[sub_model]) # GRU4Rec on toys"
   ]
  },
  {
   "cell_type": "code",
   "execution_count": 3,
   "metadata": {},
   "outputs": [],
   "source": [
    "loader = model.dataset_list[0].get_loader(shuffle=False)"
   ]
  },
  {
   "cell_type": "code",
   "execution_count": 4,
   "metadata": {},
   "outputs": [],
   "source": [
    "loss_weight_list = []\n",
    "logits_list = []\n",
    "model.eval()\n",
    "for batch in loader:\n",
    "    query = model.sub_model.forward(batch, need_pooling=False)\n",
    "    logits = model.meta_module(query)\n",
    "    logits_list.append(logits.detach().cpu())\n",
    "    weight = F.gumbel_softmax(logits, torch.clip(model.tau, min=1), dim=-1)[..., 0]\n",
    "    mask = batch['user_id'] == 0\n",
    "    weight = weight.masked_fill(mask.unsqueeze(-1), 1)\n",
    "    pad_mask = batch['item_id'] == 0\n",
    "    weight = weight.masked_fill(pad_mask, 0)\n",
    "    loss_weight_list.append(weight.detach().cpu())\n",
    "loss_weight = torch.cat(loss_weight_list)\n",
    "logits = torch.cat(logits_list)"
   ]
  },
  {
   "cell_type": "code",
   "execution_count": 7,
   "metadata": {},
   "outputs": [],
   "source": [
    "torch.save(loss_weight, f'paper/loss_weight_{sub_model}_toys.pth')\n",
    "torch.save([logits, model.tau.item()], f'paper/logits_{sub_model}_toys.pth')"
   ]
  },
  {
   "cell_type": "markdown",
   "metadata": {},
   "source": [
    "# Analyze"
   ]
  },
  {
   "cell_type": "code",
   "execution_count": null,
   "metadata": {},
   "outputs": [],
   "source": [
    "mask = (model.dataset_list[0].data[0] == 1).cpu() # select meaningful points to compare\n",
    "selected_idx = torch.randperm(mask.sum().item())[:50]"
   ]
  },
  {
   "cell_type": "code",
   "execution_count": null,
   "metadata": {},
   "outputs": [],
   "source": [
    "import numpy as np\n",
    "import matplotlib.pyplot as plt\n",
    "\n",
    "# 创建一个50x100的随机矩阵\n",
    "matrix = loss_weight[mask][selected_idx]\n",
    "\n",
    "\n",
    "# 画热力图\n",
    "plt.imshow(matrix, cmap='hot', interpolation='nearest')\n",
    "plt.colorbar()\n",
    "\n",
    "# 添加标题和坐标轴标签\n",
    "plt.title('Heatmap')\n",
    "plt.xlabel('X-axis')\n",
    "plt.ylabel('Y-axis')\n",
    "\n",
    "# 显示图形\n",
    "plt.show()"
   ]
  },
  {
   "cell_type": "code",
   "execution_count": null,
   "metadata": {},
   "outputs": [],
   "source": [
    "import numpy as np\n",
    "import matplotlib.pyplot as plt\n",
    "\n",
    "# 创建一个50x100的随机矩阵\n",
    "matrix = debug[mask][selected_idx]\n",
    "\n",
    "\n",
    "# 画热力图\n",
    "plt.imshow(matrix, cmap='hot', interpolation='nearest')\n",
    "plt.colorbar()\n",
    "\n",
    "# 添加标题和坐标轴标签\n",
    "plt.title('Heatmap')\n",
    "plt.xlabel('X-axis')\n",
    "plt.ylabel('Y-axis')\n",
    "\n",
    "# 显示图形\n",
    "plt.show()"
   ]
  }
 ],
 "metadata": {
  "kernelspec": {
   "display_name": "Lab",
   "language": "python",
   "name": "python3"
  },
  "language_info": {
   "codemirror_mode": {
    "name": "ipython",
    "version": 3
   },
   "file_extension": ".py",
   "mimetype": "text/x-python",
   "name": "python",
   "nbconvert_exporter": "python",
   "pygments_lexer": "ipython3",
   "version": "3.9.0"
  }
 },
 "nbformat": 4,
 "nbformat_minor": 2
}
