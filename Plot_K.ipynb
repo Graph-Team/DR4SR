{
 "cells": [
  {
   "cell_type": "code",
   "execution_count": 1,
   "metadata": {},
   "outputs": [
    {
     "name": "stderr",
     "output_type": "stream",
     "text": [
      "/root/miniconda3/envs/Lab/lib/python3.9/site-packages/tqdm/auto.py:21: TqdmWarning: IProgress not found. Please update jupyter and ipywidgets. See https://ipywidgets.readthedocs.io/en/stable/user_install.html\n",
      "  from .autonotebook import tqdm as notebook_tqdm\n"
     ]
    }
   ],
   "source": [
    "import torch\n",
    "import torch.nn as nn\n",
    "import torch.nn.functional as F\n",
    "from copy import deepcopy\n",
    "from torch.nn.utils.rnn import pad_sequence\n",
    "from utils.reparam_module import ReparamModule\n",
    "import numpy as np\n",
    "import matplotlib.pyplot as plt"
   ]
  },
  {
   "cell_type": "code",
   "execution_count": 2,
   "metadata": {},
   "outputs": [],
   "source": [
    "import palettable\n",
    "from palettable.scientific.sequential import Nuuk_3\n",
    "from palettable.cartocolors.diverging import Geyser_2\n",
    "color = Geyser_2.hex_colors\n",
    "plt.rcParams['figure.figsize'] = (6,6)"
   ]
  },
  {
   "cell_type": "markdown",
   "metadata": {},
   "source": [
    "# Toy"
   ]
  },
  {
   "cell_type": "code",
   "execution_count": null,
   "metadata": {},
   "outputs": [],
   "source": [
    "\n",
    "\n",
    "import numpy as np\n",
    "import matplotlib\n",
    "import matplotlib.pyplot as plt\n",
    "from matplotlib.pyplot import LinearLocator\n",
    "# generate data\n",
    "matplotlib.rcParams['xtick.labelsize'] = 16\n",
    "matplotlib.rcParams['ytick.labelsize'] = 16\n",
    "\n",
    "x = [1, 3, 5, 7, 9]\n",
    "\n",
    "recall = [0.0971, , 0.1049, , ]\n",
    "ndcg= [0.0470, , 0.0504, , ,]\n",
    "\n",
    "\n",
    "# Start with subplots\n",
    "fig = plt.figure()\n",
    "ax1 = fig.add_subplot(111)\n",
    "ax2 = ax1.twinx()\n",
    "\n",
    "ax1.yaxis.set_major_locator(LinearLocator(5))\n",
    "ax1.set_ylim(10.10, 11.30)\n",
    "\n",
    "ax2.yaxis.set_major_locator(LinearLocator(5))\n",
    "ax2.set_ylim(10.7, 11.9)\n",
    "\n",
    "ax1.set_ylabel('Recall@20', fontdict={'size': 16})\n",
    "ax2.set_ylabel('NDCG@20', fontdict={'size': 16})\n",
    "\n",
    "lns1 = ax1.plot(x, recall, label='Recall@20', color=color[0], lw=2, marker='o', ms=10)\n",
    "lns2 = ax2.plot(x, ndcg, label='NDCG@20', color=color[1], lw=2, marker='s', ms=10)\n",
    "\n",
    "lns = lns1 + lns2\n",
    "labs = [l.get_label() for l in lns]\n",
    "ax1.legend(lns, labs, loc=0)\n",
    "# plt.tick_params(labelsize=23)\n",
    "plt.savefig('./figure/K_toy.pdf', format='pdf', bbox_inches = 'tight')\n",
    "plt.show()\n"
   ]
  },
  {
   "cell_type": "markdown",
   "metadata": {},
   "source": [
    "# Beauty"
   ]
  },
  {
   "cell_type": "code",
   "execution_count": null,
   "metadata": {},
   "outputs": [],
   "source": []
  },
  {
   "cell_type": "markdown",
   "metadata": {},
   "source": [
    "# Sport"
   ]
  },
  {
   "cell_type": "markdown",
   "metadata": {},
   "source": [
    "# Yelp"
   ]
  }
 ],
 "metadata": {
  "kernelspec": {
   "display_name": "Lab",
   "language": "python",
   "name": "python3"
  },
  "language_info": {
   "codemirror_mode": {
    "name": "ipython",
    "version": 3
   },
   "file_extension": ".py",
   "mimetype": "text/x-python",
   "name": "python",
   "nbconvert_exporter": "python",
   "pygments_lexer": "ipython3",
   "version": "3.9.0"
  }
 },
 "nbformat": 4,
 "nbformat_minor": 2
}
