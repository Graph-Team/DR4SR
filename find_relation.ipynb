{
 "cells": [
  {
   "cell_type": "code",
   "execution_count": 13,
   "metadata": {},
   "outputs": [],
   "source": [
    "import torch\n",
    "import torch.nn as nn\n",
    "import torch.nn.functional as F\n",
    "from copy import deepcopy\n",
    "from torch.nn.utils.rnn import pad_sequence\n",
    "from utils.reparam_module import ReparamModule\n",
    "import numpy as np"
   ]
  },
  {
   "cell_type": "code",
   "execution_count": 14,
   "metadata": {},
   "outputs": [
    {
     "name": "stdout",
     "output_type": "stream",
     "text": [
      "22363\n"
     ]
    }
   ],
   "source": [
    "dataset_name = 'beauty'\n",
    "full_dataset_name = 'amazon-beauty'\n",
    "min_frequency_dict = {\n",
    "    'toys': 2,\n",
    "    'sport': 2,\n",
    "    'beauty': 2,\n",
    "    'yelp': 2,\n",
    "}\n",
    "max_span_dict = {\n",
    "    'toys': 10,\n",
    "    'sport': 10,\n",
    "    'beauty': 5,\n",
    "    'yelp': 10,\n",
    "}\n",
    "min_frequency = min_frequency_dict[dataset_name]\n",
    "max_span = max_span_dict[dataset_name]\n",
    "data = torch.load(f'./pattern-{dataset_name}-50.pth')\n",
    "print(len(data))"
   ]
  },
  {
   "cell_type": "code",
   "execution_count": 15,
   "metadata": {},
   "outputs": [
    {
     "name": "stdout",
     "output_type": "stream",
     "text": [
      "40664\n"
     ]
    }
   ],
   "source": [
    "# Example to show how to find frequent sequential patterns\n",
    "# from a given sequence database subject to constraints\n",
    "from sequential.seq2pat import Seq2Pat, Attribute\n",
    "\n",
    "# Seq2Pat over 3 sequences\n",
    "seq2pat = Seq2Pat(sequences=data, n_jobs=2, max_span=max_span)\n",
    "# Patterns that occur at least twice (A-D)\n",
    "patterns = seq2pat.get_patterns(min_frequency=min_frequency)\n",
    "patterns_value = [_[:-1] for _ in patterns]\n",
    "patterns_count = [_[-1] for _ in patterns]\n",
    "print(len(patterns))"
   ]
  },
  {
   "cell_type": "code",
   "execution_count": 16,
   "metadata": {},
   "outputs": [
    {
     "data": {
      "text/plain": [
       "22363"
      ]
     },
     "execution_count": 16,
     "metadata": {},
     "output_type": "execute_result"
    }
   ],
   "source": [
    "original_train = torch.load(f'./dataset/{full_dataset_name}-50/{dataset_name}/train_ori.pth')\n",
    "len(original_train)"
   ]
  },
  {
   "cell_type": "code",
   "execution_count": 17,
   "metadata": {},
   "outputs": [],
   "source": [
    "seq_list_ori = [_[1][:_[3]] + [_[2][_[3] - 1]] for _ in original_train]"
   ]
  },
  {
   "cell_type": "code",
   "execution_count": 18,
   "metadata": {},
   "outputs": [],
   "source": [
    "def is_sublist(sublst, lst):\n",
    "    for element in sublst:\n",
    "        try:\n",
    "            ind = lst.index(element)\n",
    "        except ValueError:\n",
    "            return False\n",
    "        lst = lst[ind+1:]\n",
    "    return True"
   ]
  },
  {
   "cell_type": "code",
   "execution_count": 19,
   "metadata": {},
   "outputs": [
    {
     "name": "stderr",
     "output_type": "stream",
     "text": [
      "100%|██████████| 22363/22363 [18:28<00:00, 20.18it/s]"
     ]
    },
    {
     "name": "stdout",
     "output_type": "stream",
     "text": [
      "44471\n"
     ]
    },
    {
     "name": "stderr",
     "output_type": "stream",
     "text": [
      "\n"
     ]
    }
   ],
   "source": [
    "data_generation_pair = []\n",
    "total_cnt = 0\n",
    "from tqdm import tqdm\n",
    "from random import shuffle\n",
    "for seq_ori in tqdm(seq_list_ori):\n",
    "    shuffle(patterns_value)\n",
    "    cnt = 0\n",
    "    for pattern in patterns_value:\n",
    "        if is_sublist(pattern, seq_ori):\n",
    "            data_generation_pair.append([seq_ori, pattern])\n",
    "            cnt += 1\n",
    "        if cnt == 10:\n",
    "            break\n",
    "print(len(data_generation_pair))"
   ]
  },
  {
   "cell_type": "code",
   "execution_count": 20,
   "metadata": {},
   "outputs": [],
   "source": [
    "torch.save(data_generation_pair, f'./{dataset_name}-pair-2-5.pth')"
   ]
  }
 ],
 "metadata": {
  "kernelspec": {
   "display_name": "torch",
   "language": "python",
   "name": "python3"
  },
  "language_info": {
   "codemirror_mode": {
    "name": "ipython",
    "version": 3
   },
   "file_extension": ".py",
   "mimetype": "text/x-python",
   "name": "python",
   "nbconvert_exporter": "python",
   "pygments_lexer": "ipython3",
   "version": "3.9.0"
  }
 },
 "nbformat": 4,
 "nbformat_minor": 2
}
