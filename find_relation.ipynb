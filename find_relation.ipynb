{
 "cells": [
  {
   "cell_type": "code",
   "execution_count": 70,
   "metadata": {},
   "outputs": [],
   "source": [
    "import torch\n",
    "import torch.nn as nn\n",
    "import torch.nn.functional as F\n",
    "from copy import deepcopy\n",
    "from torch.nn.utils.rnn import pad_sequence\n",
    "from utils.reparam_module import ReparamModule\n",
    "import numpy as np"
   ]
  },
  {
   "cell_type": "code",
   "execution_count": 74,
   "metadata": {},
   "outputs": [
    {
     "name": "stdout",
     "output_type": "stream",
     "text": [
      "30431\n"
     ]
    }
   ],
   "source": [
    "dataset_name = 'yelp-small'\n",
    "full_dataset_name = 'yelp-small'\n",
    "min_frequency_dict = {\n",
    "    'toys': 2,\n",
    "    'sport': 2,\n",
    "    'beauty': 3,\n",
    "    'yelp-small': 2,\n",
    "}\n",
    "min_frequency = min_frequency_dict[dataset_name]\n",
    "data = torch.load(f'./pattern-{dataset_name}-noise-50.pth')\n",
    "print(len(data))"
   ]
  },
  {
   "cell_type": "code",
   "execution_count": 72,
   "metadata": {},
   "outputs": [
    {
     "name": "stdout",
     "output_type": "stream",
     "text": [
      "68819\n"
     ]
    }
   ],
   "source": [
    "# Example to show how to find frequent sequential patterns\n",
    "# from a given sequence database subject to constraints\n",
    "from sequential.seq2pat import Seq2Pat, Attribute\n",
    "\n",
    "# Seq2Pat over 3 sequences\n",
    "seq2pat = Seq2Pat(sequences=data, n_jobs=2, max_span=10)\n",
    "# Patterns that occur at least twice (A-D)\n",
    "patterns = seq2pat.get_patterns(min_frequency=min_frequency)\n",
    "patterns_value = [_[:-1] for _ in patterns]\n",
    "patterns_count = [_[-1] for _ in patterns]\n",
    "print(len(patterns))"
   ]
  },
  {
   "cell_type": "code",
   "execution_count": 75,
   "metadata": {},
   "outputs": [
    {
     "data": {
      "text/plain": [
       "30431"
      ]
     },
     "execution_count": 75,
     "metadata": {},
     "output_type": "execute_result"
    }
   ],
   "source": [
    "original_train = torch.load(f'./dataset/{full_dataset_name}-noise-50/{dataset_name}/train_ori.pth')\n",
    "len(original_train)"
   ]
  },
  {
   "cell_type": "code",
   "execution_count": 76,
   "metadata": {},
   "outputs": [],
   "source": [
    "seq_list_ori = [_[1][:_[3]] + [_[2][_[3] - 1]] for _ in original_train]"
   ]
  },
  {
   "cell_type": "code",
   "execution_count": 77,
   "metadata": {},
   "outputs": [],
   "source": [
    "def is_sublist(sublst, lst):\n",
    "    for element in sublst:\n",
    "        try:\n",
    "            ind = lst.index(element)\n",
    "        except ValueError:\n",
    "            return False\n",
    "        lst = lst[ind+1:]\n",
    "    return True"
   ]
  },
  {
   "cell_type": "code",
   "execution_count": 79,
   "metadata": {},
   "outputs": [
    {
     "name": "stderr",
     "output_type": "stream",
     "text": [
      "100%|██████████| 30431/30431 [37:36<00:00, 13.48it/s] "
     ]
    },
    {
     "name": "stdout",
     "output_type": "stream",
     "text": [
      "150941\n"
     ]
    },
    {
     "name": "stderr",
     "output_type": "stream",
     "text": [
      "\n"
     ]
    }
   ],
   "source": [
    "data_generation_pair = []\n",
    "total_cnt = 0\n",
    "from tqdm import tqdm\n",
    "from random import shuffle\n",
    "for seq_ori in tqdm(seq_list_ori):\n",
    "    shuffle(patterns_value)\n",
    "    cnt = 0\n",
    "    for pattern in patterns_value:\n",
    "        if is_sublist(pattern, seq_ori):\n",
    "            data_generation_pair.append([seq_ori, pattern])\n",
    "            cnt += 1\n",
    "print(len(data_generation_pair))"
   ]
  },
  {
   "cell_type": "code",
   "execution_count": null,
   "metadata": {},
   "outputs": [],
   "source": [
    "torch.save(data_generation_pair, f'./{dataset_name}-pair.pth')"
   ]
  },
  {
   "cell_type": "code",
   "execution_count": 65,
   "metadata": {},
   "outputs": [
    {
     "data": {
      "text/plain": [
       "tensor([[ 0.3337,  1.4089, -0.5874,  1.4942, -1.3465],\n",
       "        [ 0.7478, -0.6908, -0.3150, -2.1382, -0.2867],\n",
       "        [-1.2294, -0.4578,  0.8121,  2.3734,  0.0047],\n",
       "        ...,\n",
       "        [-1.4943, -1.0644,  0.3543,  1.9312, -0.0991],\n",
       "        [ 0.8144,  0.3107,  1.4501, -0.6948,  1.1553],\n",
       "        [ 1.3487,  0.7794,  0.8656, -0.1423,  0.8273]])"
      ]
     },
     "execution_count": 65,
     "metadata": {},
     "output_type": "execute_result"
    }
   ],
   "source": [
    "logits = torch.randn(256, 5)\n",
    "logits"
   ]
  },
  {
   "cell_type": "code",
   "execution_count": 66,
   "metadata": {},
   "outputs": [
    {
     "data": {
      "text/plain": [
       "tensor([[0.1944, 0.1653, 0.1502, 0.1933, 0.2968],\n",
       "        [0.1977, 0.2563, 0.2053, 0.1463, 0.1945],\n",
       "        [0.2013, 0.1454, 0.2836, 0.1953, 0.1744],\n",
       "        ...,\n",
       "        [0.2263, 0.1605, 0.1759, 0.2303, 0.2070],\n",
       "        [0.1963, 0.2086, 0.2197, 0.1821, 0.1934],\n",
       "        [0.2307, 0.1758, 0.1713, 0.1953, 0.2269]])"
      ]
     },
     "execution_count": 66,
     "metadata": {},
     "output_type": "execute_result"
    }
   ],
   "source": [
    "selection = F.gumbel_softmax(logits, dim=-1, tau=10)\n",
    "selection"
   ]
  },
  {
   "cell_type": "code",
   "execution_count": 69,
   "metadata": {},
   "outputs": [
    {
     "data": {
      "text/plain": [
       "tensor(-1.5988)"
      ]
     },
     "execution_count": 69,
     "metadata": {},
     "output_type": "execute_result"
    }
   ],
   "source": [
    "loss = ( selection * torch.log(selection)).sum(-1).mean()\n",
    "loss"
   ]
  }
 ],
 "metadata": {
  "kernelspec": {
   "display_name": "torch",
   "language": "python",
   "name": "python3"
  },
  "language_info": {
   "codemirror_mode": {
    "name": "ipython",
    "version": 3
   },
   "file_extension": ".py",
   "mimetype": "text/x-python",
   "name": "python",
   "nbconvert_exporter": "python",
   "pygments_lexer": "ipython3",
   "version": "3.9.0"
  }
 },
 "nbformat": 4,
 "nbformat_minor": 2
}
