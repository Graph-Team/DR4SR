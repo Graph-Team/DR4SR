{
 "cells": [
  {
   "cell_type": "code",
   "execution_count": 37,
   "metadata": {},
   "outputs": [],
   "source": [
    "import torch\n",
    "import torch.nn as nn\n",
    "import torch.nn.functional as F\n",
    "import numpy as np\n",
    "from utils.reparam_module import ReparamModule"
   ]
  },
  {
   "cell_type": "code",
   "execution_count": 38,
   "metadata": {},
   "outputs": [],
   "source": [
    "# a = torch.load('dataset/amazon-toys-noise-50/toy/train_gene.pth')\n",
    "a = torch.load('dataset/amazon-toys-noise-50/toy/val.pth')\n",
    "# a = torch.load('dataset/amazon-toys-noise-50/toy/train_gene_con2.pth')\n",
    "b = torch.load('dataset/amazon-toys-noise-50/toy/train_gene.pth')"
   ]
  },
  {
   "cell_type": "code",
   "execution_count": null,
   "metadata": {},
   "outputs": [],
   "source": [
    "seq_a = [[list(_[1][:_[3]])[-1]] +[_[2]] for _ in a]\n",
    "seq_b = [list(_[1][:_[3]]) +[_[2][_[3] - 1]] for _ in b]"
   ]
  },
  {
   "cell_type": "code",
   "execution_count": null,
   "metadata": {},
   "outputs": [],
   "source": [
    "def to_string(x):\n",
    "    x = [str(_) for _ in x]\n",
    "    return ','.join(x)\n",
    "seq_a = [to_string(_) for _ in seq_a]\n",
    "seq_b = [to_string(_) for _ in seq_b]"
   ]
  },
  {
   "cell_type": "code",
   "execution_count": null,
   "metadata": {},
   "outputs": [],
   "source": [
    "cnt = 0\n",
    "for s_a in seq_a:\n",
    "    for s_b in seq_b:\n",
    "        if s_b.find(s_a) != -1:\n",
    "            cnt += 1\n",
    "            break\n",
    "print(cnt)"
   ]
  }
 ],
 "metadata": {
  "kernelspec": {
   "display_name": "Lab",
   "language": "python",
   "name": "python3"
  },
  "language_info": {
   "codemirror_mode": {
    "name": "ipython",
    "version": 3
   },
   "file_extension": ".py",
   "mimetype": "text/x-python",
   "name": "python",
   "nbconvert_exporter": "python",
   "pygments_lexer": "ipython3",
   "version": "3.9.0"
  }
 },
 "nbformat": 4,
 "nbformat_minor": 2
}
