{
 "cells": [
  {
   "cell_type": "code",
   "execution_count": 112,
   "metadata": {},
   "outputs": [],
   "source": [
    "import torch\n",
    "import torch.nn as nn\n",
    "import torch.nn.functional as F\n",
    "from copy import deepcopy\n",
    "from torch.nn.utils.rnn import pad_sequence\n",
    "from utils.reparam_module import ReparamModule\n",
    "import numpy as np\n",
    "import random\n",
    "from tqdm import tqdm"
   ]
  },
  {
   "cell_type": "markdown",
   "metadata": {},
   "source": [
    "# Enviroment"
   ]
  },
  {
   "cell_type": "code",
   "execution_count": 113,
   "metadata": {},
   "outputs": [],
   "source": [
    "seed = 2024\n",
    "\n",
    "random.seed(seed)\n",
    "np.random.seed(seed)\n",
    "torch.manual_seed(seed)\n",
    "torch.cuda.manual_seed(seed)\n",
    "torch.backends.cudnn.deterministic = True"
   ]
  },
  {
   "cell_type": "markdown",
   "metadata": {},
   "source": [
    "# Dataset"
   ]
  },
  {
   "cell_type": "code",
   "execution_count": 114,
   "metadata": {},
   "outputs": [],
   "source": [
    "path = './toys-pair.pth'\n",
    "data = torch.load(path)\n",
    "num_item = 11925\n",
    "SOS = 11925\n",
    "EOS = 11926"
   ]
  },
  {
   "cell_type": "code",
   "execution_count": 115,
   "metadata": {},
   "outputs": [],
   "source": [
    "source, target = [], []\n",
    "source_seqlen, target_seqlen = [], []\n",
    "for _ in data:\n",
    "    s, t = _\n",
    "    source_seqlen.append(len(s))\n",
    "    target_seqlen.append(len(t))\n",
    "    s = torch.tensor([SOS] + s + [EOS])\n",
    "    t = torch.tensor([SOS] + t + [EOS])\n",
    "    source.append(s)\n",
    "    target.append(t)\n",
    "source = pad_sequence(source, batch_first=True, padding_value=0)\n",
    "target = pad_sequence(target, batch_first=True, padding_value=0)\n",
    "if target.shape[1] < 20:\n",
    "    target = torch.cat([target, torch.zeros(target.shape[0], 20 - target.shape[1], dtype=torch.int)], dim=-1)\n",
    "source_seqlen = torch.tensor(source_seqlen)\n",
    "target_seqlen = torch.tensor(target_seqlen)"
   ]
  },
  {
   "cell_type": "code",
   "execution_count": 116,
   "metadata": {},
   "outputs": [],
   "source": [
    "from torch.utils.data import Dataset, DataLoader\n",
    "class MyDataset(Dataset):\n",
    "    def __init__(\n",
    "            self,\n",
    "            source,\n",
    "            target,\n",
    "            source_seqlen,\n",
    "            target_seqlen,\n",
    "        ) -> None:\n",
    "        super().__init__()\n",
    "        self.source = source.to('cuda')\n",
    "        self.target = target.to('cuda')\n",
    "        self.source_seq_len = source_seqlen.to('cuda')\n",
    "        self.target_seq_len = target_seqlen.to('cuda')\n",
    "\n",
    "    def __len__(self):\n",
    "        return len(self.source)\n",
    "\n",
    "    def __getitem__(self, index):\n",
    "        src = self.source[index]\n",
    "        tgt = self.target[index]\n",
    "        src_len = self.source_seq_len[index]\n",
    "        tgt_len = self.target_seq_len[index]\n",
    "        return src, tgt, src_len, tgt_len"
   ]
  },
  {
   "cell_type": "markdown",
   "metadata": {},
   "source": [
    "# Model"
   ]
  },
  {
   "cell_type": "code",
   "execution_count": 117,
   "metadata": {},
   "outputs": [],
   "source": [
    "from utils import normal_initialization\n",
    "\n",
    "class Generator(nn.Module):\n",
    "    def __init__(self) -> None:\n",
    "        super().__init__()\n",
    "        # self.item_embedding = nn.Embedding(num_item + 2, 64, padding_idx=0)\n",
    "        self.transformer = nn.Transformer(\n",
    "            d_model=64,\n",
    "            nhead=2,\n",
    "            num_encoder_layers=2,\n",
    "            num_decoder_layers=2,\n",
    "            dim_feedforward=256,\n",
    "            dropout=0.5,\n",
    "            activation='gelu',\n",
    "            layer_norm_eps=1e-12,\n",
    "            batch_first=True,\n",
    "        )\n",
    "        self.dropout = nn.Dropout(0.5)\n",
    "        self.position_embedding = torch.nn.Embedding(50, 64)\n",
    "        self.device = 'cuda'\n",
    "        self.apply(normal_initialization)\n",
    "        self.load_pretrained()\n",
    "\n",
    "    def load_pretrained(self):\n",
    "        path = 'saved/SASRec8/amazon-toys-seq-noise-50/2024-01-24-16-37-41-603118.ckpt'\n",
    "        saved = torch.load(path, map_location='cpu')\n",
    "        pretrained = saved['parameters']['item_embedding.weight']\n",
    "        pretrained = torch.cat([\n",
    "            pretrained,\n",
    "            nn.init.normal_(torch.zeros(2, 64), std=0.02)\n",
    "        ])\n",
    "        self.item_embedding = nn.Embedding.from_pretrained(pretrained, padding_idx=0, freeze=False)\n",
    "\n",
    "    def forward(self, src, tgt, src_mask, tgt_mask,\n",
    "            src_padding_mask,\n",
    "            tgt_padding_mask,\n",
    "            memory_key_padding_mask\n",
    "        ):\n",
    "        position_ids = torch.arange(src.size(1), dtype=torch.long, device=self.device)\n",
    "        position_ids = position_ids.reshape(1, -1)\n",
    "        src_position_embedding = self.position_embedding(position_ids)\n",
    "        src_emb = self.dropout(self.item_embedding(src) + src_position_embedding)\n",
    "\n",
    "        position_ids = torch.arange(tgt.size(1), dtype=torch.long, device=self.device)\n",
    "        position_ids = position_ids.reshape(1, -1)\n",
    "        tgt_position_embedding = self.position_embedding(position_ids)\n",
    "        tgt_emb = self.dropout(self.item_embedding(tgt) + tgt_position_embedding)\n",
    "\n",
    "        outs = self.transformer(\n",
    "            src_emb, tgt_emb, src_mask, tgt_mask, None,\n",
    "            src_padding_mask, tgt_padding_mask, memory_key_padding_mask\n",
    "        )\n",
    "\n",
    "        return outs @ self.item_embedding.weight.T\n",
    "    \n",
    "    def encode(self, src, src_mask):\n",
    "        position_ids = torch.arange(src.size(1), dtype=torch.long, device=self.device)\n",
    "        position_ids = position_ids.reshape(1, -1)\n",
    "        src_position_embedding = self.position_embedding(position_ids)\n",
    "        src_emb = self.dropout(self.item_embedding(src) + src_position_embedding)\n",
    "\n",
    "        return self.transformer.encoder(src_emb, src_mask)\n",
    "\n",
    "    def decode(self, tgt, memory, tgt_mask):\n",
    "        position_ids = torch.arange(tgt.size(1), dtype=torch.long, device=self.device)\n",
    "        position_ids = position_ids.reshape(1, -1)\n",
    "        tgt_position_embedding = self.position_embedding(position_ids)\n",
    "        tgt_emb = self.dropout(self.item_embedding(tgt) + tgt_position_embedding)\n",
    "        \n",
    "        return self.transformer.decoder(tgt_emb, memory, tgt_mask)\n",
    "\n",
    "def generate_square_subsequent_mask(sz):\n",
    "    mask = (torch.triu(torch.ones((sz, sz), device='cuda')) == 1).transpose(0, 1)\n",
    "    mask = mask.float().masked_fill(mask == 0, -100000).masked_fill(mask == 1, float(0.0))\n",
    "    return mask\n",
    "\n",
    "def create_mask(src, tgt):\n",
    "    src_seq_len = src.shape[1]\n",
    "    tgt_seq_len = tgt.shape[1]\n",
    "\n",
    "    tgt_mask = generate_square_subsequent_mask(tgt_seq_len)\n",
    "    src_mask = torch.zeros((src_seq_len, src_seq_len),device='cuda').type(torch.bool)\n",
    "\n",
    "    src_padding_mask = (src == 0)\n",
    "    tgt_padding_mask = (tgt == 0)\n",
    "    return src_mask, tgt_mask, src_padding_mask, tgt_padding_mask\n"
   ]
  },
  {
   "cell_type": "markdown",
   "metadata": {},
   "source": [
    "# Train"
   ]
  },
  {
   "cell_type": "code",
   "execution_count": 118,
   "metadata": {},
   "outputs": [],
   "source": [
    "model = Generator().to('cuda')\n",
    "loss_fn = nn.CrossEntropyLoss(ignore_index=0)\n",
    "optimizer = torch.optim.Adam(model.parameters(), lr=0.001, betas=(0.9, 0.98), eps=1e-9)\n",
    "dataset = MyDataset(source, target, source_seqlen, target_seqlen)"
   ]
  },
  {
   "cell_type": "code",
   "execution_count": 119,
   "metadata": {},
   "outputs": [],
   "source": [
    "def train_epoch(model, optimizer):\n",
    "    model.train()\n",
    "    losses = 0\n",
    "    train_dataloader = DataLoader(dataset, batch_size=256, shuffle=True)\n",
    "    for src, tgt, src_len, tgt_len in tqdm(train_dataloader):\n",
    "        tgt_input = tgt[:, :-1]\n",
    "        src_mask, tgt_mask, src_padding_mask, tgt_padding_mask = create_mask(src, tgt_input)\n",
    "        logits = model(src, tgt_input, src_mask, tgt_mask,src_padding_mask, tgt_padding_mask, src_padding_mask)\n",
    "        optimizer.zero_grad()\n",
    "        tgt_out = tgt[:, 1:]\n",
    "        loss = loss_fn(logits.reshape(-1, logits.shape[-1]), tgt_out.reshape(-1))\n",
    "        loss.backward()\n",
    "\n",
    "        optimizer.step()\n",
    "        losses += loss.item()\n",
    "    return losses / len(list(train_dataloader))"
   ]
  },
  {
   "cell_type": "code",
   "execution_count": 120,
   "metadata": {},
   "outputs": [
    {
     "name": "stderr",
     "output_type": "stream",
     "text": [
      "  0%|          | 0/127 [00:00<?, ?it/s]/root/miniconda3/envs/torch/lib/python3.9/site-packages/torch/nn/functional.py:5076: UserWarning: Support for mismatched key_padding_mask and attn_mask is deprecated. Use same type for both instead.\n",
      "  warnings.warn(\n",
      "100%|██████████| 127/127 [00:37<00:00,  3.37it/s]\n"
     ]
    },
    {
     "name": "stdout",
     "output_type": "stream",
     "text": [
      "Epoch: 1, Train loss: 5.834, Epoch time = 38.203s\n"
     ]
    },
    {
     "name": "stderr",
     "output_type": "stream",
     "text": [
      "100%|██████████| 127/127 [00:37<00:00,  3.39it/s]\n"
     ]
    },
    {
     "name": "stdout",
     "output_type": "stream",
     "text": [
      "Epoch: 2, Train loss: 3.619, Epoch time = 37.899s\n"
     ]
    },
    {
     "name": "stderr",
     "output_type": "stream",
     "text": [
      "100%|██████████| 127/127 [00:37<00:00,  3.38it/s]\n"
     ]
    },
    {
     "name": "stdout",
     "output_type": "stream",
     "text": [
      "Epoch: 3, Train loss: 3.227, Epoch time = 38.082s\n"
     ]
    },
    {
     "name": "stderr",
     "output_type": "stream",
     "text": [
      "100%|██████████| 127/127 [00:37<00:00,  3.40it/s]\n"
     ]
    },
    {
     "name": "stdout",
     "output_type": "stream",
     "text": [
      "Epoch: 4, Train loss: 2.995, Epoch time = 37.876s\n"
     ]
    },
    {
     "name": "stderr",
     "output_type": "stream",
     "text": [
      "100%|██████████| 127/127 [00:37<00:00,  3.38it/s]\n"
     ]
    },
    {
     "name": "stdout",
     "output_type": "stream",
     "text": [
      "Epoch: 5, Train loss: 2.824, Epoch time = 38.029s\n"
     ]
    },
    {
     "name": "stderr",
     "output_type": "stream",
     "text": [
      "100%|██████████| 127/127 [00:37<00:00,  3.41it/s]\n"
     ]
    },
    {
     "name": "stdout",
     "output_type": "stream",
     "text": [
      "Epoch: 6, Train loss: 2.693, Epoch time = 37.755s\n"
     ]
    },
    {
     "name": "stderr",
     "output_type": "stream",
     "text": [
      "100%|██████████| 127/127 [00:37<00:00,  3.41it/s]\n"
     ]
    },
    {
     "name": "stdout",
     "output_type": "stream",
     "text": [
      "Epoch: 7, Train loss: 2.588, Epoch time = 37.688s\n"
     ]
    },
    {
     "name": "stderr",
     "output_type": "stream",
     "text": [
      " 37%|███▋      | 47/127 [00:14<00:25,  3.08it/s]"
     ]
    }
   ],
   "source": [
    "from timeit import default_timer as timer\n",
    "NUM_EPOCHS = 50\n",
    "\n",
    "for epoch in range(1, NUM_EPOCHS+1):\n",
    "    start_time = timer()\n",
    "    train_loss = train_epoch(model, optimizer)\n",
    "    end_time = timer()\n",
    "    print((f\"Epoch: {epoch}, Train loss: {train_loss:.3f}, \"f\"Epoch time = {(end_time - start_time):.3f}s\"))"
   ]
  },
  {
   "cell_type": "code",
   "execution_count": 111,
   "metadata": {},
   "outputs": [
    {
     "name": "stdout",
     "output_type": "stream",
     "text": [
      "tensor([11925,     1,  2296, 11926], device='cuda:0')\n",
      "tensor([11925,     1,  2296,  2297, 11926,     0,     0,     0,     0,     0,\n",
      "            0,     0,     0,     0,     0,     0,     0,     0,     0,     0])\n"
     ]
    }
   ],
   "source": [
    "def greedy_decode(model, src, src_mask, max_len, start_symbol):\n",
    "    src = src.to('cuda')\n",
    "    src_mask = src_mask.to('cuda')\n",
    "\n",
    "    memory = model.encode(src, src_mask)\n",
    "    ys = torch.ones(1, 1).fill_(start_symbol).type(torch.long).to('cuda')\n",
    "    for i in range(max_len-1):\n",
    "        memory = memory.to('cuda')\n",
    "        tgt_mask = (generate_square_subsequent_mask(ys.size(1))\n",
    "                    .type(torch.bool)).to('cuda')\n",
    "        out = model.decode(ys, memory, tgt_mask)\n",
    "        prob = out[:, -1] @ model.item_embedding.weight.T\n",
    "        _, next_word = torch.max(prob, dim=-1)\n",
    "        next_word = next_word.item()\n",
    "\n",
    "        ys = torch.cat([ys,\n",
    "                        torch.ones(1, 1).type_as(src.data).fill_(next_word)], dim=1)\n",
    "        if next_word == EOS:\n",
    "            break\n",
    "    return ys\n",
    "\n",
    "def translate(model: torch.nn.Module, src):\n",
    "    model.eval()\n",
    "    src = src.reshape(1, -1)\n",
    "    num_tokens = src.shape[1]\n",
    "    src_mask = (torch.zeros(num_tokens, num_tokens)).type(torch.bool)\n",
    "    tgt_tokens = greedy_decode(\n",
    "        model, src, src_mask, max_len=25, start_symbol=SOS).flatten()\n",
    "    return tgt_tokens\n",
    "idx = 20\n",
    "rst = translate(model, source[idx])\n",
    "print(rst)\n",
    "print(target[idx])"
   ]
  },
  {
   "cell_type": "code",
   "execution_count": 100,
   "metadata": {},
   "outputs": [
    {
     "data": {
      "text/plain": [
       "tensor([11925,     1,  2296, 11926], device='cuda:0')"
      ]
     },
     "execution_count": 100,
     "metadata": {},
     "output_type": "execute_result"
    }
   ],
   "source": [
    "rst"
   ]
  },
  {
   "cell_type": "code",
   "execution_count": 101,
   "metadata": {},
   "outputs": [
    {
     "data": {
      "text/plain": [
       "tensor([11925,  3030,  1664,  4662,  7233,     1,  2296,  3372, 11926,     0,\n",
       "            0,     0,     0,     0,     0,     0,     0,     0,     0,     0,\n",
       "            0,     0,     0,     0,     0,     0,     0,     0,     0,     0,\n",
       "            0,     0,     0,     0,     0,     0,     0,     0,     0,     0,\n",
       "            0,     0,     0,     0,     0,     0,     0,     0,     0,     0])"
      ]
     },
     "execution_count": 101,
     "metadata": {},
     "output_type": "execute_result"
    }
   ],
   "source": [
    "source[7]"
   ]
  }
 ],
 "metadata": {
  "kernelspec": {
   "display_name": "torch",
   "language": "python",
   "name": "python3"
  },
  "language_info": {
   "codemirror_mode": {
    "name": "ipython",
    "version": 3
   },
   "file_extension": ".py",
   "mimetype": "text/x-python",
   "name": "python",
   "nbconvert_exporter": "python",
   "pygments_lexer": "ipython3",
   "version": "3.9.0"
  }
 },
 "nbformat": 4,
 "nbformat_minor": 2
}
