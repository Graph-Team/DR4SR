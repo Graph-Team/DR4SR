{
 "cells": [
  {
   "cell_type": "code",
   "execution_count": 1,
   "metadata": {},
   "outputs": [
    {
     "name": "stderr",
     "output_type": "stream",
     "text": [
      "/root/miniconda3/envs/Lab/lib/python3.9/site-packages/tqdm/auto.py:21: TqdmWarning: IProgress not found. Please update jupyter and ipywidgets. See https://ipywidgets.readthedocs.io/en/stable/user_install.html\n",
      "  from .autonotebook import tqdm as notebook_tqdm\n"
     ]
    }
   ],
   "source": [
    "import pandas as pd\n",
    "import os\n",
    "import random\n",
    "import torch\n",
    "import yaml"
   ]
  },
  {
   "cell_type": "code",
   "execution_count": 2,
   "metadata": {},
   "outputs": [],
   "source": [
    "random.seed(2024)"
   ]
  },
  {
   "cell_type": "markdown",
   "metadata": {},
   "source": [
    "# Load original dataset"
   ]
  },
  {
   "cell_type": "markdown",
   "metadata": {},
   "source": [
    "### Selecting datasets"
   ]
  },
  {
   "cell_type": "code",
   "execution_count": 3,
   "metadata": {},
   "outputs": [],
   "source": [
    "root = '/root/dataset/AmazonRaw/'\n",
    "output_path = './amazon-toys-noise-50/'\n",
    "dataset_name_list = [\n",
    "    # 'ratings_Books',\n",
    "    # 'ratings_Clothing_Shoes_and_Jewelry',\n",
    "    # 'ratings_Movies_and_TV',\n",
    "    # 'ratings_Sports_and_Outdoors',\n",
    "    'ratings_Toys_and_Games',\n",
    "    # 'ratings_Beauty',\n",
    "]\n",
    "output_dataset_name_list = [\n",
    "    # 'book',\n",
    "    # 'cloth',\n",
    "    # 'movie',\n",
    "    # 'sport',\n",
    "    'toy',\n",
    "    # 'beauty'\n",
    "]\n",
    "user_threshold = 5\n",
    "item_threshold = 5\n",
    "max_seq_len = 50"
   ]
  },
  {
   "cell_type": "markdown",
   "metadata": {},
   "source": [
    "### Load"
   ]
  },
  {
   "cell_type": "code",
   "execution_count": 4,
   "metadata": {},
   "outputs": [],
   "source": [
    "dataset_list = []\n",
    "for idx, dataset_name in enumerate(dataset_name_list):\n",
    "    path = root + dataset_name + '.csv'\n",
    "    dataset = pd.read_csv(path, header=None)\n",
    "    dataset.columns = ['user_id', 'item_id', 'rating', 'timestamp']\n",
    "    # dataset = dataset[dataset.rating > 3]\n",
    "    dataset['domain'] = idx\n",
    "    dataset_list.append(dataset)"
   ]
  },
  {
   "cell_type": "markdown",
   "metadata": {},
   "source": [
    "# Filter"
   ]
  },
  {
   "cell_type": "markdown",
   "metadata": {},
   "source": [
    "### filter by number of interactions"
   ]
  },
  {
   "cell_type": "code",
   "execution_count": 5,
   "metadata": {},
   "outputs": [
    {
     "name": "stdout",
     "output_type": "stream",
     "text": [
      "done!\n"
     ]
    }
   ],
   "source": [
    "filtered_dataset_list = []\n",
    "for dataset in dataset_list:\n",
    "    filtered_dataset = dataset.copy()\n",
    "    while(True):\n",
    "        ori_len = len(filtered_dataset)\n",
    "        filtered_dataset = filtered_dataset[filtered_dataset['user_id'].map(filtered_dataset['user_id'].value_counts()) >= user_threshold]\n",
    "        filtered_dataset = filtered_dataset[filtered_dataset['item_id'].map(filtered_dataset['item_id'].value_counts()) >= item_threshold]\n",
    "        if len(filtered_dataset) == ori_len:\n",
    "            break\n",
    "    print('done!')\n",
    "    filtered_dataset_list.append(filtered_dataset)"
   ]
  },
  {
   "cell_type": "markdown",
   "metadata": {},
   "source": [
    "# Map all ids"
   ]
  },
  {
   "cell_type": "code",
   "execution_count": 6,
   "metadata": {},
   "outputs": [],
   "source": [
    "all_filtered_dataset = pd.concat(filtered_dataset_list)\n",
    "all_user = all_filtered_dataset.user_id\n",
    "all_item = all_filtered_dataset.item_id"
   ]
  },
  {
   "cell_type": "code",
   "execution_count": 7,
   "metadata": {},
   "outputs": [
    {
     "name": "stdout",
     "output_type": "stream",
     "text": [
      "(19412,)\n",
      "(11924,)\n"
     ]
    }
   ],
   "source": [
    "user_id, user_token = pd.factorize(all_user)\n",
    "item_id, item_token = pd.factorize(all_item)\n",
    "num_users = len(user_token) + 1 # 0 id is for PAD\n",
    "num_items = len(item_token) + 1 # 0 id is for PAD\n",
    "user_mapping_dict = {_: idx + 1 for idx, _ in enumerate(user_token)} # 0 id is for PAD\n",
    "item_mapping_dict = {_: idx + 1 for idx, _ in enumerate(item_token)} # 0 id is for PAD\n",
    "print(user_token.shape)\n",
    "print(item_token.shape)"
   ]
  },
  {
   "cell_type": "code",
   "execution_count": 8,
   "metadata": {},
   "outputs": [],
   "source": [
    "all_filtered_dataset['user_id'] = all_filtered_dataset['user_id'].apply(lambda x: user_mapping_dict[x])\n",
    "all_filtered_dataset['item_id'] = all_filtered_dataset['item_id'].apply(lambda x: item_mapping_dict[x])"
   ]
  },
  {
   "cell_type": "code",
   "execution_count": 9,
   "metadata": {},
   "outputs": [],
   "source": [
    "mapped_dataset_list = [all_filtered_dataset[all_filtered_dataset['domain'] == idx] for idx in range(len(filtered_dataset_list))]"
   ]
  },
  {
   "cell_type": "markdown",
   "metadata": {},
   "source": [
    "# Generate sequences"
   ]
  },
  {
   "cell_type": "markdown",
   "metadata": {},
   "source": [
    "### Define padding token id"
   ]
  },
  {
   "cell_type": "code",
   "execution_count": 10,
   "metadata": {},
   "outputs": [],
   "source": [
    "PAD = 0"
   ]
  },
  {
   "cell_type": "markdown",
   "metadata": {},
   "source": [
    "### In-domain sequences"
   ]
  },
  {
   "cell_type": "code",
   "execution_count": 11,
   "metadata": {},
   "outputs": [],
   "source": [
    "def to_list(x):\n",
    "    return list(x)[:-2]\n",
    "dataset = mapped_dataset_list[0]\n",
    "dataset = dataset.sort_values(by=['user_id', 'timestamp'])\n",
    "user_group = dataset.groupby('user_id')['item_id'].apply(to_list)\n",
    "torch.save(user_group.tolist(), 'pattern-toys-noise-50.pth')"
   ]
  },
  {
   "cell_type": "code",
   "execution_count": 12,
   "metadata": {},
   "outputs": [
    {
     "name": "stdout",
     "output_type": "stream",
     "text": [
      "toy done!\n"
     ]
    }
   ],
   "source": [
    "\n",
    "\n",
    "def truncate_or_pad(seq):\n",
    "    cur_seq_len = len(seq)\n",
    "    if cur_seq_len > max_seq_len:\n",
    "        return seq[-max_seq_len:], max_seq_len\n",
    "    else:\n",
    "        return seq + [PAD] * (max_seq_len - cur_seq_len), cur_seq_len\n",
    "\n",
    "for idx, dataset in enumerate(mapped_dataset_list):\n",
    "    dataset = dataset.sort_values(by=['user_id', 'timestamp'])\n",
    "    user_group = dataset.groupby('user_id')['item_id'].apply(list)\n",
    "    train, val, test = [], [], []\n",
    "    for user_id, user_seq in list(zip(user_group.index, user_group.tolist())):\n",
    "        user_seq = user_seq[-max_seq_len:]\n",
    "        # iterate on each user sequence\n",
    "        # ------ test sample ------------\n",
    "        history, seq_len = truncate_or_pad(user_seq[:-1])\n",
    "        target_data = user_seq[-1]\n",
    "        label = 1\n",
    "        domain_id = [idx] * max_seq_len\n",
    "        test.append([user_id, history, target_data, seq_len, label, domain_id, history])\n",
    "        # ------ val sample -------------\n",
    "        history, seq_len = truncate_or_pad(user_seq[:-2])\n",
    "        target_data = user_seq[-2]\n",
    "        label = 1\n",
    "        domain_id = [idx] * max_seq_len\n",
    "        val.append([user_id, history, target_data, seq_len, label, domain_id, history])\n",
    "        # ------ train sample -----------\n",
    "        history, seq_len = truncate_or_pad(user_seq[:-3])\n",
    "        target_data, _ = truncate_or_pad(user_seq[-seq_len-2:-2])\n",
    "        label = [1] * seq_len + [PAD] * (max_seq_len - seq_len)\n",
    "        domain_id = [idx] * max_seq_len\n",
    "        train.append([user_id, history, target_data, seq_len, label, domain_id])\n",
    "    torch.save(train, os.path.join(output_path, output_dataset_name_list[idx], 'train.pth'))\n",
    "    torch.save(val, os.path.join(output_path, output_dataset_name_list[idx], 'val.pth'))\n",
    "    torch.save(test, os.path.join(output_path, output_dataset_name_list[idx], 'test.pth'))\n",
    "    print('{} done!'.format(output_dataset_name_list[idx]))"
   ]
  },
  {
   "cell_type": "markdown",
   "metadata": {},
   "source": [
    "### mixed sequence"
   ]
  },
  {
   "cell_type": "markdown",
   "metadata": {},
   "source": [
    "# Save"
   ]
  },
  {
   "cell_type": "code",
   "execution_count": 13,
   "metadata": {},
   "outputs": [
    {
     "name": "stdout",
     "output_type": "stream",
     "text": [
      "(19412,)\n",
      "(11924,)\n",
      "167597\n"
     ]
    }
   ],
   "source": [
    "print(mapped_dataset_list[0]['user_id'].unique().shape)\n",
    "print(mapped_dataset_list[0]['item_id'].unique().shape)\n",
    "print(len(mapped_dataset_list[0]))"
   ]
  },
  {
   "cell_type": "code",
   "execution_count": 14,
   "metadata": {},
   "outputs": [],
   "source": [
    "for d_name, d in zip(output_dataset_name_list, mapped_dataset_list):\n",
    "    d.to_csv(os.path.join(output_path, d_name, 'inter.csv'), sep=',', index=None)"
   ]
  },
  {
   "cell_type": "markdown",
   "metadata": {},
   "source": [
    "# Condense"
   ]
  },
  {
   "cell_type": "code",
   "execution_count": 12,
   "metadata": {},
   "outputs": [],
   "source": [
    "\n",
    "user_id = torch.tensor([_[0] for _ in train])\n",
    "user_seq = torch.tensor([_[1] for _ in train])\n",
    "target_item = torch.tensor([_[2] for _ in train])\n",
    "seq_len = torch.tensor([_[3] for _ in train])\n",
    "label = torch.tensor([_[4] for _ in train])\n",
    "domain_id = torch.tensor([_[5] for _ in train])\n",
    "sorted_seq_len, sorted_index = torch.sort(seq_len, descending=True)\n",
    "sorted_seq_len = sorted_seq_len.tolist()\n",
    "sorted_seq = user_seq[sorted_index].tolist()\n",
    "sorted_target_item = target_item[sorted_index].tolist()\n",
    "merged_data = [[], [], [], [], [], []]\n",
    "pre_pointer, post_pointer = 0, len(user_seq) - 1\n",
    "while(pre_pointer <= post_pointer):\n",
    "    cur_seq, cur_seq_len, cur_target_item = sorted_seq[pre_pointer], sorted_seq_len[pre_pointer], sorted_target_item[pre_pointer]\n",
    "    # find to to appended\n",
    "    while cur_seq_len <= max_seq_len:\n",
    "        post_seq_len = sorted_seq_len[post_pointer]\n",
    "        if (cur_seq_len + post_seq_len <= max_seq_len) and pre_pointer != post_pointer:\n",
    "            cur_seq = cur_seq[:cur_seq_len] + sorted_seq[post_pointer][:post_seq_len]\n",
    "            cur_target_item = cur_target_item[:cur_seq_len] + sorted_target_item[post_pointer][:post_seq_len]\n",
    "            cur_seq_len = cur_seq_len + post_seq_len\n",
    "            post_pointer -= 1\n",
    "        else:# Add padding and record this sequence\n",
    "            cur_seq = torch.tensor(cur_seq[:cur_seq_len] + [0] * (max_seq_len - cur_seq_len))\n",
    "            cur_target_item = torch.tensor(cur_target_item[:cur_seq_len] + [0] * (max_seq_len - cur_seq_len))\n",
    "            cur_seq_len = torch.tensor([cur_seq_len])\n",
    "            user_id_, label_, domain_id_ = torch.tensor([0]), torch.tensor([0]), torch.zeros_like(cur_seq)\n",
    "            merged_data[0].append(user_id_) # useless\n",
    "            merged_data[1].append(cur_seq)\n",
    "            merged_data[2].append(cur_target_item)\n",
    "            merged_data[3].append(cur_seq_len)\n",
    "            merged_data[4].append(label_) # useless\n",
    "            merged_data[5].append(domain_id_) # useless\n",
    "            pre_pointer += 1\n",
    "            break\n",
    "merged_data = [torch.stack(_).squeeze() for _ in merged_data]"
   ]
  },
  {
   "cell_type": "code",
   "execution_count": 15,
   "metadata": {},
   "outputs": [],
   "source": [
    "condensed_data = []\n",
    "for idx in range(len(merged_data[0])):\n",
    "    user_id = 0\n",
    "    user_seq = merged_data[1][idx].tolist()\n",
    "    target_item = merged_data[2][idx].tolist()\n",
    "    seq_len = merged_data[3][idx].item()\n",
    "    label = 1\n",
    "    domain_id = 0\n",
    "    for _ in range(seq_len):\n",
    "        new_seq, new_seq_len = truncate_or_pad(user_seq[:_+1])\n",
    "        condensed_data.append([\n",
    "            user_id,\n",
    "            new_seq,\n",
    "            target_item[_],\n",
    "            new_seq_len,\n",
    "            label,\n",
    "            domain_id\n",
    "        ])"
   ]
  },
  {
   "cell_type": "code",
   "execution_count": 16,
   "metadata": {},
   "outputs": [
    {
     "data": {
      "text/plain": [
       "106254"
      ]
     },
     "execution_count": 16,
     "metadata": {},
     "output_type": "execute_result"
    }
   ],
   "source": [
    "len(condensed_data)"
   ]
  },
  {
   "cell_type": "code",
   "execution_count": 43,
   "metadata": {},
   "outputs": [],
   "source": [
    "original = torch.load('./amazon-toys-seq-noise-50/toy/train.pth')"
   ]
  },
  {
   "cell_type": "code",
   "execution_count": 46,
   "metadata": {},
   "outputs": [
    {
     "data": {
      "text/plain": [
       "109361"
      ]
     },
     "execution_count": 46,
     "metadata": {},
     "output_type": "execute_result"
    }
   ],
   "source": [
    "len(original)"
   ]
  },
  {
   "cell_type": "code",
   "execution_count": 17,
   "metadata": {},
   "outputs": [],
   "source": [
    "torch.save(condensed_data, 'train_condense.pth')"
   ]
  }
 ],
 "metadata": {
  "kernelspec": {
   "display_name": "base",
   "language": "python",
   "name": "python3"
  },
  "language_info": {
   "codemirror_mode": {
    "name": "ipython",
    "version": 3
   },
   "file_extension": ".py",
   "mimetype": "text/x-python",
   "name": "python",
   "nbconvert_exporter": "python",
   "pygments_lexer": "ipython3",
   "version": "3.9.0"
  }
 },
 "nbformat": 4,
 "nbformat_minor": 2
}
