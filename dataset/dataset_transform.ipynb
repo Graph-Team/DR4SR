{
 "cells": [
  {
   "cell_type": "code",
   "execution_count": 3,
   "metadata": {},
   "outputs": [],
   "source": [
    "import pandas as pd\n",
    "import os\n",
    "import random\n",
    "import torch\n",
    "import yaml"
   ]
  },
  {
   "cell_type": "code",
   "execution_count": 48,
   "metadata": {},
   "outputs": [],
   "source": [
    "dataset_name = 'toy'\n",
    "full_dataset_name = 'amazon-toys'\n",
    "train_file = 'train.pth'\n",
    "max_seq_len = 50"
   ]
  },
  {
   "cell_type": "code",
   "execution_count": 49,
   "metadata": {},
   "outputs": [],
   "source": [
    "path = os.path.join(full_dataset_name, dataset_name, train_file)\n",
    "seq2seq_traindata = torch.load(path)"
   ]
  },
  {
   "cell_type": "code",
   "execution_count": 50,
   "metadata": {},
   "outputs": [],
   "source": [
    "\n",
    "def truncate_or_pad_to_prefix(seq):\n",
    "    cur_seq_len = len(seq)\n",
    "    if cur_seq_len > max_seq_len:\n",
    "        return seq[-max_seq_len:]\n",
    "    else:\n",
    "        return [0] * (max_seq_len - cur_seq_len) + seq\n",
    "\n",
    "data_new = []\n",
    "for line in seq2seq_traindata:\n",
    "    user_id, user_seq, target_seq, seqlen, label, domain = line\n",
    "    user_seq = list(user_seq)\n",
    "    for idx in range(seqlen):\n",
    "        sub_seq = user_seq[:idx + 1]\n",
    "        sub_target = target_seq[idx]\n",
    "        sub_len = idx + 1\n",
    "        data_new.append([\n",
    "            user_id,\n",
    "            truncate_or_pad_to_prefix(sub_seq),\n",
    "            sub_target,\n",
    "            sub_len,\n",
    "            1,\n",
    "            0\n",
    "        ])\n"
   ]
  },
  {
   "cell_type": "code",
   "execution_count": 51,
   "metadata": {},
   "outputs": [],
   "source": [
    "path = os.path.join(full_dataset_name, dataset_name, 'train_ori_seq.pth')\n",
    "torch.save(data_new, path)"
   ]
  },
  {
   "cell_type": "markdown",
   "metadata": {},
   "source": [
    "# reverse"
   ]
  },
  {
   "cell_type": "code",
   "execution_count": 67,
   "metadata": {},
   "outputs": [],
   "source": [
    "dataset_name = 'yelp'\n",
    "full_dataset_name = 'yelp-50'\n",
    "train_file = 'val.pth'\n",
    "max_seq_len = 50"
   ]
  },
  {
   "cell_type": "code",
   "execution_count": 68,
   "metadata": {},
   "outputs": [],
   "source": [
    "path = os.path.join(full_dataset_name, dataset_name, train_file)\n",
    "seq2seq_valdata = torch.load(path)"
   ]
  },
  {
   "cell_type": "code",
   "execution_count": 69,
   "metadata": {},
   "outputs": [],
   "source": [
    "\n",
    "def truncate_or_pad_to_prefix(seq):\n",
    "    cur_seq_len = len(seq)\n",
    "    if cur_seq_len > max_seq_len:\n",
    "        return seq[-max_seq_len:]\n",
    "    else:\n",
    "        return [0] * (max_seq_len - cur_seq_len) + seq\n",
    "\n",
    "data_new = []\n",
    "for line in seq2seq_valdata:\n",
    "    user_id, user_seq, target_item, seqlen, label, domain = line\n",
    "    user_seq = list(user_seq)\n",
    "    sub_seq = user_seq[:seqlen]\n",
    "    data_new.append([\n",
    "        user_id,\n",
    "        truncate_or_pad_to_prefix(sub_seq),\n",
    "        target_item,\n",
    "        seqlen,\n",
    "        1,\n",
    "        0,\n",
    "    ])\n"
   ]
  },
  {
   "cell_type": "code",
   "execution_count": 70,
   "metadata": {},
   "outputs": [],
   "source": [
    "path = os.path.join(full_dataset_name, dataset_name, 'val_seq.pth')\n",
    "torch.save(data_new, path)"
   ]
  },
  {
   "cell_type": "markdown",
   "metadata": {},
   "source": [
    "# reverse Seq2Seq"
   ]
  },
  {
   "cell_type": "code",
   "execution_count": 4,
   "metadata": {},
   "outputs": [],
   "source": [
    "dataset_name = 'toy'\n",
    "full_dataset_name = 'amazon-toys-50'\n",
    "train_file = 'train_gene-real2.pth'\n",
    "max_seq_len = 50"
   ]
  },
  {
   "cell_type": "code",
   "execution_count": 5,
   "metadata": {},
   "outputs": [],
   "source": [
    "path = os.path.join(full_dataset_name, dataset_name, train_file)\n",
    "seq2seq_traindata = torch.load(path)"
   ]
  },
  {
   "cell_type": "code",
   "execution_count": 7,
   "metadata": {},
   "outputs": [],
   "source": [
    "\n",
    "def truncate_or_pad_to_prefix(seq):\n",
    "    cur_seq_len = len(seq)\n",
    "    if cur_seq_len > max_seq_len:\n",
    "        return seq[-max_seq_len:]\n",
    "    else:\n",
    "        return [0] * (max_seq_len - cur_seq_len) + seq\n",
    "\n",
    "data_new = []\n",
    "for line in seq2seq_traindata:\n",
    "    user_id, user_seq, target_seq, seqlen, label, domain = line\n",
    "    user_seq, target_seq = list(user_seq), list(target_seq)\n",
    "    sub_seq = user_seq[:seqlen]\n",
    "    sub_target = target_seq[:seqlen]\n",
    "    data_new.append([\n",
    "        user_id,\n",
    "        truncate_or_pad_to_prefix(sub_seq),\n",
    "        truncate_or_pad_to_prefix(sub_target),\n",
    "        seqlen,\n",
    "        label,\n",
    "        domain,\n",
    "    ])\n"
   ]
  },
  {
   "cell_type": "code",
   "execution_count": 8,
   "metadata": {},
   "outputs": [],
   "source": [
    "path = os.path.join(full_dataset_name, dataset_name, 'train_gene-real2_seq2seq.pth')\n",
    "torch.save(data_new, path)"
   ]
  }
 ],
 "metadata": {
  "kernelspec": {
   "display_name": "Lab",
   "language": "python",
   "name": "python3"
  },
  "language_info": {
   "codemirror_mode": {
    "name": "ipython",
    "version": 3
   },
   "file_extension": ".py",
   "mimetype": "text/x-python",
   "name": "python",
   "nbconvert_exporter": "python",
   "pygments_lexer": "ipython3",
   "version": "3.9.15"
  }
 },
 "nbformat": 4,
 "nbformat_minor": 2
}
