{
 "cells": [
  {
   "cell_type": "code",
   "execution_count": 16,
   "metadata": {},
   "outputs": [],
   "source": [
    "import pandas as pd\n",
    "import os\n",
    "import random\n",
    "import torch"
   ]
  },
  {
   "cell_type": "code",
   "execution_count": 17,
   "metadata": {},
   "outputs": [],
   "source": [
    "random.seed(2024)"
   ]
  },
  {
   "cell_type": "markdown",
   "metadata": {},
   "source": [
    "# Load original dataset"
   ]
  },
  {
   "cell_type": "markdown",
   "metadata": {},
   "source": [
    "### Selecting datasets"
   ]
  },
  {
   "cell_type": "code",
   "execution_count": 18,
   "metadata": {},
   "outputs": [],
   "source": [
    "# root = '/data/mjyin/dataset/AmazonRaw/'\n",
    "# output_path = './debug2/'\n",
    "# dataset_name_list = [\n",
    "#     'ratings_Books',\n",
    "#     # 'ratings_Clothing_Shoes_and_Jewelry',\n",
    "#     'ratings_Movies_and_TV',\n",
    "#     # 'ratings_Sports_and_Outdoors',\n",
    "#     # 'ratings_Toys_and_Games',\n",
    "# ]\n",
    "# output_dataset_name_list = [\n",
    "#     'book',\n",
    "#     # 'cloth',\n",
    "#     'movie',\n",
    "#     # 'sport',\n",
    "#     # 'toy'\n",
    "# ]\n",
    "\n",
    "root = '/data/mjyin/dataset/AmazonRaw/'\n",
    "output_path = './debug2/'\n",
    "dataset_name_list = [\n",
    "    'ratings_Toys_and_Games',\n",
    "    'ratings_Sports_and_Outdoors',\n",
    "]\n",
    "output_dataset_name_list = [\n",
    "    'toy',\n",
    "    'sport',\n",
    "]"
   ]
  },
  {
   "cell_type": "markdown",
   "metadata": {},
   "source": [
    "### Load"
   ]
  },
  {
   "cell_type": "code",
   "execution_count": 19,
   "metadata": {},
   "outputs": [],
   "source": [
    "dataset_list = []\n",
    "for idx, dataset_name in enumerate(dataset_name_list):\n",
    "    path = root + dataset_name + '.csv'\n",
    "    dataset = pd.read_csv(path, header=None)\n",
    "    dataset.columns = ['user_id', 'item_id', 'rating', 'timestamp']\n",
    "    dataset = dataset[dataset.rating >= 3]\n",
    "    dataset['domain'] = idx\n",
    "    dataset_list.append(dataset)"
   ]
  },
  {
   "cell_type": "markdown",
   "metadata": {},
   "source": [
    "# Filter"
   ]
  },
  {
   "cell_type": "markdown",
   "metadata": {},
   "source": [
    "### filter by number of interactions"
   ]
  },
  {
   "cell_type": "code",
   "execution_count": 20,
   "metadata": {},
   "outputs": [
    {
     "name": "stdout",
     "output_type": "stream",
     "text": [
      "done!\n",
      "done!\n"
     ]
    }
   ],
   "source": [
    "user_threshold = 5\n",
    "item_threshold = 5\n",
    "filtered_dataset_list = []\n",
    "for dataset in dataset_list:\n",
    "    filtered_dataset = dataset.copy()\n",
    "    while(True):\n",
    "        ori_len = len(filtered_dataset)\n",
    "        filtered_dataset = filtered_dataset[filtered_dataset['user_id'].map(filtered_dataset['user_id'].value_counts()) >= user_threshold]\n",
    "        filtered_dataset = filtered_dataset[filtered_dataset['item_id'].map(filtered_dataset['item_id'].value_counts()) >= item_threshold]\n",
    "        if len(filtered_dataset) == ori_len:\n",
    "            break\n",
    "    print('done!')\n",
    "    filtered_dataset_list.append(filtered_dataset)"
   ]
  },
  {
   "cell_type": "markdown",
   "metadata": {},
   "source": [
    "# Map all ids"
   ]
  },
  {
   "cell_type": "code",
   "execution_count": 21,
   "metadata": {},
   "outputs": [],
   "source": [
    "all_filtered_dataset = pd.concat(filtered_dataset_list)\n",
    "all_user = all_filtered_dataset.user_id\n",
    "all_item = all_filtered_dataset.item_id"
   ]
  },
  {
   "cell_type": "code",
   "execution_count": 22,
   "metadata": {},
   "outputs": [
    {
     "name": "stdout",
     "output_type": "stream",
     "text": [
      "(43422,)\n",
      "(25091,)\n"
     ]
    }
   ],
   "source": [
    "user_id, user_token = pd.factorize(all_user)\n",
    "item_id, item_token = pd.factorize(all_item)\n",
    "user_mapping_dict = {_: idx for idx, _ in enumerate(user_token)}\n",
    "item_mapping_dict = {_: idx for idx, _ in enumerate(item_token)}\n",
    "print(user_token.shape)\n",
    "print(item_token.shape)"
   ]
  },
  {
   "cell_type": "code",
   "execution_count": 23,
   "metadata": {},
   "outputs": [],
   "source": [
    "all_filtered_dataset['user_id'] = all_filtered_dataset['user_id'].apply(lambda x: user_mapping_dict[x])\n",
    "all_filtered_dataset['item_id'] = all_filtered_dataset['item_id'].apply(lambda x: item_mapping_dict[x])"
   ]
  },
  {
   "cell_type": "code",
   "execution_count": 24,
   "metadata": {},
   "outputs": [],
   "source": [
    "mapped_dataset_list = [all_filtered_dataset[all_filtered_dataset['domain'] == idx] for idx in range(len(filtered_dataset_list))]"
   ]
  },
  {
   "cell_type": "markdown",
   "metadata": {},
   "source": [
    "# Generate sequences"
   ]
  },
  {
   "cell_type": "markdown",
   "metadata": {},
   "source": [
    "### Define padding token id"
   ]
  },
  {
   "cell_type": "code",
   "execution_count": 25,
   "metadata": {},
   "outputs": [],
   "source": [
    "PAD = all_filtered_dataset.item_id.unique().shape[0]"
   ]
  },
  {
   "cell_type": "markdown",
   "metadata": {},
   "source": [
    "### In-domain sequences"
   ]
  },
  {
   "cell_type": "code",
   "execution_count": 26,
   "metadata": {},
   "outputs": [
    {
     "name": "stdout",
     "output_type": "stream",
     "text": [
      "toy done!\n",
      "sport done!\n"
     ]
    }
   ],
   "source": [
    "max_seq_len = 50\n",
    "\n",
    "def truncate_or_pad(seq):\n",
    "    cur_seq_len = len(seq)\n",
    "    if cur_seq_len > max_seq_len:\n",
    "        return seq[-max_seq_len:], max_seq_len\n",
    "    else:\n",
    "        return seq + [PAD] * (max_seq_len - cur_seq_len), cur_seq_len\n",
    "\n",
    "for idx, dataset in enumerate(mapped_dataset_list):\n",
    "    dataset = dataset.sort_values(by=['user_id', 'timestamp'])\n",
    "    user_group = dataset.groupby('user_id')['item_id'].apply(list)\n",
    "    train, val, test = [], [], []\n",
    "    for user_id, user_seq in list(zip(user_group.index, user_group.tolist())):\n",
    "        user_seq = user_seq[-max_seq_len:]\n",
    "        # iterate on each user sequence\n",
    "        # ------ test sample ------------\n",
    "        history, seq_len = truncate_or_pad(user_seq[:-1])\n",
    "        target_data = user_seq[-1]\n",
    "        label = 1\n",
    "        domain_id = [idx] * max_seq_len\n",
    "        test.append([user_id, history, target_data, seq_len, label, domain_id])\n",
    "        # ------ val sample -------------\n",
    "        history, seq_len = truncate_or_pad(user_seq[:-2])\n",
    "        target_data = user_seq[-2]\n",
    "        label = 1\n",
    "        domain_id = [idx] * max_seq_len\n",
    "        val.append([user_id, history, target_data, seq_len, label, domain_id])\n",
    "        # ------ train sample -----------\n",
    "        history, seq_len = truncate_or_pad(user_seq[:-3])\n",
    "        target_data, _ = truncate_or_pad(user_seq[-seq_len-2:-2])\n",
    "        label = [1] * seq_len + [0] * (max_seq_len - seq_len)\n",
    "        domain_id = [idx] * max_seq_len\n",
    "        train.append([user_id, history, target_data, seq_len, label, domain_id])\n",
    "    torch.save(train, os.path.join(output_path, output_dataset_name_list[idx], 'train.pth'))\n",
    "    torch.save(val, os.path.join(output_path, output_dataset_name_list[idx], 'val.pth'))\n",
    "    torch.save(test, os.path.join(output_path, output_dataset_name_list[idx], 'test.pth'))\n",
    "    print('{} done!'.format(output_dataset_name_list[idx]))"
   ]
  },
  {
   "cell_type": "markdown",
   "metadata": {},
   "source": [
    "### mixed sequence"
   ]
  },
  {
   "cell_type": "markdown",
   "metadata": {},
   "source": [
    "# Save"
   ]
  },
  {
   "cell_type": "code",
   "execution_count": 27,
   "metadata": {},
   "outputs": [],
   "source": [
    "for d_name, d in zip(output_dataset_name_list, mapped_dataset_list):\n",
    "    d.to_csv(os.path.join(output_path, d_name, 'inter.csv'), sep=',', index=None)"
   ]
  },
  {
   "cell_type": "code",
   "execution_count": 28,
   "metadata": {},
   "outputs": [
    {
     "name": "stdout",
     "output_type": "stream",
     "text": [
      "(15528,)\n",
      "(9696,)\n"
     ]
    }
   ],
   "source": [
    "print(mapped_dataset_list[0]['user_id'].unique().shape)\n",
    "print(mapped_dataset_list[0]['item_id'].unique().shape)"
   ]
  },
  {
   "cell_type": "code",
   "execution_count": 29,
   "metadata": {},
   "outputs": [
    {
     "name": "stdout",
     "output_type": "stream",
     "text": [
      "(29277,)\n",
      "(15396,)\n"
     ]
    }
   ],
   "source": [
    "print(mapped_dataset_list[1]['user_id'].unique().shape)\n",
    "print(mapped_dataset_list[1]['item_id'].unique().shape)"
   ]
  }
 ],
 "metadata": {
  "kernelspec": {
   "display_name": "base",
   "language": "python",
   "name": "python3"
  },
  "language_info": {
   "codemirror_mode": {
    "name": "ipython",
    "version": 3
   },
   "file_extension": ".py",
   "mimetype": "text/x-python",
   "name": "python",
   "nbconvert_exporter": "python",
   "pygments_lexer": "ipython3",
   "version": "3.9.15"
  }
 },
 "nbformat": 4,
 "nbformat_minor": 2
}
