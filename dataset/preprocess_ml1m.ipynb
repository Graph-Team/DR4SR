{
 "cells": [
  {
   "cell_type": "code",
   "execution_count": 17,
   "metadata": {},
   "outputs": [],
   "source": [
    "import pandas as pd\n",
    "import os\n",
    "import random\n",
    "import torch\n",
    "import yaml"
   ]
  },
  {
   "cell_type": "code",
   "execution_count": 18,
   "metadata": {},
   "outputs": [],
   "source": [
    "random.seed(2024)"
   ]
  },
  {
   "cell_type": "markdown",
   "metadata": {},
   "source": [
    "# Load original dataset"
   ]
  },
  {
   "cell_type": "markdown",
   "metadata": {},
   "source": [
    "### Selecting datasets"
   ]
  },
  {
   "cell_type": "code",
   "execution_count": 19,
   "metadata": {},
   "outputs": [],
   "source": [
    "root = '/root/dataset/ml-1m/'\n",
    "output_path = './ml-1m-seq/'\n",
    "dataset_name_list = [\n",
    "    \"ml-1m\",\n",
    "]\n",
    "output_dataset_name_list = [\n",
    "    \"ml-1m\",\n",
    "]\n",
    "user_threshold = 5\n",
    "item_threshold = 5\n",
    "max_seq_len = 200"
   ]
  },
  {
   "cell_type": "markdown",
   "metadata": {},
   "source": [
    "### Load"
   ]
  },
  {
   "cell_type": "code",
   "execution_count": 20,
   "metadata": {},
   "outputs": [
    {
     "name": "stderr",
     "output_type": "stream",
     "text": [
      "/tmp/ipykernel_1409/684885453.py:4: ParserWarning: Falling back to the 'python' engine because the 'c' engine does not support regex separators (separators > 1 char and different from '\\s+' are interpreted as regex); you can avoid this warning by specifying engine='python'.\n",
      "  dataset = pd.read_csv(path, header=None, sep='::')\n"
     ]
    }
   ],
   "source": [
    "dataset_list = []\n",
    "for idx, dataset_name in enumerate(dataset_name_list):\n",
    "    path = root + dataset_name + '.dat'\n",
    "    dataset = pd.read_csv(path, header=None, sep='::')\n",
    "    dataset.columns = ['user_id', 'item_id', 'rating', 'timestamp']\n",
    "    dataset = dataset[dataset.rating > 3]\n",
    "    dataset['domain'] = idx\n",
    "    dataset_list.append(dataset)"
   ]
  },
  {
   "cell_type": "markdown",
   "metadata": {},
   "source": [
    "# Filter"
   ]
  },
  {
   "cell_type": "markdown",
   "metadata": {},
   "source": [
    "### filter by number of interactions"
   ]
  },
  {
   "cell_type": "code",
   "execution_count": 21,
   "metadata": {},
   "outputs": [
    {
     "name": "stdout",
     "output_type": "stream",
     "text": [
      "done!\n"
     ]
    }
   ],
   "source": [
    "filtered_dataset_list = []\n",
    "for dataset in dataset_list:\n",
    "    filtered_dataset = dataset.copy()\n",
    "    while(True):\n",
    "        ori_len = len(filtered_dataset)\n",
    "        filtered_dataset = filtered_dataset[filtered_dataset['user_id'].map(filtered_dataset['user_id'].value_counts()) >= user_threshold]\n",
    "        filtered_dataset = filtered_dataset[filtered_dataset['item_id'].map(filtered_dataset['item_id'].value_counts()) >= item_threshold]\n",
    "        if len(filtered_dataset) == ori_len:\n",
    "            break\n",
    "    print('done!')\n",
    "    filtered_dataset_list.append(filtered_dataset)"
   ]
  },
  {
   "cell_type": "markdown",
   "metadata": {},
   "source": [
    "# Map all ids"
   ]
  },
  {
   "cell_type": "code",
   "execution_count": 22,
   "metadata": {},
   "outputs": [],
   "source": [
    "all_filtered_dataset = pd.concat(filtered_dataset_list)\n",
    "all_user = all_filtered_dataset.user_id\n",
    "all_item = all_filtered_dataset.item_id"
   ]
  },
  {
   "cell_type": "code",
   "execution_count": 23,
   "metadata": {},
   "outputs": [
    {
     "name": "stdout",
     "output_type": "stream",
     "text": [
      "(6034,)\n",
      "(3125,)\n"
     ]
    }
   ],
   "source": [
    "user_id, user_token = pd.factorize(all_user)\n",
    "item_id, item_token = pd.factorize(all_item)\n",
    "num_users = len(user_token) + 1 # 0 id is for PAD\n",
    "num_items = len(item_token) + 1 # 0 id is for PAD\n",
    "user_mapping_dict = {_: idx + 1 for idx, _ in enumerate(user_token)} # 0 id is for PAD\n",
    "item_mapping_dict = {_: idx + 1 for idx, _ in enumerate(item_token)} # 0 id is for PAD\n",
    "print(user_token.shape)\n",
    "print(item_token.shape)"
   ]
  },
  {
   "cell_type": "code",
   "execution_count": 24,
   "metadata": {},
   "outputs": [],
   "source": [
    "all_filtered_dataset['user_id'] = all_filtered_dataset['user_id'].apply(lambda x: user_mapping_dict[x])\n",
    "all_filtered_dataset['item_id'] = all_filtered_dataset['item_id'].apply(lambda x: item_mapping_dict[x])"
   ]
  },
  {
   "cell_type": "code",
   "execution_count": 25,
   "metadata": {},
   "outputs": [],
   "source": [
    "mapped_dataset_list = [all_filtered_dataset[all_filtered_dataset['domain'] == idx] for idx in range(len(filtered_dataset_list))]"
   ]
  },
  {
   "cell_type": "markdown",
   "metadata": {},
   "source": [
    "# Generate sequences"
   ]
  },
  {
   "cell_type": "markdown",
   "metadata": {},
   "source": [
    "### Define padding token id"
   ]
  },
  {
   "cell_type": "code",
   "execution_count": 26,
   "metadata": {},
   "outputs": [],
   "source": [
    "PAD = 0"
   ]
  },
  {
   "cell_type": "markdown",
   "metadata": {},
   "source": [
    "### In-domain sequences"
   ]
  },
  {
   "cell_type": "code",
   "execution_count": 27,
   "metadata": {},
   "outputs": [],
   "source": [
    "def truncate_or_pad(seq):\n",
    "    cur_seq_len = len(seq)\n",
    "    if cur_seq_len > max_seq_len:\n",
    "        return seq[-max_seq_len:], max_seq_len\n",
    "    else:\n",
    "        return seq + [PAD] * (max_seq_len - cur_seq_len), cur_seq_len"
   ]
  },
  {
   "cell_type": "code",
   "execution_count": null,
   "metadata": {},
   "outputs": [],
   "source": [
    "def to_list(x):\n",
    "    return list(x)[:-2]\n",
    "dataset = mapped_dataset_list[0]\n",
    "dataset = dataset.sort_values(by=['user_id', 'timestamp'])\n",
    "user_group = dataset.groupby('user_id')['item_id'].apply(to_list)\n",
    "torch.save(user_group.tolist(), 'pattern-ml-1m.pth')"
   ]
  },
  {
   "cell_type": "code",
   "execution_count": 12,
   "metadata": {},
   "outputs": [
    {
     "name": "stdout",
     "output_type": "stream",
     "text": [
      "ml-1m done!\n"
     ]
    }
   ],
   "source": [
    "\n",
    "for idx, dataset in enumerate(mapped_dataset_list):\n",
    "    dataset = dataset.sort_values(by=['user_id', 'timestamp'])\n",
    "    user_group = dataset.groupby('user_id')['item_id'].apply(list)\n",
    "    train, val, test = [], [], []\n",
    "    for user_id, user_seq in list(zip(user_group.index, user_group.tolist())):\n",
    "        # user_seq = user_seq[-max_seq_len:]\n",
    "        # iterate on each user sequence\n",
    "        # ------ test sample ------------\n",
    "        history, seq_len = truncate_or_pad(user_seq[:-1])\n",
    "        target_data = user_seq[-1]\n",
    "        label = 1\n",
    "        domain_id = [idx] * max_seq_len\n",
    "        user_hist = user_seq[:-1]\n",
    "        test.append([user_id, history, target_data, seq_len, label, domain_id, user_hist])\n",
    "        # ------ val sample -------------\n",
    "        history, seq_len = truncate_or_pad(user_seq[:-2])\n",
    "        target_data = user_seq[-2]\n",
    "        label = 1\n",
    "        domain_id = [idx] * max_seq_len\n",
    "        user_hist = user_seq[:-2]\n",
    "        val.append([user_id, history, target_data, seq_len, label, domain_id, user_hist])\n",
    "        # ------ train sample -----------\n",
    "        train_seq = user_seq[:-2]\n",
    "        assert len(train_seq) >=2\n",
    "        s, seq_len = 0, 1\n",
    "        while(True):\n",
    "            if s + seq_len == len(train_seq):\n",
    "                break\n",
    "            if seq_len > max_seq_len:\n",
    "                s += 1\n",
    "                seq_len = max_seq_len\n",
    "            history, _ = truncate_or_pad(train_seq[s:s + seq_len])\n",
    "            target_data = train_seq[s + seq_len]\n",
    "            label = 1\n",
    "            domain_id = idx\n",
    "            train.append([user_id, history, target_data, seq_len, label, domain_id])\n",
    "\n",
    "            seq_len += 1\n",
    "    torch.save(train, os.path.join(output_path, output_dataset_name_list[idx], 'train.pth'))\n",
    "    torch.save(val, os.path.join(output_path, output_dataset_name_list[idx], 'val.pth'))\n",
    "    torch.save(test, os.path.join(output_path, output_dataset_name_list[idx], 'test.pth'))\n",
    "    print('{} done!'.format(output_dataset_name_list[idx]))"
   ]
  },
  {
   "cell_type": "code",
   "execution_count": 22,
   "metadata": {},
   "outputs": [
    {
     "name": "stdout",
     "output_type": "stream",
     "text": [
      "ml-1m done!\n"
     ]
    }
   ],
   "source": [
    "\n",
    "\n",
    "def truncate_or_pad(seq):\n",
    "    cur_seq_len = len(seq)\n",
    "    if cur_seq_len > max_seq_len:\n",
    "        return seq[-max_seq_len:], max_seq_len\n",
    "    else:\n",
    "        return seq + [PAD] * (max_seq_len - cur_seq_len), cur_seq_len\n",
    "\n",
    "for idx, dataset in enumerate(mapped_dataset_list):\n",
    "    dataset = dataset.sort_values(by=['user_id', 'timestamp'])\n",
    "    user_group = dataset.groupby('user_id')['item_id'].apply(list)\n",
    "    train, val, test = [], [], []\n",
    "    for user_id, user_seq in list(zip(user_group.index, user_group.tolist())):\n",
    "        user_seq = user_seq[-max_seq_len:]\n",
    "        # iterate on each user sequence\n",
    "        # ------ test sample ------------\n",
    "        history, seq_len = truncate_or_pad(user_seq[:-1])\n",
    "        target_data = user_seq[-1]\n",
    "        label = 1\n",
    "        domain_id = [idx] * max_seq_len\n",
    "        test.append([user_id, history, target_data, seq_len, label, domain_id])\n",
    "        # ------ val sample -------------\n",
    "        history, seq_len = truncate_or_pad(user_seq[:-2])\n",
    "        target_data = user_seq[-2]\n",
    "        label = 1\n",
    "        domain_id = [idx] * max_seq_len\n",
    "        val.append([user_id, history, target_data, seq_len, label, domain_id])\n",
    "        # ------ train sample -----------\n",
    "        history, seq_len = truncate_or_pad(user_seq[:-3])\n",
    "        target_data, _ = truncate_or_pad(user_seq[-seq_len-2:-2])\n",
    "        label = [1] * seq_len + [PAD] * (max_seq_len - seq_len)\n",
    "        domain_id = [idx] * max_seq_len\n",
    "        train.append([user_id, history, target_data, seq_len, label, domain_id])\n",
    "    torch.save(train, os.path.join(output_path, output_dataset_name_list[idx], 'train.pth'))\n",
    "    torch.save(val, os.path.join(output_path, output_dataset_name_list[idx], 'val.pth'))\n",
    "    torch.save(test, os.path.join(output_path, output_dataset_name_list[idx], 'test.pth'))\n",
    "    print('{} done!'.format(output_dataset_name_list[idx]))"
   ]
  },
  {
   "cell_type": "markdown",
   "metadata": {},
   "source": [
    "### mixed sequence"
   ]
  },
  {
   "cell_type": "markdown",
   "metadata": {},
   "source": [
    "# Save"
   ]
  },
  {
   "cell_type": "code",
   "execution_count": 15,
   "metadata": {},
   "outputs": [],
   "source": [
    "for d_name, d in zip(output_dataset_name_list, mapped_dataset_list):\n",
    "    d.to_csv(os.path.join(output_path, d_name, 'inter.csv'), sep=',', index=None)"
   ]
  },
  {
   "cell_type": "code",
   "execution_count": 16,
   "metadata": {},
   "outputs": [
    {
     "name": "stdout",
     "output_type": "stream",
     "text": [
      "(6034,)\n",
      "(3125,)\n"
     ]
    }
   ],
   "source": [
    "print(mapped_dataset_list[0]['user_id'].unique().shape)\n",
    "print(mapped_dataset_list[0]['item_id'].unique().shape)"
   ]
  }
 ],
 "metadata": {
  "kernelspec": {
   "display_name": "base",
   "language": "python",
   "name": "python3"
  },
  "language_info": {
   "codemirror_mode": {
    "name": "ipython",
    "version": 3
   },
   "file_extension": ".py",
   "mimetype": "text/x-python",
   "name": "python",
   "nbconvert_exporter": "python",
   "pygments_lexer": "ipython3",
   "version": "3.9.15"
  }
 },
 "nbformat": 4,
 "nbformat_minor": 2
}
