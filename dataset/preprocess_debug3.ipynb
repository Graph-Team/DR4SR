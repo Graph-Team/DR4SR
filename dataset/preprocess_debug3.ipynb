{
 "cells": [
  {
   "cell_type": "code",
   "execution_count": 28,
   "metadata": {},
   "outputs": [],
   "source": [
    "import pandas as pd\n",
    "import os\n",
    "import random\n",
    "import torch\n",
    "import numpy as np"
   ]
  },
  {
   "cell_type": "code",
   "execution_count": 29,
   "metadata": {},
   "outputs": [],
   "source": [
    "random.seed(2024)"
   ]
  },
  {
   "cell_type": "markdown",
   "metadata": {},
   "source": [
    "# Load original dataset"
   ]
  },
  {
   "cell_type": "markdown",
   "metadata": {},
   "source": [
    "### Selecting datasets"
   ]
  },
  {
   "cell_type": "code",
   "execution_count": 30,
   "metadata": {},
   "outputs": [],
   "source": [
    "root = '/data/mjyin/dataset/AmazonRaw/'\n",
    "output_path = './debug3/'\n",
    "dataset_name_list = [\n",
    "    'ratings_Sports_and_Outdoors',\n",
    "    'ratings_Toys_and_Games',\n",
    "]\n",
    "output_dataset_name_list = [\n",
    "    'sport',\n",
    "    'toy',\n",
    "]"
   ]
  },
  {
   "cell_type": "markdown",
   "metadata": {},
   "source": [
    "### Load"
   ]
  },
  {
   "cell_type": "code",
   "execution_count": 31,
   "metadata": {},
   "outputs": [],
   "source": [
    "dataset_list = []\n",
    "for idx, dataset_name in enumerate(dataset_name_list):\n",
    "    path = root + dataset_name + '.csv'\n",
    "    dataset = pd.read_csv(path, header=None)\n",
    "    dataset.columns = ['user_id', 'item_id', 'rating', 'timestamp']\n",
    "    dataset = dataset[dataset.rating >= 3]\n",
    "    dataset['domain'] = idx\n",
    "    dataset_list.append(dataset)"
   ]
  },
  {
   "cell_type": "markdown",
   "metadata": {},
   "source": [
    "# Filter"
   ]
  },
  {
   "cell_type": "markdown",
   "metadata": {},
   "source": [
    "### filter by number of interactions"
   ]
  },
  {
   "cell_type": "code",
   "execution_count": 32,
   "metadata": {},
   "outputs": [
    {
     "name": "stdout",
     "output_type": "stream",
     "text": [
      "done!\n",
      "done!\n"
     ]
    }
   ],
   "source": [
    "user_threshold = 5\n",
    "item_threshold = 5\n",
    "filtered_dataset_list = []\n",
    "for dataset in dataset_list:\n",
    "    filtered_dataset = dataset.copy()\n",
    "    while(True):\n",
    "        ori_len = len(filtered_dataset)\n",
    "        filtered_dataset = filtered_dataset[filtered_dataset['user_id'].map(filtered_dataset['user_id'].value_counts()) >= user_threshold]\n",
    "        filtered_dataset = filtered_dataset[filtered_dataset['item_id'].map(filtered_dataset['item_id'].value_counts()) >= item_threshold]\n",
    "        if len(filtered_dataset) == ori_len:\n",
    "            break\n",
    "    print('done!')\n",
    "    filtered_dataset_list.append(filtered_dataset)"
   ]
  },
  {
   "cell_type": "markdown",
   "metadata": {},
   "source": [
    "# Map all ids"
   ]
  },
  {
   "cell_type": "code",
   "execution_count": 33,
   "metadata": {},
   "outputs": [],
   "source": [
    "all_filtered_dataset = pd.concat(filtered_dataset_list)\n",
    "all_user = all_filtered_dataset.user_id\n",
    "all_item = all_filtered_dataset.item_id"
   ]
  },
  {
   "cell_type": "code",
   "execution_count": 34,
   "metadata": {},
   "outputs": [
    {
     "name": "stdout",
     "output_type": "stream",
     "text": [
      "(43422,)\n",
      "(25091,)\n"
     ]
    }
   ],
   "source": [
    "user_id, user_token = pd.factorize(all_user)\n",
    "item_id, item_token = pd.factorize(all_item)\n",
    "user_mapping_dict = {_: idx for idx, _ in enumerate(user_token)}\n",
    "item_mapping_dict = {_: idx for idx, _ in enumerate(item_token)}\n",
    "print(user_token.shape)\n",
    "print(item_token.shape)"
   ]
  },
  {
   "cell_type": "code",
   "execution_count": 35,
   "metadata": {},
   "outputs": [],
   "source": [
    "all_filtered_dataset['user_id'] = all_filtered_dataset['user_id'].apply(lambda x: user_mapping_dict[x])\n",
    "all_filtered_dataset['item_id'] = all_filtered_dataset['item_id'].apply(lambda x: item_mapping_dict[x])"
   ]
  },
  {
   "cell_type": "code",
   "execution_count": 36,
   "metadata": {},
   "outputs": [],
   "source": [
    "mapped_dataset_list = [all_filtered_dataset[all_filtered_dataset['domain'] == idx] for idx in range(len(filtered_dataset_list))]"
   ]
  },
  {
   "cell_type": "markdown",
   "metadata": {},
   "source": [
    "# Generate sequences"
   ]
  },
  {
   "cell_type": "markdown",
   "metadata": {},
   "source": [
    "### mixed sequence"
   ]
  },
  {
   "cell_type": "code",
   "execution_count": 37,
   "metadata": {},
   "outputs": [],
   "source": [
    "max_seq_len = 20\n",
    "num_domain = len(mapped_dataset_list)\n",
    "PAD = -1 # mask is set to the last position\n",
    "\n",
    "def pad(_seq):\n",
    "    cur_seq_len = len(_seq)\n",
    "    return _seq + [PAD] * (max_seq_len * num_domain - cur_seq_len), cur_seq_len\n",
    "\n",
    "all_mapped_dataset = pd.concat(mapped_dataset_list)\n",
    "all_mapped_dataset = all_mapped_dataset.sort_values(by=['user_id', 'timestamp'])\n",
    "item_id_group = all_mapped_dataset.groupby('user_id')['item_id'].apply(list)\n",
    "domain_id_group = all_mapped_dataset.groupby('user_id')['domain'].apply(np.array)\n",
    "train, val, test = [], [[] for _ in range(num_domain)], [[] for _ in range(num_domain)]\n",
    "\n",
    "for user_id, user_seq in list(zip(item_id_group.index, item_id_group.tolist())):\n",
    "    # get domain seq\n",
    "    domain_seq = domain_id_group[user_id]\n",
    "    # get item position of each domain\n",
    "    domain_mask = [np.where(domain_seq == idx)[0] for idx in range(num_domain)]\n",
    "    # truncate each sub-sequence in each domain\n",
    "    truncated_domain_mask = [_[-max_seq_len:] for _ in domain_mask]\n",
    "    # get the mixed seq/domain_seq and sort\n",
    "    all_truncated_domain_mask = np.concatenate(truncated_domain_mask)\n",
    "    all_truncated_domain_mask.sort()\n",
    "    user_seq = np.array(user_seq)\n",
    "    truncated_seq = user_seq[all_truncated_domain_mask]\n",
    "    truncated_domain_seq = domain_seq[all_truncated_domain_mask]\n",
    "    # re-compute item position of each domain\n",
    "    domain_mask = [np.where(truncated_domain_seq == idx)[0] for idx in range(num_domain)]\n",
    "    # compute test and val location given the domain mask\n",
    "    test_location, val_location = {}, {}\n",
    "    for idx, _ in enumerate(domain_mask):\n",
    "        if len(_) > 0:\n",
    "            test_location[idx] = _[-1]\n",
    "            val_location[idx] = _[-2]\n",
    "\n",
    "    for idx in range(num_domain):\n",
    "        if val_location.get(idx, -1) == -1:\n",
    "            continue\n",
    "        # test\n",
    "        current_test_position = test_location[idx]\n",
    "        \n",
    "        target_data = truncated_seq[current_test_position]\n",
    "\n",
    "        new_seq = truncated_seq.copy()\n",
    "        new_seq = new_seq[:current_test_position + 1]\n",
    "        pad_seq, seq_len = pad(new_seq.tolist()[:-1])\n",
    "\n",
    "        new_domain_seq = truncated_domain_seq.copy()\n",
    "        new_domain_seq = new_domain_seq[:current_test_position + 1]\n",
    "        pad_domain_seq, _ = pad(new_domain_seq.tolist()[:-1])\n",
    "        \n",
    "        label = 1\n",
    "        test[idx].append([user_id, pad_seq, target_data, seq_len, label, pad_domain_seq])\n",
    "\n",
    "        # val\n",
    "        current_val_position = val_location[idx]\n",
    "        \n",
    "        target_data = truncated_seq[current_val_position]\n",
    "\n",
    "        new_seq = truncated_seq.copy()\n",
    "        new_seq = new_seq[:current_val_position + 1]\n",
    "        pad_seq, seq_len = pad(new_seq.tolist()[:-1])\n",
    "\n",
    "        new_domain_seq = truncated_domain_seq.copy()\n",
    "        new_domain_seq = new_domain_seq[:current_val_position + 1]\n",
    "        pad_domain_seq, _ = pad(new_domain_seq.tolist()[:-1])\n",
    "        \n",
    "        label = 1\n",
    "        val[idx].append([user_id, pad_seq, target_data, seq_len, label, pad_domain_seq])\n",
    "\n",
    "    # train\n",
    "    new_seq = truncated_seq.copy()\n",
    "    new_seq[list(test_location.values())] = PAD\n",
    "    new_seq[list(val_location.values())] = PAD\n",
    "    pad_seq, seq_len = pad(new_seq.tolist()[:-1])\n",
    "    target_data, _ = pad(new_seq.tolist()[1:])\n",
    "\n",
    "    new_domain_seq = truncated_domain_seq.copy()\n",
    "    new_domain_seq[list(test_location.values())] = PAD\n",
    "    new_domain_seq[list(val_location.values())] = PAD\n",
    "    pad_domain_seq, _ = pad(new_domain_seq.tolist()[:-1])\n",
    "    \n",
    "    label = [1 if _ != -1 else 0 for _ in pad_domain_seq]\n",
    "    train.append([user_id, pad_seq, target_data, seq_len, label, pad_domain_seq])\n",
    "\n",
    "torch.save(train, os.path.join(output_path, 'train.pth'))\n",
    "for idx in range(num_domain):\n",
    "    torch.save(val[idx], os.path.join(output_path, output_dataset_name_list[idx], 'val.pth'))\n",
    "    torch.save(test[idx], os.path.join(output_path, output_dataset_name_list[idx], 'test.pth'))"
   ]
  },
  {
   "cell_type": "markdown",
   "metadata": {},
   "source": [
    "# Save"
   ]
  },
  {
   "cell_type": "code",
   "execution_count": 38,
   "metadata": {},
   "outputs": [],
   "source": [
    "for d_name, d in zip(output_dataset_name_list, mapped_dataset_list):\n",
    "    d.to_csv(os.path.join(output_path, d_name, 'inter.csv'), sep=',', index=None)"
   ]
  },
  {
   "cell_type": "code",
   "execution_count": 39,
   "metadata": {},
   "outputs": [
    {
     "name": "stdout",
     "output_type": "stream",
     "text": [
      "(29277,)\n",
      "(15396,)\n"
     ]
    }
   ],
   "source": [
    "print(mapped_dataset_list[0]['user_id'].unique().shape)\n",
    "print(mapped_dataset_list[0]['item_id'].unique().shape)"
   ]
  },
  {
   "cell_type": "code",
   "execution_count": 40,
   "metadata": {},
   "outputs": [
    {
     "name": "stdout",
     "output_type": "stream",
     "text": [
      "(15528,)\n",
      "(9696,)\n"
     ]
    }
   ],
   "source": [
    "print(mapped_dataset_list[1]['user_id'].unique().shape)\n",
    "print(mapped_dataset_list[1]['item_id'].unique().shape)"
   ]
  }
 ],
 "metadata": {
  "kernelspec": {
   "display_name": "base",
   "language": "python",
   "name": "python3"
  },
  "language_info": {
   "codemirror_mode": {
    "name": "ipython",
    "version": 3
   },
   "file_extension": ".py",
   "mimetype": "text/x-python",
   "name": "python",
   "nbconvert_exporter": "python",
   "pygments_lexer": "ipython3",
   "version": "3.9.15"
  }
 },
 "nbformat": 4,
 "nbformat_minor": 2
}
