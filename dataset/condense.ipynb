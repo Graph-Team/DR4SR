{
 "cells": [
  {
   "cell_type": "code",
   "execution_count": 1,
   "metadata": {},
   "outputs": [],
   "source": [
    "import pandas as pd\n",
    "import os\n",
    "import random\n",
    "import torch\n",
    "import yaml\n",
    "random.seed(2024)"
   ]
  },
  {
   "cell_type": "code",
   "execution_count": 2,
   "metadata": {},
   "outputs": [],
   "source": [
    "max_seq_len = 50"
   ]
  },
  {
   "cell_type": "code",
   "execution_count": 3,
   "metadata": {},
   "outputs": [],
   "source": [
    "def truncate_or_pad(seq):\n",
    "    cur_seq_len = len(seq)\n",
    "    if cur_seq_len > max_seq_len:\n",
    "        return seq[-max_seq_len:]\n",
    "    else:\n",
    "        return seq + [0] * (max_seq_len - cur_seq_len)"
   ]
  },
  {
   "cell_type": "code",
   "execution_count": 4,
   "metadata": {},
   "outputs": [],
   "source": [
    "condensed_seq = torch.load('./book.pth')\n",
    "seq_list = condensed_seq[1].tolist()\n",
    "target_item_list = condensed_seq[2].tolist()\n",
    "seq_len_list = condensed_seq[3].tolist()\n",
    "new_train_data = []\n",
    "for idx in range(len(seq_list)):\n",
    "    seq = seq_list[idx]\n",
    "    target_item = target_item_list[idx]\n",
    "    seq_len = seq_len_list[idx]\n",
    "    for _ in range(seq_len):\n",
    "        new_train_data.append([\n",
    "            condensed_seq[0][idx].item(),\n",
    "            truncate_or_pad(seq[:_+1]),\n",
    "            target_item[_],\n",
    "            _ + 1,\n",
    "            1,\n",
    "            0\n",
    "        ])"
   ]
  },
  {
   "cell_type": "code",
   "execution_count": 5,
   "metadata": {},
   "outputs": [],
   "source": [
    "torch.save(new_train_data, 'train.pth')"
   ]
  }
 ],
 "metadata": {
  "kernelspec": {
   "display_name": "torch",
   "language": "python",
   "name": "python3"
  },
  "language_info": {
   "codemirror_mode": {
    "name": "ipython",
    "version": 3
   },
   "file_extension": ".py",
   "mimetype": "text/x-python",
   "name": "python",
   "nbconvert_exporter": "python",
   "pygments_lexer": "ipython3",
   "version": "3.9.0"
  }
 },
 "nbformat": 4,
 "nbformat_minor": 2
}
