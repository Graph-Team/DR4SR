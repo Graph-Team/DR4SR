{
 "cells": [
  {
   "cell_type": "code",
   "execution_count": 1,
   "metadata": {},
   "outputs": [
    {
     "name": "stderr",
     "output_type": "stream",
     "text": [
      "/home/mjyin/miniconda3/lib/python3.9/site-packages/pandas/core/computation/expressions.py:21: UserWarning: Pandas requires version '2.8.0' or newer of 'numexpr' (version '2.7.3' currently installed).\n",
      "  from pandas.core.computation.check import NUMEXPR_INSTALLED\n"
     ]
    }
   ],
   "source": [
    "import pandas as pd\n",
    "import os\n",
    "import random\n",
    "import torch\n",
    "import yaml"
   ]
  },
  {
   "cell_type": "code",
   "execution_count": 2,
   "metadata": {},
   "outputs": [],
   "source": [
    "random.seed(2024)"
   ]
  },
  {
   "cell_type": "markdown",
   "metadata": {},
   "source": [
    "# Load original dataset"
   ]
  },
  {
   "cell_type": "markdown",
   "metadata": {},
   "source": [
    "### Selecting datasets"
   ]
  },
  {
   "cell_type": "code",
   "execution_count": 3,
   "metadata": {},
   "outputs": [],
   "source": [
    "root = '/data/mjyin/dataset/AmazonRaw/'\n",
    "output_path = './amazon-toys-seq/'\n",
    "dataset_name_list = [\n",
    "    # 'ratings_Books',\n",
    "    # 'ratings_Clothing_Shoes_and_Jewelry',\n",
    "    # 'ratings_Movies_and_TV',\n",
    "    # 'ratings_Sports_and_Outdoors',\n",
    "    'ratings_Toys_and_Games',\n",
    "    # 'ratings_Beauty',\n",
    "]\n",
    "output_dataset_name_list = [\n",
    "    # 'book',\n",
    "    # 'cloth',\n",
    "    # 'movie',\n",
    "    # 'sport',\n",
    "    'toy',\n",
    "    # 'beauty'\n",
    "]\n",
    "user_threshold = 5\n",
    "item_threshold = 5\n",
    "max_seq_len = 20"
   ]
  },
  {
   "cell_type": "markdown",
   "metadata": {},
   "source": [
    "### Load"
   ]
  },
  {
   "cell_type": "code",
   "execution_count": 4,
   "metadata": {},
   "outputs": [],
   "source": [
    "dataset_list = []\n",
    "for idx, dataset_name in enumerate(dataset_name_list):\n",
    "    path = root + dataset_name + '.csv'\n",
    "    dataset = pd.read_csv(path, header=None)\n",
    "    dataset.columns = ['user_id', 'item_id', 'rating', 'timestamp']\n",
    "    dataset = dataset[dataset.rating > 3]\n",
    "    dataset['domain'] = idx\n",
    "    dataset_list.append(dataset)"
   ]
  },
  {
   "cell_type": "code",
   "execution_count": 5,
   "metadata": {},
   "outputs": [
    {
     "data": {
      "text/plain": [
       "1750036"
      ]
     },
     "execution_count": 5,
     "metadata": {},
     "output_type": "execute_result"
    }
   ],
   "source": [
    "len(dataset_list[0])"
   ]
  },
  {
   "cell_type": "markdown",
   "metadata": {},
   "source": [
    "# Filter"
   ]
  },
  {
   "cell_type": "markdown",
   "metadata": {},
   "source": [
    "### filter by number of interactions"
   ]
  },
  {
   "cell_type": "code",
   "execution_count": 6,
   "metadata": {},
   "outputs": [
    {
     "name": "stdout",
     "output_type": "stream",
     "text": [
      "done!\n"
     ]
    }
   ],
   "source": [
    "filtered_dataset_list = []\n",
    "for dataset in dataset_list:\n",
    "    filtered_dataset = dataset.copy()\n",
    "    while(True):\n",
    "        ori_len = len(filtered_dataset)\n",
    "        filtered_dataset = filtered_dataset[filtered_dataset['user_id'].map(filtered_dataset['user_id'].value_counts()) >= user_threshold]\n",
    "        filtered_dataset = filtered_dataset[filtered_dataset['item_id'].map(filtered_dataset['item_id'].value_counts()) >= item_threshold]\n",
    "        if len(filtered_dataset) == ori_len:\n",
    "            break\n",
    "    print('done!')\n",
    "    filtered_dataset_list.append(filtered_dataset)"
   ]
  },
  {
   "cell_type": "code",
   "execution_count": 7,
   "metadata": {},
   "outputs": [
    {
     "data": {
      "text/plain": [
       "95420"
      ]
     },
     "execution_count": 7,
     "metadata": {},
     "output_type": "execute_result"
    }
   ],
   "source": [
    "len(filtered_dataset_list[0])"
   ]
  },
  {
   "cell_type": "markdown",
   "metadata": {},
   "source": [
    "# Map all ids"
   ]
  },
  {
   "cell_type": "code",
   "execution_count": 8,
   "metadata": {},
   "outputs": [],
   "source": [
    "all_filtered_dataset = pd.concat(filtered_dataset_list)\n",
    "all_user = all_filtered_dataset.user_id\n",
    "all_item = all_filtered_dataset.item_id"
   ]
  },
  {
   "cell_type": "code",
   "execution_count": 9,
   "metadata": {},
   "outputs": [
    {
     "name": "stdout",
     "output_type": "stream",
     "text": [
      "(11268,)\n",
      "(7309,)\n"
     ]
    }
   ],
   "source": [
    "user_id, user_token = pd.factorize(all_user)\n",
    "item_id, item_token = pd.factorize(all_item)\n",
    "num_users = len(user_token) + 1 # 0 id is for PAD\n",
    "num_items = len(item_token) + 1 # 0 id is for PAD\n",
    "user_mapping_dict = {_: idx + 1 for idx, _ in enumerate(user_token)} # 0 id is for PAD\n",
    "item_mapping_dict = {_: idx + 1 for idx, _ in enumerate(item_token)} # 0 id is for PAD\n",
    "print(user_token.shape)\n",
    "print(item_token.shape)"
   ]
  },
  {
   "cell_type": "code",
   "execution_count": 10,
   "metadata": {},
   "outputs": [],
   "source": [
    "all_filtered_dataset['user_id'] = all_filtered_dataset['user_id'].apply(lambda x: user_mapping_dict[x])\n",
    "all_filtered_dataset['item_id'] = all_filtered_dataset['item_id'].apply(lambda x: item_mapping_dict[x])"
   ]
  },
  {
   "cell_type": "code",
   "execution_count": 11,
   "metadata": {},
   "outputs": [],
   "source": [
    "mapped_dataset_list = [all_filtered_dataset[all_filtered_dataset['domain'] == idx] for idx in range(len(filtered_dataset_list))]"
   ]
  },
  {
   "cell_type": "markdown",
   "metadata": {},
   "source": [
    "# Generate sequences"
   ]
  },
  {
   "cell_type": "markdown",
   "metadata": {},
   "source": [
    "### Define padding token id"
   ]
  },
  {
   "cell_type": "code",
   "execution_count": 12,
   "metadata": {},
   "outputs": [],
   "source": [
    "PAD = 0"
   ]
  },
  {
   "cell_type": "code",
   "execution_count": 13,
   "metadata": {},
   "outputs": [],
   "source": [
    "def truncate_or_pad(seq):\n",
    "    cur_seq_len = len(seq)\n",
    "    if cur_seq_len > max_seq_len:\n",
    "        return seq[-max_seq_len:], max_seq_len\n",
    "    else:\n",
    "        return seq + [PAD] * (max_seq_len - cur_seq_len), cur_seq_len\n"
   ]
  },
  {
   "cell_type": "code",
   "execution_count": 14,
   "metadata": {},
   "outputs": [
    {
     "name": "stdout",
     "output_type": "stream",
     "text": [
      "toy done!\n"
     ]
    }
   ],
   "source": [
    "\n",
    "for idx, dataset in enumerate(mapped_dataset_list):\n",
    "    dataset = dataset.sort_values(by=['user_id', 'timestamp'])\n",
    "    user_group = dataset.groupby('user_id')['item_id'].apply(list)\n",
    "    train, val, test = [], [], []\n",
    "    for user_id, user_seq in list(zip(user_group.index, user_group.tolist())):\n",
    "        # user_seq = user_seq[-max_seq_len:]\n",
    "        # iterate on each user sequence\n",
    "        # ------ test sample ------------\n",
    "        history, seq_len = truncate_or_pad(user_seq[:-1])\n",
    "        target_data = user_seq[-1]\n",
    "        label = 1\n",
    "        domain_id = [idx] * max_seq_len\n",
    "        user_hist = user_seq[:-1]\n",
    "        test.append([user_id, history, target_data, seq_len, label, domain_id, user_hist])\n",
    "        # ------ val sample -------------\n",
    "        history, seq_len = truncate_or_pad(user_seq[:-2])\n",
    "        target_data = user_seq[-2]\n",
    "        label = 1\n",
    "        domain_id = [idx] * max_seq_len\n",
    "        user_hist = user_seq[:-2]\n",
    "        val.append([user_id, history, target_data, seq_len, label, domain_id, user_hist])\n",
    "        # ------ train sample -----------\n",
    "        train_seq = user_seq[:-2]\n",
    "        assert len(train_seq) >=2\n",
    "        s, seq_len = 0, 1\n",
    "        while(True):\n",
    "            if s + seq_len == len(train_seq):\n",
    "                break\n",
    "            if seq_len > max_seq_len:\n",
    "                s += 1\n",
    "                seq_len = max_seq_len\n",
    "            history, _ = truncate_or_pad(train_seq[s:s + seq_len])\n",
    "            target_data = train_seq[s + seq_len]\n",
    "            label = 1\n",
    "            domain_id = idx\n",
    "            train.append([user_id, history, target_data, seq_len, label, domain_id])\n",
    "\n",
    "            seq_len += 1\n",
    "    torch.save(train, os.path.join(output_path, output_dataset_name_list[idx], 'train.pth'))\n",
    "    torch.save(val, os.path.join(output_path, output_dataset_name_list[idx], 'val.pth'))\n",
    "    torch.save(test, os.path.join(output_path, output_dataset_name_list[idx], 'test.pth'))\n",
    "    print('{} done!'.format(output_dataset_name_list[idx]))"
   ]
  },
  {
   "cell_type": "markdown",
   "metadata": {},
   "source": [
    "## Condense"
   ]
  },
  {
   "cell_type": "markdown",
   "metadata": {},
   "source": [
    "# Save"
   ]
  },
  {
   "cell_type": "code",
   "execution_count": 15,
   "metadata": {},
   "outputs": [
    {
     "name": "stdout",
     "output_type": "stream",
     "text": [
      "(11268,)\n",
      "(7309,)\n",
      "95420\n",
      "61616\n"
     ]
    }
   ],
   "source": [
    "print(mapped_dataset_list[0]['user_id'].unique().shape)\n",
    "print(mapped_dataset_list[0]['item_id'].unique().shape)\n",
    "print(len(mapped_dataset_list[0]))\n",
    "print(len(train))"
   ]
  },
  {
   "cell_type": "code",
   "execution_count": 16,
   "metadata": {},
   "outputs": [],
   "source": [
    "for d_name, d in zip(output_dataset_name_list, mapped_dataset_list):\n",
    "    d.to_csv(os.path.join(output_path, d_name, 'inter.csv'), sep=',', index=None)"
   ]
  },
  {
   "cell_type": "markdown",
   "metadata": {},
   "source": [
    "# Concat dataset"
   ]
  },
  {
   "cell_type": "code",
   "execution_count": 42,
   "metadata": {},
   "outputs": [],
   "source": [
    "a = torch.load('./amazon-toys-seq-5/toy/train.pth')\n",
    "b = torch.load('./amazon-toys-seq-10/toy/train.pth')"
   ]
  },
  {
   "cell_type": "code",
   "execution_count": 43,
   "metadata": {},
   "outputs": [
    {
     "data": {
      "text/plain": [
       "[1, [4521, 0, 0, 0, 0], 6081, 1, 1, 0]"
      ]
     },
     "execution_count": 43,
     "metadata": {},
     "output_type": "execute_result"
    }
   ],
   "source": [
    "a[0]"
   ]
  },
  {
   "cell_type": "code",
   "execution_count": 45,
   "metadata": {},
   "outputs": [],
   "source": [
    "new_a = []\n",
    "for line in a:\n",
    "    user_id, history, target_data, seq_len, label, domain_id = line\n",
    "    history, _ = truncate_or_pad(history)\n",
    "    new_a.append([user_id, history, target_data, seq_len, label, domain_id])"
   ]
  },
  {
   "cell_type": "code",
   "execution_count": 83,
   "metadata": {},
   "outputs": [],
   "source": [
    "torch.save(new_a + b, './amazon-toys-seq-5-10/toy/train.pth')"
   ]
  }
 ],
 "metadata": {
  "kernelspec": {
   "display_name": "base",
   "language": "python",
   "name": "python3"
  },
  "language_info": {
   "codemirror_mode": {
    "name": "ipython",
    "version": 3
   },
   "file_extension": ".py",
   "mimetype": "text/x-python",
   "name": "python",
   "nbconvert_exporter": "python",
   "pygments_lexer": "ipython3",
   "version": "3.9.15"
  }
 },
 "nbformat": 4,
 "nbformat_minor": 2
}
