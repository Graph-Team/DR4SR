{
 "cells": [
  {
   "cell_type": "code",
   "execution_count": null,
   "metadata": {},
   "outputs": [],
   "source": [
    "import torch\n",
    "import torch.nn as nn\n",
    "import torch.nn.functional as F\n",
    "from copy import deepcopy\n",
    "from torch.nn.utils.rnn import pad_sequence\n",
    "from utils.reparam_module import ReparamModule\n",
    "import numpy as np"
   ]
  },
  {
   "cell_type": "code",
   "execution_count": null,
   "metadata": {},
   "outputs": [],
   "source": [
    "data = torch.load('./pattern-beauty-50.pth')\n",
    "print(len(data))"
   ]
  },
  {
   "cell_type": "code",
   "execution_count": null,
   "metadata": {},
   "outputs": [],
   "source": [
    "# Example to show how to find frequent sequential patterns\n",
    "# from a given sequence database subject to constraints\n",
    "from sequential.seq2pat import Seq2Pat, Attribute\n",
    "\n",
    "# data = [\n",
    "#     [1,2,112,2223,3,134],\n",
    "#     [1,2,6456,324,1521345,123],\n",
    "#     [1,2,125,4365,23421,203985],\n",
    "#     [2,3,12358,4532,23541,38954],\n",
    "#     [2,3,353,4234,45453,4678],\n",
    "#     [2,3,234,3342,11234,465],\n",
    "# ]\n",
    "\n",
    "# Seq2Pat over 3 sequences\n",
    "seq2pat = Seq2Pat(sequences=data, n_jobs=2, max_span=5)\n",
    "# Patterns that occur at least twice (A-D)\n",
    "patterns = seq2pat.get_patterns(min_frequency=2)\n",
    "patterns_value = [_[:-1] for _ in patterns]\n",
    "patterns_count = [_[-1] for _ in patterns]\n",
    "# print(patterns)\n",
    "print(len(patterns))"
   ]
  },
  {
   "cell_type": "code",
   "execution_count": null,
   "metadata": {},
   "outputs": [],
   "source": [
    "# Remove duplicate pattern\n",
    "if False:\n",
    "    from itertools import combinations\n",
    "    result = []\n",
    "    help_set = set()\n",
    "    patterns_value.sort(key=len, reverse=True)\n",
    "    for p in patterns_value:\n",
    "        if tuple(p) in help_set:\n",
    "            continue\n",
    "        else:\n",
    "            result.append(p)\n",
    "            for r in range(2, len(p) + 1):\n",
    "                for _ in combinations(p, r):\n",
    "                    help_set.add(tuple(_))\n",
    "    patterns_value_new = result\n",
    "    print(len(patterns_value_new))\n",
    "    patterns_value = patterns_value_new"
   ]
  },
  {
   "cell_type": "code",
   "execution_count": null,
   "metadata": {},
   "outputs": [],
   "source": [
    "original_train = torch.load('./dataset/amazon-beauty-50/beauty/train_ori.pth')\n",
    "len(original_train)"
   ]
  },
  {
   "cell_type": "code",
   "execution_count": null,
   "metadata": {},
   "outputs": [],
   "source": [
    "max_seq_len = 50\n",
    "def truncate_or_pad(seq):\n",
    "    cur_seq_len = len(seq)\n",
    "    if cur_seq_len > max_seq_len:\n",
    "        return seq[-max_seq_len:]\n",
    "    else:\n",
    "        return seq + [0] * (max_seq_len - cur_seq_len)\n",
    "\n",
    "train_set = set()\n",
    "\n",
    "for pattern in patterns_value:\n",
    "    seq = pattern\n",
    "    seq_len = len(seq)\n",
    "    train_set.add(tuple(\n",
    "        truncate_or_pad(seq[:-1]) + truncate_or_pad(seq[1:])\n",
    "    ))"
   ]
  },
  {
   "cell_type": "code",
   "execution_count": null,
   "metadata": {},
   "outputs": [],
   "source": [
    "train_list = []\n",
    "for _ in list(train_set):\n",
    "    train_item_seq = _[:max_seq_len]\n",
    "    target_item_seq = _[max_seq_len:]\n",
    "    seq_len = sum([a != 0 for a in train_item_seq])\n",
    "    train_list.append([\n",
    "        0,\n",
    "        train_item_seq,\n",
    "        target_item_seq,\n",
    "        seq_len,\n",
    "        [1] * seq_len + [0] * (max_seq_len - seq_len),\n",
    "        [0] * max_seq_len,\n",
    "    ])\n",
    "print(len(train_list))\n",
    "print(len(original_train))"
   ]
  },
  {
   "cell_type": "code",
   "execution_count": null,
   "metadata": {},
   "outputs": [],
   "source": [
    "torch.save(train_list + original_train, 'train_new2-3.pth')"
   ]
  },
  {
   "cell_type": "code",
   "execution_count": null,
   "metadata": {},
   "outputs": [],
   "source": [
    "torch.save(train_list, 'train_new-pure2-3.pth')"
   ]
  }
 ],
 "metadata": {
  "kernelspec": {
   "display_name": "base",
   "language": "python",
   "name": "python3"
  },
  "language_info": {
   "codemirror_mode": {
    "name": "ipython",
    "version": 3
   },
   "file_extension": ".py",
   "mimetype": "text/x-python",
   "name": "python",
   "nbconvert_exporter": "python",
   "pygments_lexer": "ipython3",
   "version": "3.9.0"
  }
 },
 "nbformat": 4,
 "nbformat_minor": 2
}
