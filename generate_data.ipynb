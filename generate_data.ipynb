{
 "cells": [
  {
   "cell_type": "code",
   "execution_count": 4,
   "metadata": {},
   "outputs": [],
   "source": [
    "import torch\n",
    "import torch.nn as nn\n",
    "import torch.nn.functional as F\n",
    "from copy import deepcopy\n",
    "from torch.nn.utils.rnn import pad_sequence\n",
    "from utils.reparam_module import ReparamModule\n",
    "import numpy as np\n",
    "import random\n",
    "from tqdm import tqdm"
   ]
  },
  {
   "cell_type": "code",
   "execution_count": 5,
   "metadata": {},
   "outputs": [],
   "source": [
    "dataset_name = 'beauty'\n",
    "full_dataset_name = 'amazon-beauty'\n",
    "num_item_dict = {\n",
    "    'toy': 11925,\n",
    "    'sport': 18358,\n",
    "    'beauty':12102,\n",
    "}\n",
    "path = f'./{dataset_name}-pair.pth'\n",
    "data = torch.load(path)\n",
    "num_item = num_item_dict[dataset_name]\n",
    "SOS = num_item\n",
    "EOS = num_item + 1"
   ]
  },
  {
   "cell_type": "code",
   "execution_count": 6,
   "metadata": {},
   "outputs": [],
   "source": [
    "interval = list(range(0, 25001, 5000))\n",
    "rst_list = []\n",
    "for i in range(len(interval) - 1):\n",
    "    rst_list.append(torch.load(f'f-seq-con-{dataset_name}-{interval[i]}-{interval[i + 1]}.pth'))\n",
    "rst = []\n",
    "for _ in rst_list:\n",
    "    rst += _"
   ]
  },
  {
   "cell_type": "code",
   "execution_count": 7,
   "metadata": {},
   "outputs": [
    {
     "name": "stdout",
     "output_type": "stream",
     "text": [
      "126442\n"
     ]
    }
   ],
   "source": [
    "max_seq_len = 50\n",
    "def truncate_or_pad(seq):\n",
    "    cur_seq_len = len(seq)\n",
    "    if cur_seq_len > max_seq_len:\n",
    "        return seq[-max_seq_len:]\n",
    "    else:\n",
    "        return seq + [0] * (max_seq_len - cur_seq_len)\n",
    "\n",
    "\n",
    "train_set = set()\n",
    "\n",
    "for pattern in rst:\n",
    "    seq = pattern.tolist()[1:-1]\n",
    "    seq_len = len(seq)\n",
    "    for _ in range(1, seq_len):\n",
    "        train_set.add(tuple(\n",
    "            truncate_or_pad(seq[:_]) + [seq[_]],\n",
    "        ))\n",
    "\n",
    "train_list = []\n",
    "for _ in train_set:\n",
    "    train_list.append([\n",
    "        1,\n",
    "        list(_)[:-1],\n",
    "        list(_)[-1],\n",
    "        sum([a != 0 for a in list(_)[:-1]]),\n",
    "        1,\n",
    "        0\n",
    "    ])\n",
    "print(len(train_list))"
   ]
  },
  {
   "cell_type": "code",
   "execution_count": null,
   "metadata": {},
   "outputs": [],
   "source": [
    "ori_pattern = torch.load(f'./dataset/{full_dataset_name}-noise-50/{dataset_name}/train_new-pure.pth')\n"
   ]
  },
  {
   "cell_type": "code",
   "execution_count": null,
   "metadata": {},
   "outputs": [],
   "source": [
    "torch.save(train_list + ori_pattern, f'./dataset/{full_dataset_name}-noise-50/{dataset_name}/train_gene.pth')"
   ]
  }
 ],
 "metadata": {
  "kernelspec": {
   "display_name": "Lab",
   "language": "python",
   "name": "python3"
  },
  "language_info": {
   "codemirror_mode": {
    "name": "ipython",
    "version": 3
   },
   "file_extension": ".py",
   "mimetype": "text/x-python",
   "name": "python",
   "nbconvert_exporter": "python",
   "pygments_lexer": "ipython3",
   "version": "3.9.0"
  }
 },
 "nbformat": 4,
 "nbformat_minor": 2
}
