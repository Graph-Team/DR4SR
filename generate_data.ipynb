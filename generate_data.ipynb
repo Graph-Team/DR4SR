{
 "cells": [
  {
   "cell_type": "code",
   "execution_count": 25,
   "metadata": {},
   "outputs": [],
   "source": [
    "import torch\n",
    "import torch.nn as nn\n",
    "import torch.nn.functional as F\n",
    "from copy import deepcopy\n",
    "from torch.nn.utils.rnn import pad_sequence\n",
    "from utils.reparam_module import ReparamModule\n",
    "import numpy as np\n",
    "import random\n",
    "from tqdm import tqdm"
   ]
  },
  {
   "cell_type": "code",
   "execution_count": 26,
   "metadata": {},
   "outputs": [],
   "source": [
    "dataset_name = 'toy'\n",
    "full_dataset_name = 'amazon-toys'\n",
    "num_item_dict = {\n",
    "    'toy': 11925,\n",
    "    'sport': 18358,\n",
    "    'beauty':12102,\n",
    "    'yelp-small': 20034,\n",
    "}\n",
    "num_item = num_item_dict[dataset_name]\n",
    "SOS = num_item\n",
    "EOS = num_item + 1"
   ]
  },
  {
   "cell_type": "code",
   "execution_count": 27,
   "metadata": {},
   "outputs": [
    {
     "name": "stdout",
     "output_type": "stream",
     "text": [
      "97060\n"
     ]
    }
   ],
   "source": [
    "interval = list(range(0, 20001, 5000))\n",
    "rst_list = []\n",
    "for i in range(len(interval) - 1):\n",
    "    rst_list.append(torch.load(f'f-seq-con2-generative0.5-1-{dataset_name}-{interval[i]}-{interval[i + 1]}.pth'))\n",
    "rst = []\n",
    "for _ in rst_list:\n",
    "    rst += _\n",
    "print(len(rst))"
   ]
  },
  {
   "cell_type": "code",
   "execution_count": 28,
   "metadata": {},
   "outputs": [
    {
     "data": {
      "text/plain": [
       "42384"
      ]
     },
     "execution_count": 28,
     "metadata": {},
     "output_type": "execute_result"
    }
   ],
   "source": [
    "ori_pattern = torch.load(f'./dataset/{full_dataset_name}-noise-50/{dataset_name}/train_new-pure.pth')\n",
    "ori_seqlist = [list(_[1][:_[3]]) + [_[2][_[ 3] - 1]] for _ in list(ori_pattern)]\n",
    "len(ori_pattern)"
   ]
  },
  {
   "cell_type": "code",
   "execution_count": 29,
   "metadata": {},
   "outputs": [
    {
     "name": "stdout",
     "output_type": "stream",
     "text": [
      "16811\n"
     ]
    }
   ],
   "source": [
    "max_seq_len = 50\n",
    "def truncate_or_pad(seq):\n",
    "    cur_seq_len = len(seq)\n",
    "    if cur_seq_len > max_seq_len:\n",
    "        return seq[-max_seq_len:]\n",
    "    else:\n",
    "        return seq + [0] * (max_seq_len - cur_seq_len)\n",
    "\n",
    "train_set = set()\n",
    "# for _ in ori_seqlist:\n",
    "#     train_set.add(tuple(_))\n",
    "\n",
    "for pattern in rst:\n",
    "    seq = pattern.tolist()[1:-1]\n",
    "    train_set.add(tuple(seq))\n",
    "print(len(train_set))"
   ]
  },
  {
   "cell_type": "code",
   "execution_count": 30,
   "metadata": {},
   "outputs": [
    {
     "name": "stdout",
     "output_type": "stream",
     "text": [
      "16142\n"
     ]
    }
   ],
   "source": [
    "train_list = []\n",
    "for _ in train_set:\n",
    "    seq_len = sum([a != 0 for a in list(_)[:-1]])\n",
    "    if seq_len == 0:\n",
    "        continue\n",
    "    train_list.append([\n",
    "        1,\n",
    "        truncate_or_pad(list(_)[:-1]),\n",
    "        truncate_or_pad(list(_)[1:]),\n",
    "        seq_len,\n",
    "        [1] * max_seq_len,\n",
    "        [0] * max_seq_len,\n",
    "    ])\n",
    "print(len(train_list))"
   ]
  },
  {
   "cell_type": "code",
   "execution_count": 31,
   "metadata": {},
   "outputs": [],
   "source": [
    "train_ori = torch.load(f'./dataset/{full_dataset_name}-noise-50/{dataset_name}/train_ori.pth')"
   ]
  },
  {
   "cell_type": "code",
   "execution_count": 32,
   "metadata": {},
   "outputs": [],
   "source": [
    "torch.save(train_list + ori_pattern + train_ori, f'./dataset/{full_dataset_name}-noise-50/{dataset_name}/train_gene-generative0.5-1.pth')"
   ]
  }
 ],
 "metadata": {
  "kernelspec": {
   "display_name": "Lab",
   "language": "python",
   "name": "python3"
  },
  "language_info": {
   "codemirror_mode": {
    "name": "ipython",
    "version": 3
   },
   "file_extension": ".py",
   "mimetype": "text/x-python",
   "name": "python",
   "nbconvert_exporter": "python",
   "pygments_lexer": "ipython3",
   "version": "3.9.15"
  }
 },
 "nbformat": 4,
 "nbformat_minor": 2
}
