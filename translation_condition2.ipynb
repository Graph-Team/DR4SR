{
 "cells": [
  {
   "cell_type": "code",
   "execution_count": 61,
   "metadata": {},
   "outputs": [],
   "source": [
    "import torch\n",
    "import torch.nn as nn\n",
    "import torch.nn.functional as F\n",
    "from copy import deepcopy\n",
    "from torch.nn.utils.rnn import pad_sequence\n",
    "from utils.reparam_module import ReparamModule\n",
    "import numpy as np\n",
    "import random\n",
    "from tqdm import tqdm"
   ]
  },
  {
   "cell_type": "code",
   "execution_count": 62,
   "metadata": {},
   "outputs": [],
   "source": [
    "\n",
    "import os\n",
    "os.environ['CUDA_VISIBLE_DEVICES'] = '0'"
   ]
  },
  {
   "cell_type": "markdown",
   "metadata": {},
   "source": [
    "# Enviroment"
   ]
  },
  {
   "cell_type": "code",
   "execution_count": 63,
   "metadata": {},
   "outputs": [],
   "source": [
    "seed = 2024\n",
    "\n",
    "random.seed(seed)\n",
    "np.random.seed(seed)\n",
    "torch.manual_seed(seed)\n",
    "torch.cuda.manual_seed(seed)\n",
    "torch.backends.cudnn.deterministic = True"
   ]
  },
  {
   "cell_type": "markdown",
   "metadata": {},
   "source": [
    "# Dataset"
   ]
  },
  {
   "cell_type": "code",
   "execution_count": 64,
   "metadata": {},
   "outputs": [],
   "source": [
    "dataset_name = 'toy'\n",
    "full_dataset_name = 'amazon-toys'\n",
    "num_item_dict = {\n",
    "    'toy': 11925,\n",
    "    'sport': 18358,\n",
    "    'beauty':12102,\n",
    "    'yelp': 20034,\n",
    "}\n",
    "path = f'./{dataset_name}-pair.pth'\n",
    "data = torch.load(path)\n",
    "num_item = num_item_dict[dataset_name]\n",
    "SOS = num_item\n",
    "EOS = num_item + 1"
   ]
  },
  {
   "cell_type": "code",
   "execution_count": 65,
   "metadata": {},
   "outputs": [],
   "source": [
    "source, target = [], []\n",
    "source_seqlen, target_seqlen = [], []\n",
    "for _ in data:\n",
    "    s, t = _\n",
    "    source_seqlen.append(len(s) + 2)\n",
    "    target_seqlen.append(len(t) + 2)\n",
    "    s = torch.tensor([SOS] + s + [EOS])\n",
    "    t = torch.tensor([SOS] + t + [EOS])\n",
    "    source.append(s)\n",
    "    target.append(t)\n",
    "source = pad_sequence(source, batch_first=True, padding_value=0)\n",
    "target = pad_sequence(target, batch_first=True, padding_value=0)\n",
    "if target.shape[1] < 20:\n",
    "    target = torch.cat([target, torch.zeros(target.shape[0], 20 - target.shape[1], dtype=torch.int)], dim=-1)\n",
    "source_seqlen = torch.tensor(source_seqlen)\n",
    "target_seqlen = torch.tensor(target_seqlen)"
   ]
  },
  {
   "cell_type": "code",
   "execution_count": 66,
   "metadata": {},
   "outputs": [],
   "source": [
    "from torch.utils.data import Dataset, DataLoader\n",
    "class MyDataset(Dataset):\n",
    "    def __init__(\n",
    "            self,\n",
    "            source,\n",
    "            target,\n",
    "            source_seqlen,\n",
    "            target_seqlen,\n",
    "        ) -> None:\n",
    "        super().__init__()\n",
    "        self.source = source.to('cuda')\n",
    "        self.target = target.to('cuda')\n",
    "        self.source_seq_len = source_seqlen.to('cuda')\n",
    "        self.target_seq_len = target_seqlen.to('cuda')\n",
    "\n",
    "    def __len__(self):\n",
    "        return len(self.source)\n",
    "\n",
    "    def __getitem__(self, index):\n",
    "        src = self.source[index]\n",
    "        tgt = self.target[index]\n",
    "        src_len = self.source_seq_len[index]\n",
    "        tgt_len = self.target_seq_len[index]\n",
    "        return src, tgt, src_len, tgt_len"
   ]
  },
  {
   "cell_type": "markdown",
   "metadata": {},
   "source": [
    "# Model"
   ]
  },
  {
   "cell_type": "code",
   "execution_count": 67,
   "metadata": {},
   "outputs": [],
   "source": [
    "from utils import normal_initialization\n",
    "from module.layers import SeqPoolingLayer\n",
    "K = 9\n",
    "\n",
    "class ConditionEncoder(nn.Module):\n",
    "    def __init__(self, K) -> None:\n",
    "        super().__init__()\n",
    "        transformer_layer = nn.TransformerEncoderLayer(\n",
    "            d_model=64,\n",
    "            nhead=2,\n",
    "            dim_feedforward=256,\n",
    "            dropout=0.5,\n",
    "            activation='gelu',\n",
    "            layer_norm_eps=1e-12,\n",
    "            batch_first=True,\n",
    "        )\n",
    "        self.encoder = nn.TransformerEncoder(\n",
    "            encoder_layer=transformer_layer,\n",
    "            num_layers=2,\n",
    "        )\n",
    "        self.condition_layer = nn.Sequential(\n",
    "            nn.Linear(64, 64),\n",
    "            nn.ReLU(),\n",
    "            nn.Linear(64, K),\n",
    "        )\n",
    "        self.pooling_layer = SeqPoolingLayer('mean')\n",
    "        self.tau = 1\n",
    "\n",
    "    def forward(self, trm_input, src_mask, memory_key_padding_mask, src_seqlen):\n",
    "        trm_out = self.encoder(\n",
    "            src=trm_input,\n",
    "            mask=src_mask,  # BxLxD\n",
    "            src_key_padding_mask=memory_key_padding_mask,\n",
    "        )\n",
    "        trm_out = self.pooling_layer(trm_out, src_seqlen) # BD\n",
    "        condition = self.condition_layer(trm_out) # BK\n",
    "        condition = F.gumbel_softmax(condition, tau=self.tau, dim=-1) # BK\n",
    "        self.condition4loss = condition\n",
    "        self.tau = max(self.tau * 0.995, 0.1)\n",
    "        return condition\n",
    "\n",
    "class Generator(nn.Module):\n",
    "    def __init__(self) -> None:\n",
    "        super().__init__()\n",
    "        # self.item_embedding = nn.Embedding(num_item + 2, 64, padding_idx=0)\n",
    "        # self.item_embedding_decoder = nn.Embedding(num_item + 2, 64, padding_idx=0)\n",
    "        self.transformer = nn.Transformer(\n",
    "            d_model=64,\n",
    "            nhead=2,\n",
    "            num_encoder_layers=2,\n",
    "            num_decoder_layers=2,\n",
    "            dim_feedforward=256,\n",
    "            dropout=0.5,\n",
    "            activation='gelu',\n",
    "            layer_norm_eps=1e-12,\n",
    "            batch_first=True,\n",
    "        )\n",
    "        self.condition_linear = nn.Sequential(\n",
    "            nn.Linear(64, 64 * K),\n",
    "            nn.ReLU(),\n",
    "            nn.Linear(64 * K, 64 * K)\n",
    "        )\n",
    "        self.dropout = nn.Dropout(0.5)\n",
    "        self.position_embedding = torch.nn.Embedding(50, 64)\n",
    "        self.condition_encoder = ConditionEncoder(K)\n",
    "        self.device = 'cuda'\n",
    "        self.apply(normal_initialization)\n",
    "        self.load_pretrained()\n",
    "\n",
    "    def load_pretrained(self):\n",
    "        path_dict = {\n",
    "            'toy': 'saved/SASRec/amazon-toys-50/2024-01-22-19-24-37-334415.ckpt',\n",
    "            'beauty': 'saved/SASRec/amazon-beauty-50/2024-01-25-10-39-46-322830.ckpt',\n",
    "            'sport': 'saved/SASRec/amazon-sport-50/2024-01-25-09-36-23-316839.ckpt',\n",
    "            'yelp': 'saved/SASRec/yelp-50/2024-01-25-20-34-58-431582.ckpt',\n",
    "        }\n",
    "        path = path_dict[dataset_name]\n",
    "        saved = torch.load(path, map_location='cpu')\n",
    "        pretrained = saved['parameters']['item_embedding.weight']\n",
    "        pretrained = torch.cat([\n",
    "            pretrained,\n",
    "            nn.init.normal_(torch.zeros(2, 64), std=0.02)\n",
    "        ])\n",
    "        self.item_embedding = nn.Embedding.from_pretrained(pretrained, padding_idx=0, freeze=False)\n",
    "        self.item_embedding_decoder = self.item_embedding\n",
    "\n",
    "    def condition_mask(self, logits, src):\n",
    "        mask = torch.zeros_like(logits, device=logits.device, dtype=torch.bool)\n",
    "        mask = mask.scatter(-1, src.unsqueeze(-2).repeat(1, mask.shape[1], 1), 1)\n",
    "        logits = torch.masked_fill(logits, ~mask, -torch.inf)\n",
    "        return logits\n",
    "\n",
    "    def forward(self, src, tgt, src_mask, tgt_mask,\n",
    "            src_padding_mask,\n",
    "            tgt_padding_mask,\n",
    "            memory_key_padding_mask,\n",
    "            src_seqlen,\n",
    "            tgt_seqlen,\n",
    "        ):\n",
    "        position_ids = torch.arange(src.size(1), dtype=torch.long, device=self.device)\n",
    "        position_ids = position_ids.reshape(1, -1)\n",
    "        src_position_embedding = self.position_embedding(position_ids)\n",
    "        src_emb = self.dropout(self.item_embedding(src) + src_position_embedding)\n",
    "\n",
    "        memory = self.transformer.encoder(src_emb, src_mask, src_padding_mask)\n",
    "        B, L, D = memory.shape\n",
    "        memory = self.condition_linear(memory).reshape(B, L, K, D)\n",
    "\n",
    "        position_ids = torch.arange(tgt.size(1), dtype=torch.long, device=self.device)\n",
    "        position_ids = position_ids.reshape(1, -1)\n",
    "        tgt_position_embedding = self.position_embedding(position_ids)\n",
    "        tgt_emb = self.dropout(self.item_embedding(tgt) + tgt_position_embedding)\n",
    "\n",
    "        condition = self.condition_encoder(tgt_emb, tgt_mask, tgt_padding_mask, tgt_seqlen) # BK\n",
    "        condition = condition.reshape(B, 1, K, 1)\n",
    "        memory_cond = (memory * condition).sum(-2)\n",
    "\n",
    "        outs = self.transformer.decoder(tgt_emb, memory_cond, tgt_mask, None, tgt_padding_mask, memory_key_padding_mask)\n",
    "\n",
    "        logits = outs @ self.item_embedding_decoder.weight.T\n",
    "        logits = self.condition_mask(logits, src)\n",
    "\n",
    "        return logits\n",
    "    \n",
    "    def encode(self, src, src_mask):\n",
    "        position_ids = torch.arange(src.size(1), dtype=torch.long, device=self.device)\n",
    "        position_ids = position_ids.reshape(1, -1)\n",
    "        src_position_embedding = self.position_embedding(position_ids)\n",
    "        src_emb = self.dropout(self.item_embedding(src) + src_position_embedding)\n",
    "\n",
    "        return self.transformer.encoder(src_emb, src_mask)\n",
    "\n",
    "    def set_condition(self, condition):\n",
    "        self.condition = condition\n",
    "\n",
    "    def decode(self, tgt, memory, tgt_mask):\n",
    "        B, L, D = memory.shape\n",
    "        memory = self.condition_linear(memory).reshape(B, L, K, D)[:, :, self.condition]\n",
    "        position_ids = torch.arange(tgt.size(1), dtype=torch.long, device=self.device)\n",
    "        position_ids = position_ids.reshape(1, -1)\n",
    "        tgt_position_embedding = self.position_embedding(position_ids)\n",
    "        tgt_emb = self.dropout(self.item_embedding(tgt) + tgt_position_embedding)\n",
    "        \n",
    "        return self.transformer.decoder(tgt_emb, memory, tgt_mask)\n",
    "\n",
    "def generate_square_subsequent_mask(sz):\n",
    "    mask = (torch.triu(torch.ones((sz, sz), device='cuda')) == 1).transpose(0, 1)\n",
    "    mask = mask.float().masked_fill(mask == 0, -100000).masked_fill(mask == 1, float(0.0))\n",
    "    return mask\n",
    "\n",
    "def create_mask(src, tgt):\n",
    "    src_seq_len = src.shape[1]\n",
    "    tgt_seq_len = tgt.shape[1]\n",
    "\n",
    "    tgt_mask = generate_square_subsequent_mask(tgt_seq_len)\n",
    "    # src_mask = torch.zeros((src_seq_len, src_seq_len),device='cuda').type(torch.bool)\n",
    "    src_mask = generate_square_subsequent_mask(src_seq_len)\n",
    "\n",
    "    src_padding_mask = (src == 0)\n",
    "    tgt_padding_mask = (tgt == 0)\n",
    "    return src_mask, tgt_mask, src_padding_mask, tgt_padding_mask\n"
   ]
  },
  {
   "cell_type": "markdown",
   "metadata": {},
   "source": [
    "# Train"
   ]
  },
  {
   "cell_type": "code",
   "execution_count": 68,
   "metadata": {},
   "outputs": [],
   "source": [
    "from torch.optim.lr_scheduler import CosineAnnealingLR\n",
    "NUM_EPOCHS = 40\n",
    "model = Generator().to('cuda')\n",
    "loss_fn = nn.CrossEntropyLoss(ignore_index=0)\n",
    "optimizer = torch.optim.Adam(model.parameters(), lr=0.001, betas=(0.9, 0.98), eps=1e-9)\n",
    "dataset = MyDataset(source, target, source_seqlen, target_seqlen)\n",
    "lr_scheduler = CosineAnnealingLR(\n",
    "    optimizer,\n",
    "    T_max=NUM_EPOCHS,\n",
    ")"
   ]
  },
  {
   "cell_type": "code",
   "execution_count": 69,
   "metadata": {},
   "outputs": [],
   "source": [
    "def train_epoch(model, optimizer):\n",
    "    model.train()\n",
    "    losses = 0\n",
    "    train_dataloader = DataLoader(dataset, batch_size=256, shuffle=True)\n",
    "    for src, tgt, src_seqlen, tgt_seqlen in tqdm(train_dataloader):\n",
    "        tgt_input = tgt[:, :-1]\n",
    "        src_mask, tgt_mask, src_padding_mask, tgt_padding_mask = create_mask(src, tgt_input)\n",
    "        logits = model(\n",
    "            src, tgt_input, src_mask, tgt_mask,\n",
    "            src_padding_mask, tgt_padding_mask, src_padding_mask,\n",
    "            src_seqlen, tgt_seqlen)\n",
    "        optimizer.zero_grad()\n",
    "        tgt_out = tgt[:, 1:]\n",
    "        loss = loss_fn(logits.reshape(-1, logits.shape[-1]), tgt_out.reshape(-1))\n",
    "        condition_prob = model.condition_encoder.condition4loss\n",
    "        reg_loss = - (condition_prob * torch.log(condition_prob + 1e-12)).sum(-1).mean()\n",
    "        losses += loss.item()\n",
    "        loss = loss + 1 * reg_loss\n",
    "        loss.backward()\n",
    "\n",
    "        optimizer.step()\n",
    "        lr_scheduler.step()\n",
    "    return losses / len(list(train_dataloader))"
   ]
  },
  {
   "cell_type": "code",
   "execution_count": 70,
   "metadata": {},
   "outputs": [
    {
     "name": "stderr",
     "output_type": "stream",
     "text": [
      "  5%|▍         | 7/153 [00:02<00:58,  2.49it/s]\n"
     ]
    },
    {
     "ename": "KeyboardInterrupt",
     "evalue": "",
     "output_type": "error",
     "traceback": [
      "\u001b[0;31m---------------------------------------------------------------------------\u001b[0m",
      "\u001b[0;31mKeyboardInterrupt\u001b[0m                         Traceback (most recent call last)",
      "Cell \u001b[0;32mIn[70], line 6\u001b[0m\n\u001b[1;32m      4\u001b[0m \u001b[38;5;28;01mfor\u001b[39;00m epoch \u001b[38;5;129;01min\u001b[39;00m \u001b[38;5;28mrange\u001b[39m(\u001b[38;5;241m1\u001b[39m, NUM_EPOCHS\u001b[38;5;241m+\u001b[39m\u001b[38;5;241m1\u001b[39m):\n\u001b[1;32m      5\u001b[0m     start_time \u001b[38;5;241m=\u001b[39m timer()\n\u001b[0;32m----> 6\u001b[0m     train_loss \u001b[38;5;241m=\u001b[39m \u001b[43mtrain_epoch\u001b[49m\u001b[43m(\u001b[49m\u001b[43mmodel\u001b[49m\u001b[43m,\u001b[49m\u001b[43m \u001b[49m\u001b[43moptimizer\u001b[49m\u001b[43m)\u001b[49m\n\u001b[1;32m      7\u001b[0m     end_time \u001b[38;5;241m=\u001b[39m timer()\n\u001b[1;32m      8\u001b[0m     \u001b[38;5;28mprint\u001b[39m((\u001b[38;5;124mf\u001b[39m\u001b[38;5;124m\"\u001b[39m\u001b[38;5;124mEpoch: \u001b[39m\u001b[38;5;132;01m{\u001b[39;00mepoch\u001b[38;5;132;01m}\u001b[39;00m\u001b[38;5;124m, Train loss: \u001b[39m\u001b[38;5;132;01m{\u001b[39;00mtrain_loss\u001b[38;5;132;01m:\u001b[39;00m\u001b[38;5;124m.3f\u001b[39m\u001b[38;5;132;01m}\u001b[39;00m\u001b[38;5;124m, \u001b[39m\u001b[38;5;124m\"\u001b[39m\u001b[38;5;124mf\u001b[39m\u001b[38;5;124m\"\u001b[39m\u001b[38;5;124mEpoch time = \u001b[39m\u001b[38;5;132;01m{\u001b[39;00m(end_time\u001b[38;5;250m \u001b[39m\u001b[38;5;241m-\u001b[39m\u001b[38;5;250m \u001b[39mstart_time)\u001b[38;5;132;01m:\u001b[39;00m\u001b[38;5;124m.3f\u001b[39m\u001b[38;5;132;01m}\u001b[39;00m\u001b[38;5;124ms\u001b[39m\u001b[38;5;124m\"\u001b[39m))\n",
      "Cell \u001b[0;32mIn[69], line 19\u001b[0m, in \u001b[0;36mtrain_epoch\u001b[0;34m(model, optimizer)\u001b[0m\n\u001b[1;32m     17\u001b[0m losses \u001b[38;5;241m+\u001b[39m\u001b[38;5;241m=\u001b[39m loss\u001b[38;5;241m.\u001b[39mitem()\n\u001b[1;32m     18\u001b[0m loss \u001b[38;5;241m=\u001b[39m loss \u001b[38;5;241m+\u001b[39m \u001b[38;5;241m1\u001b[39m \u001b[38;5;241m*\u001b[39m reg_loss\n\u001b[0;32m---> 19\u001b[0m \u001b[43mloss\u001b[49m\u001b[38;5;241;43m.\u001b[39;49m\u001b[43mbackward\u001b[49m\u001b[43m(\u001b[49m\u001b[43m)\u001b[49m\n\u001b[1;32m     21\u001b[0m optimizer\u001b[38;5;241m.\u001b[39mstep()\n\u001b[1;32m     22\u001b[0m lr_scheduler\u001b[38;5;241m.\u001b[39mstep()\n",
      "File \u001b[0;32m~/miniconda3/lib/python3.9/site-packages/torch/_tensor.py:487\u001b[0m, in \u001b[0;36mTensor.backward\u001b[0;34m(self, gradient, retain_graph, create_graph, inputs)\u001b[0m\n\u001b[1;32m    477\u001b[0m \u001b[38;5;28;01mif\u001b[39;00m has_torch_function_unary(\u001b[38;5;28mself\u001b[39m):\n\u001b[1;32m    478\u001b[0m     \u001b[38;5;28;01mreturn\u001b[39;00m handle_torch_function(\n\u001b[1;32m    479\u001b[0m         Tensor\u001b[38;5;241m.\u001b[39mbackward,\n\u001b[1;32m    480\u001b[0m         (\u001b[38;5;28mself\u001b[39m,),\n\u001b[0;32m   (...)\u001b[0m\n\u001b[1;32m    485\u001b[0m         inputs\u001b[38;5;241m=\u001b[39minputs,\n\u001b[1;32m    486\u001b[0m     )\n\u001b[0;32m--> 487\u001b[0m \u001b[43mtorch\u001b[49m\u001b[38;5;241;43m.\u001b[39;49m\u001b[43mautograd\u001b[49m\u001b[38;5;241;43m.\u001b[39;49m\u001b[43mbackward\u001b[49m\u001b[43m(\u001b[49m\n\u001b[1;32m    488\u001b[0m \u001b[43m    \u001b[49m\u001b[38;5;28;43mself\u001b[39;49m\u001b[43m,\u001b[49m\u001b[43m \u001b[49m\u001b[43mgradient\u001b[49m\u001b[43m,\u001b[49m\u001b[43m \u001b[49m\u001b[43mretain_graph\u001b[49m\u001b[43m,\u001b[49m\u001b[43m \u001b[49m\u001b[43mcreate_graph\u001b[49m\u001b[43m,\u001b[49m\u001b[43m \u001b[49m\u001b[43minputs\u001b[49m\u001b[38;5;241;43m=\u001b[39;49m\u001b[43minputs\u001b[49m\n\u001b[1;32m    489\u001b[0m \u001b[43m\u001b[49m\u001b[43m)\u001b[49m\n",
      "File \u001b[0;32m~/miniconda3/lib/python3.9/site-packages/torch/autograd/__init__.py:197\u001b[0m, in \u001b[0;36mbackward\u001b[0;34m(tensors, grad_tensors, retain_graph, create_graph, grad_variables, inputs)\u001b[0m\n\u001b[1;32m    192\u001b[0m     retain_graph \u001b[38;5;241m=\u001b[39m create_graph\n\u001b[1;32m    194\u001b[0m \u001b[38;5;66;03m# The reason we repeat same the comment below is that\u001b[39;00m\n\u001b[1;32m    195\u001b[0m \u001b[38;5;66;03m# some Python versions print out the first line of a multi-line function\u001b[39;00m\n\u001b[1;32m    196\u001b[0m \u001b[38;5;66;03m# calls in the traceback and some print out the last line\u001b[39;00m\n\u001b[0;32m--> 197\u001b[0m \u001b[43mVariable\u001b[49m\u001b[38;5;241;43m.\u001b[39;49m\u001b[43m_execution_engine\u001b[49m\u001b[38;5;241;43m.\u001b[39;49m\u001b[43mrun_backward\u001b[49m\u001b[43m(\u001b[49m\u001b[43m  \u001b[49m\u001b[38;5;66;43;03m# Calls into the C++ engine to run the backward pass\u001b[39;49;00m\n\u001b[1;32m    198\u001b[0m \u001b[43m    \u001b[49m\u001b[43mtensors\u001b[49m\u001b[43m,\u001b[49m\u001b[43m \u001b[49m\u001b[43mgrad_tensors_\u001b[49m\u001b[43m,\u001b[49m\u001b[43m \u001b[49m\u001b[43mretain_graph\u001b[49m\u001b[43m,\u001b[49m\u001b[43m \u001b[49m\u001b[43mcreate_graph\u001b[49m\u001b[43m,\u001b[49m\u001b[43m \u001b[49m\u001b[43minputs\u001b[49m\u001b[43m,\u001b[49m\n\u001b[1;32m    199\u001b[0m \u001b[43m    \u001b[49m\u001b[43mallow_unreachable\u001b[49m\u001b[38;5;241;43m=\u001b[39;49m\u001b[38;5;28;43;01mTrue\u001b[39;49;00m\u001b[43m,\u001b[49m\u001b[43m \u001b[49m\u001b[43maccumulate_grad\u001b[49m\u001b[38;5;241;43m=\u001b[39;49m\u001b[38;5;28;43;01mTrue\u001b[39;49;00m\u001b[43m)\u001b[49m\n",
      "\u001b[0;31mKeyboardInterrupt\u001b[0m: "
     ]
    }
   ],
   "source": [
    "from timeit import default_timer as timer\n",
    "\n",
    "\n",
    "for epoch in range(1, NUM_EPOCHS+1):\n",
    "    start_time = timer()\n",
    "    train_loss = train_epoch(model, optimizer)\n",
    "    end_time = timer()\n",
    "    print((f\"Epoch: {epoch}, Train loss: {train_loss:.3f}, \"f\"Epoch time = {(end_time - start_time):.3f}s\"))"
   ]
  },
  {
   "cell_type": "code",
   "execution_count": 51,
   "metadata": {},
   "outputs": [],
   "source": [
    "torch.save(model.state_dict(), f'translator-{dataset_name}-con2-real.pth')"
   ]
  },
  {
   "cell_type": "markdown",
   "metadata": {},
   "source": [
    "# Inference"
   ]
  },
  {
   "cell_type": "code",
   "execution_count": 46,
   "metadata": {},
   "outputs": [],
   "source": [
    "def inference_mask(logits, src, ys):\n",
    "    mask = torch.zeros_like(logits, device=logits.device, dtype=torch.bool)\n",
    "    mask = mask.scatter(-1, src, 1)\n",
    "    mask = mask.scatter(-1, ys, 0)\n",
    "    logits = torch.masked_fill(logits, ~mask, -torch.inf)\n",
    "    return logits\n",
    "\n",
    "def inference_mask_generative(logits, src, ys):\n",
    "    mask = torch.zeros_like(logits, device=logits.device, dtype=torch.bool)\n",
    "    mask = mask.scatter(-1, ys, 0)\n",
    "    logits = torch.masked_fill(logits, ~mask, -torch.inf)\n",
    "    return logits\n",
    "\n",
    "def greedy_decode(model, src, src_mask, max_len, start_symbol):\n",
    "    src = src.to('cuda')\n",
    "    src_mask = src_mask.to('cuda')\n",
    "\n",
    "    memory = model.encode(src, src_mask)\n",
    "    ys = torch.ones(1, 1).fill_(start_symbol).type(torch.long).to('cuda')\n",
    "    for i in range(max_len-1):\n",
    "        memory = memory.to('cuda')\n",
    "        tgt_mask = (generate_square_subsequent_mask(ys.size(1))\n",
    "                    .type(torch.bool)).to('cuda')\n",
    "        out = model.decode(ys, memory, tgt_mask)\n",
    "        prob = out[:, -1] @ model.item_embedding_decoder.weight.T\n",
    "        prob = inference_mask_generative(prob, src, ys)\n",
    "        _, next_word = torch.max(prob, dim=-1)\n",
    "        next_word = next_word.item()\n",
    "\n",
    "        ys = torch.cat([ys,\n",
    "                        torch.ones(1, 1).type_as(src.data).fill_(next_word)], dim=1)\n",
    "        if next_word == EOS:\n",
    "            break\n",
    "    return ys\n",
    "\n",
    "def translate(model: torch.nn.Module, src):\n",
    "    model.eval()\n",
    "    src = src.reshape(1, -1)\n",
    "    num_tokens = src.shape[1]\n",
    "    src_mask = (torch.zeros(num_tokens, num_tokens)).type(torch.bool)\n",
    "    tgt_tokens = greedy_decode(\n",
    "        model, src, src_mask, max_len=25, start_symbol=SOS).flatten()\n",
    "    return tgt_tokens\n",
    "\n"
   ]
  },
  {
   "cell_type": "code",
   "execution_count": 47,
   "metadata": {},
   "outputs": [],
   "source": [
    "def preprocess(seq):\n",
    "    return torch.tensor([SOS] + seq + [EOS], device='cuda')\n",
    "original_data = torch.load(f'./dataset/{full_dataset_name}-50/{dataset_name}/train_ori.pth')\n",
    "seqlist = [_[1][:_[3]] + [_[2][_[3] - 1]] for _ in original_data]\n",
    "seqlist = [preprocess(_) for _ in seqlist]"
   ]
  },
  {
   "cell_type": "code",
   "execution_count": 48,
   "metadata": {},
   "outputs": [
    {
     "ename": "RuntimeError",
     "evalue": "Error(s) in loading state_dict for Generator:\n\tsize mismatch for condition_linear.0.weight: copying a param with shape torch.Size([320, 64]) from checkpoint, the shape in current model is torch.Size([448, 64]).\n\tsize mismatch for condition_linear.0.bias: copying a param with shape torch.Size([320]) from checkpoint, the shape in current model is torch.Size([448]).\n\tsize mismatch for condition_linear.2.weight: copying a param with shape torch.Size([320, 320]) from checkpoint, the shape in current model is torch.Size([448, 448]).\n\tsize mismatch for condition_linear.2.bias: copying a param with shape torch.Size([320]) from checkpoint, the shape in current model is torch.Size([448]).\n\tsize mismatch for condition_encoder.condition_layer.2.weight: copying a param with shape torch.Size([5, 64]) from checkpoint, the shape in current model is torch.Size([7, 64]).\n\tsize mismatch for condition_encoder.condition_layer.2.bias: copying a param with shape torch.Size([5]) from checkpoint, the shape in current model is torch.Size([7]).",
     "output_type": "error",
     "traceback": [
      "\u001b[0;31m---------------------------------------------------------------------------\u001b[0m",
      "\u001b[0;31mRuntimeError\u001b[0m                              Traceback (most recent call last)",
      "Cell \u001b[0;32mIn[48], line 1\u001b[0m\n\u001b[0;32m----> 1\u001b[0m \u001b[43mmodel\u001b[49m\u001b[38;5;241;43m.\u001b[39;49m\u001b[43mload_state_dict\u001b[49m\u001b[43m(\u001b[49m\u001b[43mtorch\u001b[49m\u001b[38;5;241;43m.\u001b[39;49m\u001b[43mload\u001b[49m\u001b[43m(\u001b[49m\u001b[38;5;124;43mf\u001b[39;49m\u001b[38;5;124;43m'\u001b[39;49m\u001b[38;5;124;43mtranslator-\u001b[39;49m\u001b[38;5;132;43;01m{\u001b[39;49;00m\u001b[43mdataset_name\u001b[49m\u001b[38;5;132;43;01m}\u001b[39;49;00m\u001b[38;5;124;43m-con2-real.pth\u001b[39;49m\u001b[38;5;124;43m'\u001b[39;49m\u001b[43m)\u001b[49m\u001b[43m)\u001b[49m\n",
      "File \u001b[0;32m~/miniconda3/lib/python3.9/site-packages/torch/nn/modules/module.py:1667\u001b[0m, in \u001b[0;36mModule.load_state_dict\u001b[0;34m(self, state_dict, strict)\u001b[0m\n\u001b[1;32m   1662\u001b[0m         error_msgs\u001b[38;5;241m.\u001b[39minsert(\n\u001b[1;32m   1663\u001b[0m             \u001b[38;5;241m0\u001b[39m, \u001b[38;5;124m'\u001b[39m\u001b[38;5;124mMissing key(s) in state_dict: \u001b[39m\u001b[38;5;132;01m{}\u001b[39;00m\u001b[38;5;124m. \u001b[39m\u001b[38;5;124m'\u001b[39m\u001b[38;5;241m.\u001b[39mformat(\n\u001b[1;32m   1664\u001b[0m                 \u001b[38;5;124m'\u001b[39m\u001b[38;5;124m, \u001b[39m\u001b[38;5;124m'\u001b[39m\u001b[38;5;241m.\u001b[39mjoin(\u001b[38;5;124m'\u001b[39m\u001b[38;5;124m\"\u001b[39m\u001b[38;5;132;01m{}\u001b[39;00m\u001b[38;5;124m\"\u001b[39m\u001b[38;5;124m'\u001b[39m\u001b[38;5;241m.\u001b[39mformat(k) \u001b[38;5;28;01mfor\u001b[39;00m k \u001b[38;5;129;01min\u001b[39;00m missing_keys)))\n\u001b[1;32m   1666\u001b[0m \u001b[38;5;28;01mif\u001b[39;00m \u001b[38;5;28mlen\u001b[39m(error_msgs) \u001b[38;5;241m>\u001b[39m \u001b[38;5;241m0\u001b[39m:\n\u001b[0;32m-> 1667\u001b[0m     \u001b[38;5;28;01mraise\u001b[39;00m \u001b[38;5;167;01mRuntimeError\u001b[39;00m(\u001b[38;5;124m'\u001b[39m\u001b[38;5;124mError(s) in loading state_dict for \u001b[39m\u001b[38;5;132;01m{}\u001b[39;00m\u001b[38;5;124m:\u001b[39m\u001b[38;5;130;01m\\n\u001b[39;00m\u001b[38;5;130;01m\\t\u001b[39;00m\u001b[38;5;132;01m{}\u001b[39;00m\u001b[38;5;124m'\u001b[39m\u001b[38;5;241m.\u001b[39mformat(\n\u001b[1;32m   1668\u001b[0m                        \u001b[38;5;28mself\u001b[39m\u001b[38;5;241m.\u001b[39m\u001b[38;5;18m__class__\u001b[39m\u001b[38;5;241m.\u001b[39m\u001b[38;5;18m__name__\u001b[39m, \u001b[38;5;124m\"\u001b[39m\u001b[38;5;130;01m\\n\u001b[39;00m\u001b[38;5;130;01m\\t\u001b[39;00m\u001b[38;5;124m\"\u001b[39m\u001b[38;5;241m.\u001b[39mjoin(error_msgs)))\n\u001b[1;32m   1669\u001b[0m \u001b[38;5;28;01mreturn\u001b[39;00m _IncompatibleKeys(missing_keys, unexpected_keys)\n",
      "\u001b[0;31mRuntimeError\u001b[0m: Error(s) in loading state_dict for Generator:\n\tsize mismatch for condition_linear.0.weight: copying a param with shape torch.Size([320, 64]) from checkpoint, the shape in current model is torch.Size([448, 64]).\n\tsize mismatch for condition_linear.0.bias: copying a param with shape torch.Size([320]) from checkpoint, the shape in current model is torch.Size([448]).\n\tsize mismatch for condition_linear.2.weight: copying a param with shape torch.Size([320, 320]) from checkpoint, the shape in current model is torch.Size([448, 448]).\n\tsize mismatch for condition_linear.2.bias: copying a param with shape torch.Size([320]) from checkpoint, the shape in current model is torch.Size([448]).\n\tsize mismatch for condition_encoder.condition_layer.2.weight: copying a param with shape torch.Size([5, 64]) from checkpoint, the shape in current model is torch.Size([7, 64]).\n\tsize mismatch for condition_encoder.condition_layer.2.bias: copying a param with shape torch.Size([5]) from checkpoint, the shape in current model is torch.Size([7])."
     ]
    }
   ],
   "source": [
    "model.load_state_dict(torch.load(f'translator-{dataset_name}-con2-real.pth'))"
   ]
  },
  {
   "cell_type": "code",
   "execution_count": 27,
   "metadata": {},
   "outputs": [
    {
     "name": "stdout",
     "output_type": "stream",
     "text": [
      "tensor([12102,  4025,  3134,  7089,  5609,  9592,  9585,  3716,  4858,  5607,\n",
      "         5608,  2616,  8561, 10389,  8562,  9087, 10759,  9288, 10689, 10984,\n",
      "         8387, 10896,  3625,  5931,  3311, 10378, 11801, 11729, 11897, 11901,\n",
      "            7, 12103,     0,     0,     0,     0,     0,     0,     0,     0,\n",
      "            0,     0,     0,     0,     0,     0,     0,     0,     0,     0])\n",
      "tensor([12102, 10689, 10896, 12103], device='cuda:0')\n",
      "tensor([12102,  9288, 10689, 12103,     0,     0,     0,     0,     0,     0,\n",
      "            0,     0,     0,     0,     0,     0,     0,     0,     0,     0])\n"
     ]
    }
   ],
   "source": [
    "idx = 99\n",
    "model.set_condition(1)\n",
    "print(source[idx])\n",
    "print(translate(model, source[idx]))\n",
    "print(target[idx])"
   ]
  },
  {
   "cell_type": "code",
   "execution_count": 50,
   "metadata": {},
   "outputs": [
    {
     "name": "stderr",
     "output_type": "stream",
     "text": [
      "100%|██████████| 100/100 [00:09<00:00, 10.66it/s]\n"
     ]
    }
   ],
   "source": [
    "model.condition = 0\n",
    "filtered_sequences = []\n",
    "for seq in tqdm(seqlist[:100]):\n",
    "    rst = translate(model, seq)\n",
    "    filtered_sequences.append(rst)"
   ]
  },
  {
   "cell_type": "code",
   "execution_count": 48,
   "metadata": {},
   "outputs": [
    {
     "data": {
      "text/plain": [
       "[tensor([11925, 11472, 10158, 11926], device='cuda:0'),\n",
       " tensor([11925,     1,  2296,  2297, 11926], device='cuda:0'),\n",
       " tensor([11925,     1,  2296, 11926], device='cuda:0'),\n",
       " tensor([11925,  1074,  4012, 11926], device='cuda:0'),\n",
       " tensor([11925,  1919,  3652, 11926], device='cuda:0')]"
      ]
     },
     "execution_count": 48,
     "metadata": {},
     "output_type": "execute_result"
    }
   ],
   "source": [
    "filtered_sequences[:5]"
   ]
  },
  {
   "cell_type": "code",
   "execution_count": 21,
   "metadata": {},
   "outputs": [],
   "source": [
    "debug = deepcopy(filtered_sequences)"
   ]
  },
  {
   "cell_type": "code",
   "execution_count": 23,
   "metadata": {},
   "outputs": [
    {
     "name": "stdout",
     "output_type": "stream",
     "text": [
      "70\n"
     ]
    }
   ],
   "source": [
    "cnt = 0\n",
    "for a, b in zip(debug, filtered_sequences):\n",
    "    if len(a) == len(b):\n",
    "        if (a == b).all():\n",
    "            cnt += 1\n",
    "print(cnt)"
   ]
  }
 ],
 "metadata": {
  "kernelspec": {
   "display_name": "torch",
   "language": "python",
   "name": "python3"
  },
  "language_info": {
   "codemirror_mode": {
    "name": "ipython",
    "version": 3
   },
   "file_extension": ".py",
   "mimetype": "text/x-python",
   "name": "python",
   "nbconvert_exporter": "python",
   "pygments_lexer": "ipython3",
   "version": "3.9.15"
  }
 },
 "nbformat": 4,
 "nbformat_minor": 2
}
